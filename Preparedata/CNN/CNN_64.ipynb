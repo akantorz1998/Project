{
 "cells": [
  {
   "cell_type": "code",
   "execution_count": 1,
   "metadata": {},
   "outputs": [
    {
     "name": "stderr",
     "output_type": "stream",
     "text": [
      "C:\\Users\\nataw\\Anaconda3\\lib\\site-packages\\tensorflow\\python\\framework\\dtypes.py:516: FutureWarning: Passing (type, 1) or '1type' as a synonym of type is deprecated; in a future version of numpy, it will be understood as (type, (1,)) / '(1,)type'.\n",
      "  _np_qint8 = np.dtype([(\"qint8\", np.int8, 1)])\n",
      "C:\\Users\\nataw\\Anaconda3\\lib\\site-packages\\tensorflow\\python\\framework\\dtypes.py:517: FutureWarning: Passing (type, 1) or '1type' as a synonym of type is deprecated; in a future version of numpy, it will be understood as (type, (1,)) / '(1,)type'.\n",
      "  _np_quint8 = np.dtype([(\"quint8\", np.uint8, 1)])\n",
      "C:\\Users\\nataw\\Anaconda3\\lib\\site-packages\\tensorflow\\python\\framework\\dtypes.py:518: FutureWarning: Passing (type, 1) or '1type' as a synonym of type is deprecated; in a future version of numpy, it will be understood as (type, (1,)) / '(1,)type'.\n",
      "  _np_qint16 = np.dtype([(\"qint16\", np.int16, 1)])\n",
      "C:\\Users\\nataw\\Anaconda3\\lib\\site-packages\\tensorflow\\python\\framework\\dtypes.py:519: FutureWarning: Passing (type, 1) or '1type' as a synonym of type is deprecated; in a future version of numpy, it will be understood as (type, (1,)) / '(1,)type'.\n",
      "  _np_quint16 = np.dtype([(\"quint16\", np.uint16, 1)])\n",
      "C:\\Users\\nataw\\Anaconda3\\lib\\site-packages\\tensorflow\\python\\framework\\dtypes.py:520: FutureWarning: Passing (type, 1) or '1type' as a synonym of type is deprecated; in a future version of numpy, it will be understood as (type, (1,)) / '(1,)type'.\n",
      "  _np_qint32 = np.dtype([(\"qint32\", np.int32, 1)])\n",
      "C:\\Users\\nataw\\Anaconda3\\lib\\site-packages\\tensorflow\\python\\framework\\dtypes.py:525: FutureWarning: Passing (type, 1) or '1type' as a synonym of type is deprecated; in a future version of numpy, it will be understood as (type, (1,)) / '(1,)type'.\n",
      "  np_resource = np.dtype([(\"resource\", np.ubyte, 1)])\n",
      "C:\\Users\\nataw\\Anaconda3\\lib\\site-packages\\tensorboard\\compat\\tensorflow_stub\\dtypes.py:541: FutureWarning: Passing (type, 1) or '1type' as a synonym of type is deprecated; in a future version of numpy, it will be understood as (type, (1,)) / '(1,)type'.\n",
      "  _np_qint8 = np.dtype([(\"qint8\", np.int8, 1)])\n",
      "C:\\Users\\nataw\\Anaconda3\\lib\\site-packages\\tensorboard\\compat\\tensorflow_stub\\dtypes.py:542: FutureWarning: Passing (type, 1) or '1type' as a synonym of type is deprecated; in a future version of numpy, it will be understood as (type, (1,)) / '(1,)type'.\n",
      "  _np_quint8 = np.dtype([(\"quint8\", np.uint8, 1)])\n",
      "C:\\Users\\nataw\\Anaconda3\\lib\\site-packages\\tensorboard\\compat\\tensorflow_stub\\dtypes.py:543: FutureWarning: Passing (type, 1) or '1type' as a synonym of type is deprecated; in a future version of numpy, it will be understood as (type, (1,)) / '(1,)type'.\n",
      "  _np_qint16 = np.dtype([(\"qint16\", np.int16, 1)])\n",
      "C:\\Users\\nataw\\Anaconda3\\lib\\site-packages\\tensorboard\\compat\\tensorflow_stub\\dtypes.py:544: FutureWarning: Passing (type, 1) or '1type' as a synonym of type is deprecated; in a future version of numpy, it will be understood as (type, (1,)) / '(1,)type'.\n",
      "  _np_quint16 = np.dtype([(\"quint16\", np.uint16, 1)])\n",
      "C:\\Users\\nataw\\Anaconda3\\lib\\site-packages\\tensorboard\\compat\\tensorflow_stub\\dtypes.py:545: FutureWarning: Passing (type, 1) or '1type' as a synonym of type is deprecated; in a future version of numpy, it will be understood as (type, (1,)) / '(1,)type'.\n",
      "  _np_qint32 = np.dtype([(\"qint32\", np.int32, 1)])\n",
      "C:\\Users\\nataw\\Anaconda3\\lib\\site-packages\\tensorboard\\compat\\tensorflow_stub\\dtypes.py:550: FutureWarning: Passing (type, 1) or '1type' as a synonym of type is deprecated; in a future version of numpy, it will be understood as (type, (1,)) / '(1,)type'.\n",
      "  np_resource = np.dtype([(\"resource\", np.ubyte, 1)])\n",
      "Using TensorFlow backend.\n"
     ]
    }
   ],
   "source": [
    "from tensorflow.compat.v1 import ConfigProto\n",
    "from tensorflow.compat.v1 import InteractiveSession\n",
    "config = ConfigProto()\n",
    "config.gpu_options.allow_growth = True\n",
    "session = InteractiveSession(config=config)\n",
    "\n",
    "from sklearn.model_selection import train_test_split\n",
    "from sklearn.metrics import roc_curve, roc_auc_score, f1_score\n",
    "import numpy as np\n",
    "import matplotlib.pyplot as plt\n",
    "from sklearn.metrics import accuracy_score\n",
    "from sklearn.metrics import confusion_matrix\n",
    "from sklearn import metrics\n",
    "import warnings\n",
    "import tensorflow as tf\n",
    "import os\n",
    "import numpy as np\n",
    "import pandas as pd\n",
    "import cv2\n",
    "import matplotlib.pyplot as plt\n",
    "from keras.preprocessing.image import ImageDataGenerator\n",
    "from keras.models import load_model\n",
    "from sklearn.metrics import classification_report\n",
    "from random import shuffle"
   ]
  },
  {
   "cell_type": "code",
   "execution_count": 40,
   "metadata": {},
   "outputs": [],
   "source": [
    "from sklearn import metrics"
   ]
  },
  {
   "cell_type": "code",
   "execution_count": 2,
   "metadata": {},
   "outputs": [],
   "source": [
    "def load_images_from_folder():\n",
    "    img_size = 64\n",
    "    images = []\n",
    "    image_paths = 'E:/Drowsiness/Data_CNN/train/alert/'\n",
    "    for filename in os.listdir(image_paths):\n",
    "        img = cv2.imread(os.path.join(image_paths,filename))\n",
    "        if img is not None:\n",
    "            img = cv2.resize(img,(img_size,img_size))\n",
    "            images.append([np.array(img),[1,0]])\n",
    "    \n",
    "    image_paths = 'E:/Drowsiness/Data_CNN/train/drowsy/'\n",
    "    for filename in os.listdir(image_paths):\n",
    "        img = cv2.imread(os.path.join(image_paths,filename))\n",
    "        if img is not None:\n",
    "            img = cv2.resize(img,(img_size,img_size))\n",
    "            images.append([np.array(img),[0,1]])\n",
    "    shuffle(images)\n",
    "    return images"
   ]
  },
  {
   "cell_type": "code",
   "execution_count": 3,
   "metadata": {},
   "outputs": [],
   "source": [
    "def load_images_from_folder_test():\n",
    "    img_size = 64\n",
    "    images = []\n",
    "    image_paths = 'E:/Drowsiness/Data_CNN/test/alert/'\n",
    "    for filename in os.listdir(image_paths):\n",
    "        img = cv2.imread(os.path.join(image_paths,filename))\n",
    "        if img is not None:\n",
    "            img = cv2.resize(img,(img_size,img_size))\n",
    "            images.append([np.array(img),[1,0]])\n",
    "    \n",
    "    image_paths = 'E:/Drowsiness/Data_CNN/test/drowsy/'\n",
    "    for filename in os.listdir(image_paths):\n",
    "        img = cv2.imread(os.path.join(image_paths,filename))\n",
    "        if img is not None:\n",
    "            img = cv2.resize(img,(img_size,img_size))\n",
    "            images.append([np.array(img),[0,1]])\n",
    "    shuffle(images)\n",
    "    return images"
   ]
  },
  {
   "cell_type": "code",
   "execution_count": 4,
   "metadata": {},
   "outputs": [],
   "source": [
    "train = load_images_from_folder()"
   ]
  },
  {
   "cell_type": "code",
   "execution_count": 5,
   "metadata": {},
   "outputs": [],
   "source": [
    "train = np.array(train)"
   ]
  },
  {
   "cell_type": "code",
   "execution_count": 6,
   "metadata": {},
   "outputs": [
    {
     "data": {
      "text/plain": [
       "(4851, 2)"
      ]
     },
     "execution_count": 6,
     "metadata": {},
     "output_type": "execute_result"
    }
   ],
   "source": [
    "train.shape"
   ]
  },
  {
   "cell_type": "code",
   "execution_count": 8,
   "metadata": {},
   "outputs": [],
   "source": [
    "X_train = np.array([i[0] for i in train]).reshape(-1,64,64,3)/255."
   ]
  },
  {
   "cell_type": "code",
   "execution_count": 9,
   "metadata": {},
   "outputs": [],
   "source": [
    "y_train = np.array([i[1] for i in train])"
   ]
  },
  {
   "cell_type": "code",
   "execution_count": 10,
   "metadata": {},
   "outputs": [],
   "source": [
    "train = 0"
   ]
  },
  {
   "cell_type": "code",
   "execution_count": 11,
   "metadata": {},
   "outputs": [],
   "source": [
    "datagen = ImageDataGenerator(rotation_range=30,width_shift_range=0.2)\n",
    "datagen.fit(X_train)"
   ]
  },
  {
   "cell_type": "code",
   "execution_count": 12,
   "metadata": {},
   "outputs": [],
   "source": [
    "X_train, X_test, y_train, y_test = train_test_split(X_train, y_train, test_size=0.2, random_state=42)"
   ]
  },
  {
   "cell_type": "code",
   "execution_count": 43,
   "metadata": {},
   "outputs": [],
   "source": [
    "from keras import backend\n",
    "from keras.models import Sequential\n",
    "from keras.layers.convolutional import Conv2D,MaxPooling2D\n",
    "from keras.layers.core import Dense, Flatten,Activation,Dropout\n",
    "model = Sequential()\n",
    "# Layer 1: Convolutional Layer\n",
    "model.add(Conv2D(filters=32, kernel_size=(3,3), input_shape=(64,64,3), activation='relu',))\n",
    "# Layer 2: Pooling Layer\n",
    "model.add(MaxPooling2D(pool_size=(3,3)))\n",
    "# Layer 3: Convolutional Layer\n",
    "model.add(Conv2D(filters=32, kernel_size=(3,3), input_shape=(64,64,3), activation='relu',))\n",
    "# Layer 4: Pooling Layer\n",
    "model.add(MaxPooling2D(pool_size=(3,3)))\n",
    "# Layer 5: Flatten Layer\n",
    "model.add(Conv2D(filters=64, kernel_size=(3,3), input_shape=(64,64,3), activation='relu',))\n",
    "\n",
    "model.add(MaxPooling2D(pool_size=(3,3)))\n",
    "\n",
    "model.add(Flatten())\n",
    "# Layer 6: Dense Layer (Hidden Layer)\n",
    "model.add(Dense(512, activation='relu'))\n",
    "model.add(Dropout(0.2))\n",
    "# Layer 7: Dense Layer (Output Layer)\n",
    "model.add(Dense(2, activation='softmax'))"
   ]
  },
  {
   "cell_type": "code",
   "execution_count": 44,
   "metadata": {},
   "outputs": [
    {
     "name": "stdout",
     "output_type": "stream",
     "text": [
      "Model: \"sequential_4\"\n",
      "_________________________________________________________________\n",
      "Layer (type)                 Output Shape              Param #   \n",
      "=================================================================\n",
      "conv2d_10 (Conv2D)           (None, 62, 62, 32)        896       \n",
      "_________________________________________________________________\n",
      "max_pooling2d_10 (MaxPooling (None, 20, 20, 32)        0         \n",
      "_________________________________________________________________\n",
      "conv2d_11 (Conv2D)           (None, 18, 18, 32)        9248      \n",
      "_________________________________________________________________\n",
      "max_pooling2d_11 (MaxPooling (None, 6, 6, 32)          0         \n",
      "_________________________________________________________________\n",
      "conv2d_12 (Conv2D)           (None, 4, 4, 64)          18496     \n",
      "_________________________________________________________________\n",
      "max_pooling2d_12 (MaxPooling (None, 1, 1, 64)          0         \n",
      "_________________________________________________________________\n",
      "flatten_4 (Flatten)          (None, 64)                0         \n",
      "_________________________________________________________________\n",
      "dense_7 (Dense)              (None, 512)               33280     \n",
      "_________________________________________________________________\n",
      "dropout_4 (Dropout)          (None, 512)               0         \n",
      "_________________________________________________________________\n",
      "dense_8 (Dense)              (None, 2)                 1026      \n",
      "=================================================================\n",
      "Total params: 62,946\n",
      "Trainable params: 62,946\n",
      "Non-trainable params: 0\n",
      "_________________________________________________________________\n"
     ]
    }
   ],
   "source": [
    "model.summary()"
   ]
  },
  {
   "cell_type": "code",
   "execution_count": 45,
   "metadata": {},
   "outputs": [],
   "source": [
    "model.compile(optimizer=\"adam\",loss='categorical_crossentropy',metrics=['accuracy'])"
   ]
  },
  {
   "cell_type": "code",
   "execution_count": 46,
   "metadata": {},
   "outputs": [
    {
     "name": "stdout",
     "output_type": "stream",
     "text": [
      "Epoch 1/50\n",
      "122/121 [==============================] - 4s 32ms/step - loss: 0.6648 - accuracy: 0.6152 - val_loss: 0.6746 - val_accuracy: 0.6437\n",
      "Epoch 2/50\n",
      "122/121 [==============================] - 4s 30ms/step - loss: 0.6456 - accuracy: 0.6371 - val_loss: 0.6247 - val_accuracy: 0.6498\n",
      "Epoch 3/50\n",
      "122/121 [==============================] - 4s 31ms/step - loss: 0.6392 - accuracy: 0.6443 - val_loss: 0.6175 - val_accuracy: 0.6612\n",
      "Epoch 4/50\n",
      "122/121 [==============================] - 4s 31ms/step - loss: 0.6308 - accuracy: 0.6389 - val_loss: 0.6097 - val_accuracy: 0.6571\n",
      "Epoch 5/50\n",
      "122/121 [==============================] - 4s 31ms/step - loss: 0.6153 - accuracy: 0.6585 - val_loss: 0.6042 - val_accuracy: 0.6735\n",
      "Epoch 6/50\n",
      "122/121 [==============================] - 4s 32ms/step - loss: 0.5936 - accuracy: 0.6874 - val_loss: 0.5449 - val_accuracy: 0.7178\n",
      "Epoch 7/50\n",
      "122/121 [==============================] - 4s 31ms/step - loss: 0.5775 - accuracy: 0.6951 - val_loss: 0.5247 - val_accuracy: 0.7343\n",
      "Epoch 8/50\n",
      "122/121 [==============================] - 4s 31ms/step - loss: 0.5693 - accuracy: 0.6987 - val_loss: 0.5366 - val_accuracy: 0.7456\n",
      "Epoch 9/50\n",
      "122/121 [==============================] - 4s 31ms/step - loss: 0.5277 - accuracy: 0.7369 - val_loss: 0.4457 - val_accuracy: 0.7765\n",
      "Epoch 10/50\n",
      "122/121 [==============================] - 4s 32ms/step - loss: 0.4795 - accuracy: 0.7572 - val_loss: 0.4056 - val_accuracy: 0.8208\n",
      "Epoch 11/50\n",
      "122/121 [==============================] - 4s 32ms/step - loss: 0.4102 - accuracy: 0.8054 - val_loss: 0.3539 - val_accuracy: 0.8435\n",
      "Epoch 12/50\n",
      "122/121 [==============================] - 4s 30ms/step - loss: 0.3953 - accuracy: 0.8168 - val_loss: 0.3357 - val_accuracy: 0.8517\n",
      "Epoch 13/50\n",
      "122/121 [==============================] - 4s 32ms/step - loss: 0.3789 - accuracy: 0.8216 - val_loss: 0.3940 - val_accuracy: 0.8177\n",
      "Epoch 14/50\n",
      "122/121 [==============================] - 4s 31ms/step - loss: 0.3439 - accuracy: 0.8392 - val_loss: 0.3563 - val_accuracy: 0.8424\n",
      "Epoch 15/50\n",
      "122/121 [==============================] - 4s 31ms/step - loss: 0.3246 - accuracy: 0.8531 - val_loss: 0.3081 - val_accuracy: 0.8661\n",
      "Epoch 16/50\n",
      "122/121 [==============================] - 4s 31ms/step - loss: 0.3178 - accuracy: 0.8606 - val_loss: 0.2869 - val_accuracy: 0.8744\n",
      "Epoch 17/50\n",
      "122/121 [==============================] - 4s 33ms/step - loss: 0.2916 - accuracy: 0.8711 - val_loss: 0.2811 - val_accuracy: 0.8919\n",
      "Epoch 18/50\n",
      "122/121 [==============================] - 4s 31ms/step - loss: 0.2769 - accuracy: 0.8802 - val_loss: 0.2804 - val_accuracy: 0.8795\n",
      "Epoch 19/50\n",
      "122/121 [==============================] - 4s 32ms/step - loss: 0.2806 - accuracy: 0.8832 - val_loss: 0.2529 - val_accuracy: 0.8929\n",
      "Epoch 20/50\n",
      "122/121 [==============================] - 4s 32ms/step - loss: 0.2815 - accuracy: 0.8781 - val_loss: 0.2657 - val_accuracy: 0.8836\n",
      "Epoch 21/50\n",
      "122/121 [==============================] - 4s 31ms/step - loss: 0.2604 - accuracy: 0.8892 - val_loss: 0.2371 - val_accuracy: 0.9042\n",
      "Epoch 22/50\n",
      "122/121 [==============================] - 4s 32ms/step - loss: 0.2556 - accuracy: 0.8948 - val_loss: 0.2706 - val_accuracy: 0.8960\n",
      "Epoch 23/50\n",
      "122/121 [==============================] - 4s 32ms/step - loss: 0.2475 - accuracy: 0.8972 - val_loss: 0.2263 - val_accuracy: 0.9166\n",
      "Epoch 24/50\n",
      "122/121 [==============================] - 4s 31ms/step - loss: 0.2415 - accuracy: 0.8943 - val_loss: 0.2492 - val_accuracy: 0.9073\n",
      "Epoch 25/50\n",
      "122/121 [==============================] - 4s 32ms/step - loss: 0.2375 - accuracy: 0.9052 - val_loss: 0.2915 - val_accuracy: 0.8774\n",
      "Epoch 26/50\n",
      "122/121 [==============================] - 4s 32ms/step - loss: 0.2402 - accuracy: 0.9005 - val_loss: 0.2254 - val_accuracy: 0.9104\n",
      "Epoch 27/50\n",
      "122/121 [==============================] - 4s 34ms/step - loss: 0.2250 - accuracy: 0.9026 - val_loss: 0.1940 - val_accuracy: 0.9238\n",
      "Epoch 28/50\n",
      "122/121 [==============================] - 4s 34ms/step - loss: 0.2188 - accuracy: 0.9113 - val_loss: 0.2322 - val_accuracy: 0.9094\n",
      "Epoch 29/50\n",
      "122/121 [==============================] - 4s 33ms/step - loss: 0.2158 - accuracy: 0.9144 - val_loss: 0.2151 - val_accuracy: 0.9135\n",
      "Epoch 30/50\n",
      "122/121 [==============================] - 4s 32ms/step - loss: 0.2064 - accuracy: 0.9144 - val_loss: 0.2192 - val_accuracy: 0.9197\n",
      "Epoch 31/50\n",
      "122/121 [==============================] - 4s 32ms/step - loss: 0.2116 - accuracy: 0.9175 - val_loss: 0.2146 - val_accuracy: 0.9258\n",
      "Epoch 32/50\n",
      "122/121 [==============================] - 4s 32ms/step - loss: 0.2212 - accuracy: 0.9106 - val_loss: 0.2018 - val_accuracy: 0.9228\n",
      "Epoch 33/50\n",
      "122/121 [==============================] - 4s 32ms/step - loss: 0.1975 - accuracy: 0.9224 - val_loss: 0.1913 - val_accuracy: 0.9258\n",
      "Epoch 34/50\n",
      "122/121 [==============================] - 4s 34ms/step - loss: 0.1977 - accuracy: 0.9268 - val_loss: 0.1908 - val_accuracy: 0.9289\n",
      "Epoch 35/50\n",
      "122/121 [==============================] - 4s 32ms/step - loss: 0.1893 - accuracy: 0.9242 - val_loss: 0.2132 - val_accuracy: 0.9238\n",
      "Epoch 36/50\n",
      "122/121 [==============================] - 4s 31ms/step - loss: 0.1875 - accuracy: 0.9247 - val_loss: 0.1917 - val_accuracy: 0.9279\n",
      "Epoch 37/50\n",
      "122/121 [==============================] - 4s 32ms/step - loss: 0.1887 - accuracy: 0.9209 - val_loss: 0.1937 - val_accuracy: 0.9207\n",
      "Epoch 38/50\n",
      "122/121 [==============================] - 4s 32ms/step - loss: 0.1888 - accuracy: 0.9235 - val_loss: 0.2017 - val_accuracy: 0.9176\n",
      "Epoch 39/50\n",
      "122/121 [==============================] - 4s 31ms/step - loss: 0.1685 - accuracy: 0.9340 - val_loss: 0.2069 - val_accuracy: 0.9207\n",
      "Epoch 40/50\n",
      "122/121 [==============================] - 4s 32ms/step - loss: 0.1933 - accuracy: 0.9224 - val_loss: 0.1907 - val_accuracy: 0.9248\n",
      "Epoch 41/50\n",
      "122/121 [==============================] - 4s 32ms/step - loss: 0.1775 - accuracy: 0.9314 - val_loss: 0.1750 - val_accuracy: 0.9341\n",
      "Epoch 42/50\n",
      "122/121 [==============================] - 4s 31ms/step - loss: 0.1684 - accuracy: 0.9345 - val_loss: 0.2004 - val_accuracy: 0.9207\n",
      "Epoch 43/50\n",
      "122/121 [==============================] - 4s 33ms/step - loss: 0.1695 - accuracy: 0.9358 - val_loss: 0.1914 - val_accuracy: 0.9279\n",
      "Epoch 44/50\n",
      "122/121 [==============================] - 4s 33ms/step - loss: 0.1704 - accuracy: 0.9351 - val_loss: 0.2683 - val_accuracy: 0.9032\n",
      "Epoch 45/50\n",
      "122/121 [==============================] - 4s 34ms/step - loss: 0.1725 - accuracy: 0.9327 - val_loss: 0.2019 - val_accuracy: 0.9176\n",
      "Epoch 46/50\n",
      "122/121 [==============================] - 4s 33ms/step - loss: 0.1688 - accuracy: 0.9314 - val_loss: 0.2020 - val_accuracy: 0.9258\n",
      "Epoch 47/50\n",
      "122/121 [==============================] - 4s 33ms/step - loss: 0.1703 - accuracy: 0.9299 - val_loss: 0.2223 - val_accuracy: 0.9197\n",
      "Epoch 48/50\n",
      "122/121 [==============================] - 4s 32ms/step - loss: 0.1609 - accuracy: 0.9356 - val_loss: 0.2150 - val_accuracy: 0.9207\n",
      "Epoch 49/50\n",
      "122/121 [==============================] - 4s 34ms/step - loss: 0.1619 - accuracy: 0.9387 - val_loss: 0.1949 - val_accuracy: 0.9186\n",
      "Epoch 50/50\n",
      "122/121 [==============================] - 4s 34ms/step - loss: 0.1604 - accuracy: 0.9343 - val_loss: 0.1824 - val_accuracy: 0.9300\n"
     ]
    },
    {
     "data": {
      "text/plain": [
       "<keras.callbacks.callbacks.History at 0x1d0bca8e888>"
      ]
     },
     "execution_count": 46,
     "metadata": {},
     "output_type": "execute_result"
    }
   ],
   "source": [
    "tf.debugging.set_log_device_placement(True)\n",
    "model.fit(datagen.flow(X_train, y_train, batch_size=32),\n",
    "                    validation_data=(X_test,y_test),\n",
    "                    steps_per_epoch=len(X_train) / 32, epochs=50)"
   ]
  },
  {
   "cell_type": "markdown",
   "metadata": {},
   "source": [
    "."
   ]
  },
  {
   "cell_type": "code",
   "execution_count": 50,
   "metadata": {},
   "outputs": [],
   "source": [
    "model.save('CNN_64_50.h5')"
   ]
  },
  {
   "cell_type": "markdown",
   "metadata": {},
   "source": [
    "<h1>เพิ่ม 50 รอบ<h1>"
   ]
  },
  {
   "cell_type": "code",
   "execution_count": 51,
   "metadata": {},
   "outputs": [
    {
     "name": "stdout",
     "output_type": "stream",
     "text": [
      "Epoch 1/50\n",
      "122/121 [==============================] - 4s 33ms/step - loss: 0.1514 - accuracy: 0.9361 - val_loss: 0.2062 - val_accuracy: 0.9197\n",
      "Epoch 2/50\n",
      "122/121 [==============================] - 4s 30ms/step - loss: 0.1549 - accuracy: 0.9446 - val_loss: 0.1895 - val_accuracy: 0.9310\n",
      "Epoch 3/50\n",
      "122/121 [==============================] - 4s 30ms/step - loss: 0.1494 - accuracy: 0.9420 - val_loss: 0.2694 - val_accuracy: 0.9042\n",
      "Epoch 4/50\n",
      "122/121 [==============================] - 4s 31ms/step - loss: 0.1680 - accuracy: 0.9338 - val_loss: 0.1821 - val_accuracy: 0.9248\n",
      "Epoch 5/50\n",
      "122/121 [==============================] - 4s 30ms/step - loss: 0.1488 - accuracy: 0.9451 - val_loss: 0.1821 - val_accuracy: 0.9372\n",
      "Epoch 6/50\n",
      "122/121 [==============================] - 4s 30ms/step - loss: 0.1580 - accuracy: 0.9369 - val_loss: 0.2186 - val_accuracy: 0.9228\n",
      "Epoch 7/50\n",
      "122/121 [==============================] - 4s 32ms/step - loss: 0.1533 - accuracy: 0.9461 - val_loss: 0.1974 - val_accuracy: 0.9310\n",
      "Epoch 8/50\n",
      "122/121 [==============================] - 4s 30ms/step - loss: 0.1597 - accuracy: 0.9343 - val_loss: 0.1644 - val_accuracy: 0.9341\n",
      "Epoch 9/50\n",
      "122/121 [==============================] - 4s 30ms/step - loss: 0.1544 - accuracy: 0.9405 - val_loss: 0.1792 - val_accuracy: 0.9341\n",
      "Epoch 10/50\n",
      "122/121 [==============================] - 4s 32ms/step - loss: 0.1487 - accuracy: 0.9420 - val_loss: 0.1811 - val_accuracy: 0.9341\n",
      "Epoch 11/50\n",
      "122/121 [==============================] - 4s 31ms/step - loss: 0.1429 - accuracy: 0.9451 - val_loss: 0.1595 - val_accuracy: 0.9392\n",
      "Epoch 12/50\n",
      "122/121 [==============================] - 4s 31ms/step - loss: 0.1324 - accuracy: 0.9461 - val_loss: 0.1855 - val_accuracy: 0.9320\n",
      "Epoch 13/50\n",
      "122/121 [==============================] - 4s 32ms/step - loss: 0.1414 - accuracy: 0.9469 - val_loss: 0.2367 - val_accuracy: 0.9269\n",
      "Epoch 14/50\n",
      "122/121 [==============================] - 4s 32ms/step - loss: 0.1448 - accuracy: 0.9418 - val_loss: 0.1810 - val_accuracy: 0.9341\n",
      "Epoch 15/50\n",
      "122/121 [==============================] - 4s 33ms/step - loss: 0.1378 - accuracy: 0.9490 - val_loss: 0.2019 - val_accuracy: 0.9320\n",
      "Epoch 16/50\n",
      "122/121 [==============================] - 4s 33ms/step - loss: 0.1353 - accuracy: 0.9482 - val_loss: 0.1627 - val_accuracy: 0.9331\n",
      "Epoch 17/50\n",
      "122/121 [==============================] - 4s 30ms/step - loss: 0.1373 - accuracy: 0.9423 - val_loss: 0.1886 - val_accuracy: 0.9228\n",
      "Epoch 18/50\n",
      "122/121 [==============================] - 4s 32ms/step - loss: 0.1332 - accuracy: 0.9482 - val_loss: 0.2691 - val_accuracy: 0.9063\n",
      "Epoch 19/50\n",
      "122/121 [==============================] - 4s 32ms/step - loss: 0.1377 - accuracy: 0.9464 - val_loss: 0.1690 - val_accuracy: 0.9341\n",
      "Epoch 20/50\n",
      "122/121 [==============================] - 4s 32ms/step - loss: 0.1476 - accuracy: 0.9428 - val_loss: 0.2584 - val_accuracy: 0.9114\n",
      "Epoch 21/50\n",
      "122/121 [==============================] - 4s 32ms/step - loss: 0.1348 - accuracy: 0.9474 - val_loss: 0.1891 - val_accuracy: 0.9423\n",
      "Epoch 22/50\n",
      "122/121 [==============================] - 4s 33ms/step - loss: 0.1364 - accuracy: 0.9456 - val_loss: 0.2250 - val_accuracy: 0.9279\n",
      "Epoch 23/50\n",
      "122/121 [==============================] - 4s 32ms/step - loss: 0.1346 - accuracy: 0.9500 - val_loss: 0.1653 - val_accuracy: 0.9423\n",
      "Epoch 24/50\n",
      "122/121 [==============================] - 4s 32ms/step - loss: 0.1266 - accuracy: 0.9477 - val_loss: 0.1708 - val_accuracy: 0.9341\n",
      "Epoch 25/50\n",
      "122/121 [==============================] - 4s 33ms/step - loss: 0.1289 - accuracy: 0.9534 - val_loss: 0.1526 - val_accuracy: 0.9423\n",
      "Epoch 26/50\n",
      "122/121 [==============================] - 4s 32ms/step - loss: 0.1189 - accuracy: 0.9554 - val_loss: 0.1547 - val_accuracy: 0.9485\n",
      "Epoch 27/50\n",
      "122/121 [==============================] - 4s 31ms/step - loss: 0.1391 - accuracy: 0.9461 - val_loss: 0.2071 - val_accuracy: 0.9217\n",
      "Epoch 28/50\n",
      "122/121 [==============================] - 4s 32ms/step - loss: 0.1159 - accuracy: 0.9564 - val_loss: 0.1857 - val_accuracy: 0.9331\n",
      "Epoch 29/50\n",
      "122/121 [==============================] - 4s 32ms/step - loss: 0.1255 - accuracy: 0.9500 - val_loss: 0.1864 - val_accuracy: 0.9320\n",
      "Epoch 30/50\n",
      "122/121 [==============================] - 4s 33ms/step - loss: 0.1491 - accuracy: 0.9405 - val_loss: 0.1759 - val_accuracy: 0.9413\n",
      "Epoch 31/50\n",
      "122/121 [==============================] - 4s 34ms/step - loss: 0.1302 - accuracy: 0.9515 - val_loss: 0.1375 - val_accuracy: 0.9434\n",
      "Epoch 32/50\n",
      "122/121 [==============================] - 4s 32ms/step - loss: 0.1393 - accuracy: 0.9430 - val_loss: 0.1334 - val_accuracy: 0.9485\n",
      "Epoch 33/50\n",
      "122/121 [==============================] - 4s 32ms/step - loss: 0.1311 - accuracy: 0.9479 - val_loss: 0.2147 - val_accuracy: 0.9331\n",
      "Epoch 34/50\n",
      "122/121 [==============================] - 4s 33ms/step - loss: 0.1220 - accuracy: 0.9534 - val_loss: 0.1490 - val_accuracy: 0.9423\n",
      "Epoch 35/50\n",
      "122/121 [==============================] - 4s 32ms/step - loss: 0.1274 - accuracy: 0.9500 - val_loss: 0.1685 - val_accuracy: 0.9351\n",
      "Epoch 36/50\n",
      "122/121 [==============================] - 4s 31ms/step - loss: 0.1156 - accuracy: 0.9541 - val_loss: 0.1923 - val_accuracy: 0.9289\n",
      "Epoch 37/50\n",
      "122/121 [==============================] - 4s 33ms/step - loss: 0.1271 - accuracy: 0.9518 - val_loss: 0.1520 - val_accuracy: 0.9413\n",
      "Epoch 38/50\n",
      "122/121 [==============================] - 4s 32ms/step - loss: 0.1170 - accuracy: 0.9557 - val_loss: 0.1911 - val_accuracy: 0.9382\n",
      "Epoch 39/50\n",
      "122/121 [==============================] - 4s 34ms/step - loss: 0.1168 - accuracy: 0.9549 - val_loss: 0.1517 - val_accuracy: 0.9423\n",
      "Epoch 40/50\n",
      "122/121 [==============================] - 4s 33ms/step - loss: 0.1316 - accuracy: 0.9508 - val_loss: 0.1593 - val_accuracy: 0.9382\n",
      "Epoch 41/50\n",
      "122/121 [==============================] - 4s 33ms/step - loss: 0.1227 - accuracy: 0.9528 - val_loss: 0.1746 - val_accuracy: 0.9341\n",
      "Epoch 42/50\n",
      "122/121 [==============================] - 4s 32ms/step - loss: 0.1182 - accuracy: 0.9549 - val_loss: 0.1693 - val_accuracy: 0.9269\n",
      "Epoch 43/50\n",
      "122/121 [==============================] - 4s 33ms/step - loss: 0.1167 - accuracy: 0.9549 - val_loss: 0.1776 - val_accuracy: 0.9444c\n",
      "Epoch 44/50\n",
      "122/121 [==============================] - 4s 33ms/step - loss: 0.1226 - accuracy: 0.9503 - val_loss: 0.1724 - val_accuracy: 0.9413\n",
      "Epoch 45/50\n",
      "122/121 [==============================] - 4s 33ms/step - loss: 0.1320 - accuracy: 0.9487 - val_loss: 0.1563 - val_accuracy: 0.9423\n",
      "Epoch 46/50\n",
      "122/121 [==============================] - 4s 33ms/step - loss: 0.1056 - accuracy: 0.9606 - val_loss: 0.2569 - val_accuracy: 0.9114\n",
      "Epoch 47/50\n",
      "122/121 [==============================] - 4s 34ms/step - loss: 0.1182 - accuracy: 0.9552 - val_loss: 0.1578 - val_accuracy: 0.9434\n",
      "Epoch 48/50\n",
      "122/121 [==============================] - 4s 33ms/step - loss: 0.1197 - accuracy: 0.9546 - val_loss: 0.1294 - val_accuracy: 0.9506\n",
      "Epoch 49/50\n",
      "122/121 [==============================] - 4s 33ms/step - loss: 0.1143 - accuracy: 0.9585 - val_loss: 0.1543 - val_accuracy: 0.9392\n",
      "Epoch 50/50\n",
      "122/121 [==============================] - 4s 33ms/step - loss: 0.1180 - accuracy: 0.9546 - val_loss: 0.1387 - val_accuracy: 0.9547\n"
     ]
    },
    {
     "data": {
      "text/plain": [
       "<keras.callbacks.callbacks.History at 0x1d0be3f9048>"
      ]
     },
     "execution_count": 51,
     "metadata": {},
     "output_type": "execute_result"
    }
   ],
   "source": [
    "model = load_model('CNN_64_50.h5')\n",
    "tf.debugging.set_log_device_placement(True)\n",
    "model.fit(datagen.flow(X_train, y_train, batch_size=32),\n",
    "                    validation_data=(X_test,y_test),\n",
    "                    steps_per_epoch=len(X_train) / 32, epochs=50)"
   ]
  },
  {
   "cell_type": "code",
   "execution_count": 53,
   "metadata": {},
   "outputs": [],
   "source": [
    "model.save('CNN_64_100.h5')"
   ]
  },
  {
   "cell_type": "markdown",
   "metadata": {},
   "source": [
    "<h1>เพิ่ม 50 รอบ<h1>"
   ]
  },
  {
   "cell_type": "code",
   "execution_count": 54,
   "metadata": {},
   "outputs": [
    {
     "name": "stdout",
     "output_type": "stream",
     "text": [
      "Epoch 1/50\n",
      "122/121 [==============================] - 4s 32ms/step - loss: 0.1238 - accuracy: 0.9521 - val_loss: 0.1790 - val_accuracy: 0.9320\n",
      "Epoch 2/50\n",
      "122/121 [==============================] - 4s 30ms/step - loss: 0.1173 - accuracy: 0.9541 - val_loss: 0.2109 - val_accuracy: 0.9238\n",
      "Epoch 3/50\n",
      "122/121 [==============================] - 4s 31ms/step - loss: 0.1093 - accuracy: 0.9590 - val_loss: 0.1698 - val_accuracy: 0.9320\n",
      "Epoch 4/50\n",
      "122/121 [==============================] - 4s 32ms/step - loss: 0.1125 - accuracy: 0.9575 - val_loss: 0.1586 - val_accuracy: 0.9413\n",
      "Epoch 5/50\n",
      "122/121 [==============================] - 4s 31ms/step - loss: 0.1138 - accuracy: 0.9575 - val_loss: 0.1754 - val_accuracy: 0.9310\n",
      "Epoch 6/50\n",
      "122/121 [==============================] - 4s 32ms/step - loss: 0.1116 - accuracy: 0.9541 - val_loss: 0.1647 - val_accuracy: 0.9434\n",
      "Epoch 7/50\n",
      "122/121 [==============================] - 4s 30ms/step - loss: 0.1132 - accuracy: 0.9562 - val_loss: 0.1487 - val_accuracy: 0.9495\n",
      "Epoch 8/50\n",
      "122/121 [==============================] - 4s 32ms/step - loss: 0.1209 - accuracy: 0.9567 - val_loss: 0.1445 - val_accuracy: 0.9413\n",
      "Epoch 9/50\n",
      "122/121 [==============================] - 4s 32ms/step - loss: 0.1053 - accuracy: 0.9588 - val_loss: 0.1607 - val_accuracy: 0.9413\n",
      "Epoch 10/50\n",
      "122/121 [==============================] - 4s 31ms/step - loss: 0.1019 - accuracy: 0.9606 - val_loss: 0.1734 - val_accuracy: 0.9454\n",
      "Epoch 11/50\n",
      "122/121 [==============================] - 4s 32ms/step - loss: 0.1191 - accuracy: 0.9577 - val_loss: 0.1403 - val_accuracy: 0.9495\n",
      "Epoch 12/50\n",
      "122/121 [==============================] - 4s 32ms/step - loss: 0.1004 - accuracy: 0.9598 - val_loss: 0.1452 - val_accuracy: 0.9372\n",
      "Epoch 13/50\n",
      "122/121 [==============================] - 4s 32ms/step - loss: 0.1132 - accuracy: 0.9536 - val_loss: 0.1827 - val_accuracy: 0.9434\n",
      "Epoch 14/50\n",
      "122/121 [==============================] - 4s 32ms/step - loss: 0.1097 - accuracy: 0.9601 - val_loss: 0.1757 - val_accuracy: 0.9464\n",
      "Epoch 15/50\n",
      "122/121 [==============================] - 4s 33ms/step - loss: 0.1113 - accuracy: 0.9567 - val_loss: 0.1728 - val_accuracy: 0.9423\n",
      "Epoch 16/50\n",
      "122/121 [==============================] - 4s 31ms/step - loss: 0.1121 - accuracy: 0.9577 - val_loss: 0.2861 - val_accuracy: 0.9248\n",
      "Epoch 17/50\n",
      "122/121 [==============================] - 4s 32ms/step - loss: 0.1114 - accuracy: 0.9575 - val_loss: 0.1589 - val_accuracy: 0.9464\n",
      "Epoch 18/50\n",
      "122/121 [==============================] - 4s 33ms/step - loss: 0.1063 - accuracy: 0.9572 - val_loss: 0.2072 - val_accuracy: 0.9289\n",
      "Epoch 19/50\n",
      "122/121 [==============================] - 4s 31ms/step - loss: 0.1231 - accuracy: 0.9546 - val_loss: 0.1340 - val_accuracy: 0.9485\n",
      "Epoch 20/50\n",
      "122/121 [==============================] - 4s 33ms/step - loss: 0.1024 - accuracy: 0.9606 - val_loss: 0.1794 - val_accuracy: 0.9392\n",
      "Epoch 21/50\n",
      "122/121 [==============================] - 4s 33ms/step - loss: 0.1058 - accuracy: 0.9608 - val_loss: 0.1495 - val_accuracy: 0.9454\n",
      "Epoch 22/50\n",
      "122/121 [==============================] - 4s 32ms/step - loss: 0.1002 - accuracy: 0.9626 - val_loss: 0.1561 - val_accuracy: 0.9413\n",
      "Epoch 23/50\n",
      "122/121 [==============================] - 4s 34ms/step - loss: 0.1088 - accuracy: 0.9595 - val_loss: 0.1856 - val_accuracy: 0.9331\n",
      "Epoch 24/50\n",
      "122/121 [==============================] - 4s 34ms/step - loss: 0.1132 - accuracy: 0.9590 - val_loss: 0.1611 - val_accuracy: 0.9341\n",
      "Epoch 25/50\n",
      "122/121 [==============================] - 4s 32ms/step - loss: 0.1108 - accuracy: 0.9598 - val_loss: 0.1419 - val_accuracy: 0.9506\n",
      "Epoch 26/50\n",
      "122/121 [==============================] - 4s 33ms/step - loss: 0.1134 - accuracy: 0.9593 - val_loss: 0.1739 - val_accuracy: 0.9351\n",
      "Epoch 27/50\n",
      "122/121 [==============================] - 4s 33ms/step - loss: 0.1043 - accuracy: 0.9624 - val_loss: 0.1856 - val_accuracy: 0.9341\n",
      "Epoch 28/50\n",
      "122/121 [==============================] - 4s 33ms/step - loss: 0.1023 - accuracy: 0.9616 - val_loss: 0.1737 - val_accuracy: 0.9464\n",
      "Epoch 29/50\n",
      "122/121 [==============================] - 4s 35ms/step - loss: 0.1182 - accuracy: 0.9559 - val_loss: 0.1283 - val_accuracy: 0.9454\n",
      "Epoch 30/50\n",
      "122/121 [==============================] - 4s 33ms/step - loss: 0.1001 - accuracy: 0.9588 - val_loss: 0.1939 - val_accuracy: 0.9341\n",
      "Epoch 31/50\n",
      "122/121 [==============================] - 4s 33ms/step - loss: 0.1102 - accuracy: 0.9595 - val_loss: 0.1825 - val_accuracy: 0.9320\n",
      "Epoch 32/50\n",
      "122/121 [==============================] - 5s 37ms/step - loss: 0.1019 - accuracy: 0.9588 - val_loss: 0.1964 - val_accuracy: 0.9300\n",
      "Epoch 33/50\n",
      "122/121 [==============================] - 4s 37ms/step - loss: 0.0960 - accuracy: 0.9634 - val_loss: 0.1397 - val_accuracy: 0.9454\n",
      "Epoch 34/50\n",
      "122/121 [==============================] - 4s 35ms/step - loss: 0.1045 - accuracy: 0.9601 - val_loss: 0.1824 - val_accuracy: 0.9454\n",
      "Epoch 35/50\n",
      "122/121 [==============================] - 4s 35ms/step - loss: 0.1037 - accuracy: 0.9611 - val_loss: 0.1346 - val_accuracy: 0.9485\n",
      "Epoch 36/50\n",
      "122/121 [==============================] - 4s 35ms/step - loss: 0.0974 - accuracy: 0.9649 - val_loss: 0.2197 - val_accuracy: 0.9279\n",
      "Epoch 37/50\n",
      "122/121 [==============================] - 4s 33ms/step - loss: 0.1002 - accuracy: 0.9621 - val_loss: 0.1460 - val_accuracy: 0.9495\n",
      "Epoch 38/50\n",
      "122/121 [==============================] - 4s 33ms/step - loss: 0.1101 - accuracy: 0.9575 - val_loss: 0.1348 - val_accuracy: 0.9475\n",
      "Epoch 39/50\n",
      "122/121 [==============================] - 4s 34ms/step - loss: 0.1130 - accuracy: 0.9582 - val_loss: 0.1520 - val_accuracy: 0.9485\n",
      "Epoch 40/50\n",
      "122/121 [==============================] - 4s 32ms/step - loss: 0.1068 - accuracy: 0.9616 - val_loss: 0.1455 - val_accuracy: 0.9423\n",
      "Epoch 41/50\n",
      "122/121 [==============================] - 4s 33ms/step - loss: 0.0919 - accuracy: 0.9655 - val_loss: 0.1712 - val_accuracy: 0.9392\n",
      "Epoch 42/50\n",
      "122/121 [==============================] - 4s 33ms/step - loss: 0.0967 - accuracy: 0.9644 - val_loss: 0.1739 - val_accuracy: 0.9372\n",
      "Epoch 43/50\n",
      "122/121 [==============================] - 4s 32ms/step - loss: 0.0992 - accuracy: 0.9649 - val_loss: 0.1507 - val_accuracy: 0.9495 0s - loss: 0.0990 - ac\n",
      "Epoch 44/50\n",
      "122/121 [==============================] - 4s 33ms/step - loss: 0.0932 - accuracy: 0.9621 - val_loss: 0.1772 - val_accuracy: 0.9351\n",
      "Epoch 45/50\n",
      "122/121 [==============================] - 4s 34ms/step - loss: 0.0918 - accuracy: 0.9626 - val_loss: 0.1932 - val_accuracy: 0.9289\n",
      "Epoch 46/50\n",
      "122/121 [==============================] - 4s 32ms/step - loss: 0.1018 - accuracy: 0.9621 - val_loss: 0.1901 - val_accuracy: 0.9331\n",
      "Epoch 47/50\n",
      "122/121 [==============================] - 4s 34ms/step - loss: 0.0868 - accuracy: 0.9704 - val_loss: 0.1696 - val_accuracy: 0.9444\n",
      "Epoch 48/50\n",
      "122/121 [==============================] - 4s 33ms/step - loss: 0.0906 - accuracy: 0.9647 - val_loss: 0.1755 - val_accuracy: 0.9392\n",
      "Epoch 49/50\n",
      "122/121 [==============================] - 4s 32ms/step - loss: 0.0885 - accuracy: 0.9688 - val_loss: 0.1525 - val_accuracy: 0.9403\n",
      "Epoch 50/50\n",
      "122/121 [==============================] - 4s 34ms/step - loss: 0.0962 - accuracy: 0.9649 - val_loss: 0.1555 - val_accuracy: 0.9475\n"
     ]
    },
    {
     "data": {
      "text/plain": [
       "<keras.callbacks.callbacks.History at 0x1d0c0d66d08>"
      ]
     },
     "execution_count": 54,
     "metadata": {},
     "output_type": "execute_result"
    }
   ],
   "source": [
    "model = load_model('CNN_64_100.h5')\n",
    "tf.debugging.set_log_device_placement(True)\n",
    "model.fit(datagen.flow(X_train, y_train, batch_size=32),\n",
    "                    validation_data=(X_test,y_test),\n",
    "                    steps_per_epoch=len(X_train) / 32, epochs=50)"
   ]
  },
  {
   "cell_type": "code",
   "execution_count": 55,
   "metadata": {},
   "outputs": [],
   "source": [
    "model.save('CNN_64_150.h5')"
   ]
  },
  {
   "cell_type": "markdown",
   "metadata": {},
   "source": [
    "50"
   ]
  },
  {
   "cell_type": "code",
   "execution_count": 81,
   "metadata": {},
   "outputs": [
    {
     "name": "stdout",
     "output_type": "stream",
     "text": [
      "Epoch 1/50\n",
      "122/121 [==============================] - 4s 32ms/step - loss: 0.0979 - accuracy: 0.9608 - val_loss: 0.1620 - val_accuracy: 0.9485\n",
      "Epoch 2/50\n",
      "122/121 [==============================] - 4s 30ms/step - loss: 0.1007 - accuracy: 0.9626 - val_loss: 0.1644 - val_accuracy: 0.9454\n",
      "Epoch 3/50\n",
      "122/121 [==============================] - 4s 31ms/step - loss: 0.0977 - accuracy: 0.9642 - val_loss: 0.1463 - val_accuracy: 0.9475\n",
      "Epoch 4/50\n",
      "122/121 [==============================] - 4s 30ms/step - loss: 0.0948 - accuracy: 0.9629 - val_loss: 0.1620 - val_accuracy: 0.9516\n",
      "Epoch 5/50\n",
      "122/121 [==============================] - 4s 31ms/step - loss: 0.1018 - accuracy: 0.9637 - val_loss: 0.1903 - val_accuracy: 0.9320\n",
      "Epoch 6/50\n",
      "122/121 [==============================] - 4s 31ms/step - loss: 0.0962 - accuracy: 0.9626 - val_loss: 0.1880 - val_accuracy: 0.9372\n",
      "Epoch 7/50\n",
      "122/121 [==============================] - 4s 30ms/step - loss: 0.0862 - accuracy: 0.9670 - val_loss: 0.1754 - val_accuracy: 0.9413\n",
      "Epoch 8/50\n",
      "122/121 [==============================] - 4s 31ms/step - loss: 0.1013 - accuracy: 0.9611 - val_loss: 0.1479 - val_accuracy: 0.9444\n",
      "Epoch 9/50\n",
      "122/121 [==============================] - 4s 31ms/step - loss: 0.0948 - accuracy: 0.9647 - val_loss: 0.2098 - val_accuracy: 0.9207\n",
      "Epoch 10/50\n",
      "122/121 [==============================] - 4s 31ms/step - loss: 0.0841 - accuracy: 0.9688 - val_loss: 0.1917 - val_accuracy: 0.9444\n",
      "Epoch 11/50\n",
      "122/121 [==============================] - 4s 33ms/step - loss: 0.0959 - accuracy: 0.9649 - val_loss: 0.1525 - val_accuracy: 0.9382\n",
      "Epoch 12/50\n",
      "122/121 [==============================] - 5s 37ms/step - loss: 0.0899 - accuracy: 0.9655 - val_loss: 0.1820 - val_accuracy: 0.9361\n",
      "Epoch 13/50\n",
      "122/121 [==============================] - 4s 35ms/step - loss: 0.0870 - accuracy: 0.9670 - val_loss: 0.1559 - val_accuracy: 0.9464\n",
      "Epoch 14/50\n",
      "122/121 [==============================] - 4s 33ms/step - loss: 0.0895 - accuracy: 0.9649 - val_loss: 0.1681 - val_accuracy: 0.9413\n",
      "Epoch 15/50\n",
      "122/121 [==============================] - 4s 32ms/step - loss: 0.0970 - accuracy: 0.9647 - val_loss: 0.2381 - val_accuracy: 0.9217\n",
      "Epoch 16/50\n",
      "122/121 [==============================] - 4s 31ms/step - loss: 0.0879 - accuracy: 0.9686 - val_loss: 0.1693 - val_accuracy: 0.9392\n",
      "Epoch 17/50\n",
      "122/121 [==============================] - 4s 32ms/step - loss: 0.0890 - accuracy: 0.9644 - val_loss: 0.1754 - val_accuracy: 0.9495\n",
      "Epoch 18/50\n",
      "122/121 [==============================] - 4s 31ms/step - loss: 0.0841 - accuracy: 0.9711 - val_loss: 0.1680 - val_accuracy: 0.9475\n",
      "Epoch 19/50\n",
      "122/121 [==============================] - 4s 36ms/step - loss: 0.0868 - accuracy: 0.9668 - val_loss: 0.2017 - val_accuracy: 0.9269\n",
      "Epoch 20/50\n",
      "122/121 [==============================] - 4s 33ms/step - loss: 0.0838 - accuracy: 0.9680 - val_loss: 0.1998 - val_accuracy: 0.9331\n",
      "Epoch 21/50\n",
      "122/121 [==============================] - 4s 32ms/step - loss: 0.0963 - accuracy: 0.9621 - val_loss: 0.1866 - val_accuracy: 0.9413\n",
      "Epoch 22/50\n",
      "122/121 [==============================] - 4s 31ms/step - loss: 0.0946 - accuracy: 0.9624 - val_loss: 0.1602 - val_accuracy: 0.9485\n",
      "Epoch 23/50\n",
      "122/121 [==============================] - 4s 32ms/step - loss: 0.0831 - accuracy: 0.9714 - val_loss: 0.1636 - val_accuracy: 0.9464\n",
      "Epoch 24/50\n",
      "122/121 [==============================] - 4s 32ms/step - loss: 0.0920 - accuracy: 0.9637 - val_loss: 0.2118 - val_accuracy: 0.9341\n",
      "Epoch 25/50\n",
      "122/121 [==============================] - 4s 31ms/step - loss: 0.0811 - accuracy: 0.9696 - val_loss: 0.1459 - val_accuracy: 0.9516\n",
      "Epoch 26/50\n",
      "122/121 [==============================] - 4s 32ms/step - loss: 0.0901 - accuracy: 0.9680 - val_loss: 0.1766 - val_accuracy: 0.9454\n",
      "Epoch 27/50\n",
      "122/121 [==============================] - 4s 32ms/step - loss: 0.0917 - accuracy: 0.9668 - val_loss: 0.1626 - val_accuracy: 0.9464\n",
      "Epoch 28/50\n",
      "122/121 [==============================] - 4s 31ms/step - loss: 0.0983 - accuracy: 0.9652 - val_loss: 0.1392 - val_accuracy: 0.9526\n",
      "Epoch 29/50\n",
      "122/121 [==============================] - 4s 32ms/step - loss: 0.1033 - accuracy: 0.9657 - val_loss: 0.1821 - val_accuracy: 0.9413\n",
      "Epoch 30/50\n",
      "122/121 [==============================] - 4s 32ms/step - loss: 0.0914 - accuracy: 0.9680 - val_loss: 0.1727 - val_accuracy: 0.9413\n",
      "Epoch 31/50\n",
      "122/121 [==============================] - 4s 33ms/step - loss: 0.0909 - accuracy: 0.9670 - val_loss: 0.2016 - val_accuracy: 0.9341\n",
      "Epoch 32/50\n",
      "122/121 [==============================] - 4s 32ms/step - loss: 0.0896 - accuracy: 0.9660 - val_loss: 0.1528 - val_accuracy: 0.9506\n",
      "Epoch 33/50\n",
      "122/121 [==============================] - 4s 32ms/step - loss: 0.0905 - accuracy: 0.9678 - val_loss: 0.1780 - val_accuracy: 0.9464\n",
      "Epoch 34/50\n",
      "122/121 [==============================] - 4s 32ms/step - loss: 0.0861 - accuracy: 0.9706 - val_loss: 0.1545 - val_accuracy: 0.9557\n",
      "Epoch 35/50\n",
      "122/121 [==============================] - 4s 32ms/step - loss: 0.0868 - accuracy: 0.9657 - val_loss: 0.1552 - val_accuracy: 0.9475\n",
      "Epoch 36/50\n",
      "122/121 [==============================] - 4s 33ms/step - loss: 0.0806 - accuracy: 0.9709 - val_loss: 0.2379 - val_accuracy: 0.9186\n",
      "Epoch 37/50\n",
      "122/121 [==============================] - 4s 32ms/step - loss: 0.0980 - accuracy: 0.9603 - val_loss: 0.1586 - val_accuracy: 0.9454\n",
      "Epoch 38/50\n",
      "122/121 [==============================] - 4s 32ms/step - loss: 0.0931 - accuracy: 0.9626 - val_loss: 0.1906 - val_accuracy: 0.9434\n",
      "Epoch 39/50\n",
      "122/121 [==============================] - 4s 32ms/step - loss: 0.0839 - accuracy: 0.9701 - val_loss: 0.1538 - val_accuracy: 0.9485\n",
      "Epoch 40/50\n",
      "122/121 [==============================] - 4s 32ms/step - loss: 0.0842 - accuracy: 0.9673 - val_loss: 0.1664 - val_accuracy: 0.9413\n",
      "Epoch 41/50\n",
      "122/121 [==============================] - 4s 32ms/step - loss: 0.0857 - accuracy: 0.9670 - val_loss: 0.1965 - val_accuracy: 0.9526\n",
      "Epoch 42/50\n",
      "122/121 [==============================] - 4s 32ms/step - loss: 0.0792 - accuracy: 0.9704 - val_loss: 0.1689 - val_accuracy: 0.9434\n",
      "Epoch 43/50\n",
      "122/121 [==============================] - 4s 32ms/step - loss: 0.0809 - accuracy: 0.9704 - val_loss: 0.1629 - val_accuracy: 0.9526\n",
      "Epoch 44/50\n",
      "122/121 [==============================] - 4s 32ms/step - loss: 0.0763 - accuracy: 0.9704 - val_loss: 0.1651 - val_accuracy: 0.9557\n",
      "Epoch 45/50\n",
      "122/121 [==============================] - 4s 32ms/step - loss: 0.0899 - accuracy: 0.9675 - val_loss: 0.1711 - val_accuracy: 0.9434\n",
      "Epoch 46/50\n",
      "122/121 [==============================] - 4s 32ms/step - loss: 0.0846 - accuracy: 0.9655 - val_loss: 0.1531 - val_accuracy: 0.9464\n",
      "Epoch 47/50\n",
      "122/121 [==============================] - 4s 34ms/step - loss: 0.0791 - accuracy: 0.9693 - val_loss: 0.1744 - val_accuracy: 0.9444\n",
      "Epoch 48/50\n",
      "122/121 [==============================] - 4s 33ms/step - loss: 0.0864 - accuracy: 0.9649 - val_loss: 0.1801 - val_accuracy: 0.9392\n",
      "Epoch 49/50\n",
      "122/121 [==============================] - 4s 32ms/step - loss: 0.0852 - accuracy: 0.9662 - val_loss: 0.1723 - val_accuracy: 0.9413\n",
      "Epoch 50/50\n",
      "122/121 [==============================] - 4s 33ms/step - loss: 0.0795 - accuracy: 0.9662 - val_loss: 0.2010 - val_accuracy: 0.9413\n"
     ]
    },
    {
     "data": {
      "text/plain": [
       "<keras.callbacks.callbacks.History at 0x1d1071da988>"
      ]
     },
     "execution_count": 81,
     "metadata": {},
     "output_type": "execute_result"
    }
   ],
   "source": [
    "model = load_model('CNN_64_150.h5')\n",
    "tf.debugging.set_log_device_placement(True)\n",
    "model.fit(datagen.flow(X_train, y_train, batch_size=32),\n",
    "                    validation_data=(X_test,y_test),\n",
    "                    steps_per_epoch=len(X_train) / 32, epochs=50)"
   ]
  },
  {
   "cell_type": "code",
   "execution_count": 82,
   "metadata": {},
   "outputs": [],
   "source": [
    "model.save('CNN_64_200.h5')"
   ]
  },
  {
   "cell_type": "markdown",
   "metadata": {},
   "source": [
    "100"
   ]
  },
  {
   "cell_type": "code",
   "execution_count": 87,
   "metadata": {},
   "outputs": [
    {
     "name": "stdout",
     "output_type": "stream",
     "text": [
      "Epoch 1/100\n",
      "122/121 [==============================] - 4s 32ms/step - loss: 0.0800 - accuracy: 0.9706 - val_loss: 0.1766 - val_accuracy: 0.9403\n",
      "Epoch 2/100\n",
      "122/121 [==============================] - 4s 30ms/step - loss: 0.0955 - accuracy: 0.9621 - val_loss: 0.1795 - val_accuracy: 0.9361\n",
      "Epoch 3/100\n",
      "122/121 [==============================] - 4s 32ms/step - loss: 0.0807 - accuracy: 0.9670 - val_loss: 0.1692 - val_accuracy: 0.9444\n",
      "Epoch 4/100\n",
      "122/121 [==============================] - 4s 31ms/step - loss: 0.0854 - accuracy: 0.9662 - val_loss: 0.1607 - val_accuracy: 0.9423\n",
      "Epoch 5/100\n",
      "122/121 [==============================] - 4s 31ms/step - loss: 0.0882 - accuracy: 0.9665 - val_loss: 0.1671 - val_accuracy: 0.9403\n",
      "Epoch 6/100\n",
      "122/121 [==============================] - 4s 32ms/step - loss: 0.0821 - accuracy: 0.9670 - val_loss: 0.1817 - val_accuracy: 0.9434\n",
      "Epoch 7/100\n",
      "122/121 [==============================] - 4s 31ms/step - loss: 0.0913 - accuracy: 0.9629 - val_loss: 0.1452 - val_accuracy: 0.9485\n",
      "Epoch 8/100\n",
      "122/121 [==============================] - 4s 31ms/step - loss: 0.0927 - accuracy: 0.9647 - val_loss: 0.1594 - val_accuracy: 0.9516\n",
      "Epoch 9/100\n",
      "122/121 [==============================] - 4s 32ms/step - loss: 0.0842 - accuracy: 0.9660 - val_loss: 0.1775 - val_accuracy: 0.9454\n",
      "Epoch 10/100\n",
      "122/121 [==============================] - 4s 33ms/step - loss: 0.0839 - accuracy: 0.9704 - val_loss: 0.1601 - val_accuracy: 0.9547\n",
      "Epoch 11/100\n",
      "122/121 [==============================] - 4s 30ms/step - loss: 0.0777 - accuracy: 0.9691 - val_loss: 0.1498 - val_accuracy: 0.9495\n",
      "Epoch 12/100\n",
      "122/121 [==============================] - 4s 32ms/step - loss: 0.0870 - accuracy: 0.9683 - val_loss: 0.1662 - val_accuracy: 0.9485\n",
      "Epoch 13/100\n",
      "122/121 [==============================] - 4s 32ms/step - loss: 0.0722 - accuracy: 0.9735 - val_loss: 0.1787 - val_accuracy: 0.9485\n",
      "Epoch 14/100\n",
      "122/121 [==============================] - 4s 31ms/step - loss: 0.0759 - accuracy: 0.9688 - val_loss: 0.1897 - val_accuracy: 0.9341\n",
      "Epoch 15/100\n",
      "122/121 [==============================] - 4s 34ms/step - loss: 0.0752 - accuracy: 0.9729 - val_loss: 0.1419 - val_accuracy: 0.9547\n",
      "Epoch 16/100\n",
      "122/121 [==============================] - 4s 33ms/step - loss: 0.0873 - accuracy: 0.9655 - val_loss: 0.1715 - val_accuracy: 0.9444\n",
      "Epoch 17/100\n",
      "122/121 [==============================] - 4s 32ms/step - loss: 0.0807 - accuracy: 0.9709 - val_loss: 0.2147 - val_accuracy: 0.9382\n",
      "Epoch 18/100\n",
      "122/121 [==============================] - 4s 32ms/step - loss: 0.0807 - accuracy: 0.9691 - val_loss: 0.1382 - val_accuracy: 0.9526\n",
      "Epoch 19/100\n",
      "122/121 [==============================] - 4s 32ms/step - loss: 0.0746 - accuracy: 0.9711 - val_loss: 0.2041 - val_accuracy: 0.9403\n",
      "Epoch 20/100\n",
      "122/121 [==============================] - 4s 32ms/step - loss: 0.0857 - accuracy: 0.9688 - val_loss: 0.1882 - val_accuracy: 0.9495\n",
      "Epoch 21/100\n",
      "122/121 [==============================] - 4s 33ms/step - loss: 0.0729 - accuracy: 0.9729 - val_loss: 0.1356 - val_accuracy: 0.9588\n",
      "Epoch 22/100\n",
      "122/121 [==============================] - 4s 34ms/step - loss: 0.0789 - accuracy: 0.9691 - val_loss: 0.1501 - val_accuracy: 0.9506\n",
      "Epoch 23/100\n",
      "122/121 [==============================] - 4s 33ms/step - loss: 0.0822 - accuracy: 0.9704 - val_loss: 0.1401 - val_accuracy: 0.9506\n",
      "Epoch 24/100\n",
      "122/121 [==============================] - 4s 33ms/step - loss: 0.0851 - accuracy: 0.9652 - val_loss: 0.1564 - val_accuracy: 0.9516\n",
      "Epoch 25/100\n",
      "122/121 [==============================] - 4s 32ms/step - loss: 0.0775 - accuracy: 0.9706 - val_loss: 0.1657 - val_accuracy: 0.9475\n",
      "Epoch 26/100\n",
      "122/121 [==============================] - 4s 32ms/step - loss: 0.0780 - accuracy: 0.9724 - val_loss: 0.1703 - val_accuracy: 0.9485\n",
      "Epoch 27/100\n",
      "122/121 [==============================] - 4s 33ms/step - loss: 0.0765 - accuracy: 0.9716 - val_loss: 0.1581 - val_accuracy: 0.9537\n",
      "Epoch 28/100\n",
      "122/121 [==============================] - 4s 33ms/step - loss: 0.0718 - accuracy: 0.9724 - val_loss: 0.1471 - val_accuracy: 0.9526\n",
      "Epoch 29/100\n",
      "122/121 [==============================] - 4s 34ms/step - loss: 0.0709 - accuracy: 0.9753 - val_loss: 0.1750 - val_accuracy: 0.9403\n",
      "Epoch 30/100\n",
      "122/121 [==============================] - 4s 33ms/step - loss: 0.0823 - accuracy: 0.9688 - val_loss: 0.1650 - val_accuracy: 0.9464\n",
      "Epoch 31/100\n",
      "122/121 [==============================] - 4s 36ms/step - loss: 0.0752 - accuracy: 0.9683 - val_loss: 0.1838 - val_accuracy: 0.9464\n",
      "Epoch 32/100\n",
      "122/121 [==============================] - 5s 38ms/step - loss: 0.0825 - accuracy: 0.9678 - val_loss: 0.1600 - val_accuracy: 0.9547\n",
      "Epoch 33/100\n",
      "122/121 [==============================] - 5s 40ms/step - loss: 0.0877 - accuracy: 0.9668 - val_loss: 0.1793 - val_accuracy: 0.9403\n",
      "Epoch 34/100\n",
      "122/121 [==============================] - 4s 36ms/step - loss: 0.0809 - accuracy: 0.9673 - val_loss: 0.1706 - val_accuracy: 0.9382\n",
      "Epoch 35/100\n",
      "122/121 [==============================] - 4s 33ms/step - loss: 0.0754 - accuracy: 0.9727 - val_loss: 0.1443 - val_accuracy: 0.9454\n",
      "Epoch 36/100\n",
      "122/121 [==============================] - 4s 35ms/step - loss: 0.0865 - accuracy: 0.9670 - val_loss: 0.1858 - val_accuracy: 0.9372\n",
      "Epoch 37/100\n",
      "122/121 [==============================] - 4s 34ms/step - loss: 0.0770 - accuracy: 0.9691 - val_loss: 0.1868 - val_accuracy: 0.9372\n",
      "Epoch 38/100\n",
      "122/121 [==============================] - 4s 34ms/step - loss: 0.0838 - accuracy: 0.9686 - val_loss: 0.1587 - val_accuracy: 0.9454\n",
      "Epoch 39/100\n",
      "122/121 [==============================] - 4s 34ms/step - loss: 0.1051 - accuracy: 0.9644 - val_loss: 0.1637 - val_accuracy: 0.9423\n",
      "Epoch 40/100\n",
      "122/121 [==============================] - 4s 34ms/step - loss: 0.0766 - accuracy: 0.9711 - val_loss: 0.1365 - val_accuracy: 0.9567\n",
      "Epoch 41/100\n",
      "122/121 [==============================] - 4s 33ms/step - loss: 0.0859 - accuracy: 0.9647 - val_loss: 0.1532 - val_accuracy: 0.9413\n",
      "Epoch 42/100\n",
      "122/121 [==============================] - 4s 34ms/step - loss: 0.0744 - accuracy: 0.9698 - val_loss: 0.1490 - val_accuracy: 0.9454\n",
      "Epoch 43/100\n",
      "122/121 [==============================] - 4s 34ms/step - loss: 0.0711 - accuracy: 0.9701 - val_loss: 0.1564 - val_accuracy: 0.9537\n",
      "Epoch 44/100\n",
      "122/121 [==============================] - 4s 34ms/step - loss: 0.0778 - accuracy: 0.9696 - val_loss: 0.1453 - val_accuracy: 0.9557\n",
      "Epoch 45/100\n",
      "122/121 [==============================] - 4s 34ms/step - loss: 0.0758 - accuracy: 0.9745 - val_loss: 0.1572 - val_accuracy: 0.9526\n",
      "Epoch 46/100\n",
      "122/121 [==============================] - 4s 35ms/step - loss: 0.0688 - accuracy: 0.9742 - val_loss: 0.1890 - val_accuracy: 0.9495\n",
      "Epoch 47/100\n",
      "122/121 [==============================] - 4s 34ms/step - loss: 0.0829 - accuracy: 0.9688 - val_loss: 0.1617 - val_accuracy: 0.9537\n",
      "Epoch 48/100\n",
      "122/121 [==============================] - 4s 34ms/step - loss: 0.0750 - accuracy: 0.9706 - val_loss: 0.1414 - val_accuracy: 0.9619\n",
      "Epoch 49/100\n",
      "122/121 [==============================] - 4s 33ms/step - loss: 0.0689 - accuracy: 0.9737 - val_loss: 0.1505 - val_accuracy: 0.9578\n",
      "Epoch 50/100\n",
      "122/121 [==============================] - 4s 33ms/step - loss: 0.0720 - accuracy: 0.9727 - val_loss: 0.1600 - val_accuracy: 0.9464\n",
      "Epoch 51/100\n",
      "122/121 [==============================] - 4s 34ms/step - loss: 0.0600 - accuracy: 0.9786 - val_loss: 0.1974 - val_accuracy: 0.9434\n",
      "Epoch 52/100\n",
      "122/121 [==============================] - 4s 34ms/step - loss: 0.0658 - accuracy: 0.9745 - val_loss: 0.2071 - val_accuracy: 0.9361\n",
      "Epoch 53/100\n",
      "122/121 [==============================] - 4s 33ms/step - loss: 0.0813 - accuracy: 0.9696 - val_loss: 0.1375 - val_accuracy: 0.9578\n",
      "Epoch 54/100\n",
      "122/121 [==============================] - 4s 33ms/step - loss: 0.0755 - accuracy: 0.9696 - val_loss: 0.1571 - val_accuracy: 0.9464\n",
      "Epoch 55/100\n",
      "122/121 [==============================] - 4s 33ms/step - loss: 0.0759 - accuracy: 0.9709 - val_loss: 0.1522 - val_accuracy: 0.9495\n",
      "Epoch 56/100\n",
      "122/121 [==============================] - 4s 32ms/step - loss: 0.0742 - accuracy: 0.9722 - val_loss: 0.1632 - val_accuracy: 0.9464loss: 0.0749 - accuracy: 0.97\n",
      "Epoch 57/100\n"
     ]
    },
    {
     "name": "stdout",
     "output_type": "stream",
     "text": [
      "122/121 [==============================] - 4s 34ms/step - loss: 0.0672 - accuracy: 0.9735 - val_loss: 0.2059 - val_accuracy: 0.9331\n",
      "Epoch 58/100\n",
      "122/121 [==============================] - 4s 33ms/step - loss: 0.0778 - accuracy: 0.9727 - val_loss: 0.1502 - val_accuracy: 0.9557\n",
      "Epoch 59/100\n",
      "122/121 [==============================] - 4s 33ms/step - loss: 0.0727 - accuracy: 0.9729 - val_loss: 0.1600 - val_accuracy: 0.9547\n",
      "Epoch 60/100\n",
      "122/121 [==============================] - 4s 34ms/step - loss: 0.0669 - accuracy: 0.9740 - val_loss: 0.1820 - val_accuracy: 0.9516\n",
      "Epoch 61/100\n",
      "122/121 [==============================] - 4s 34ms/step - loss: 0.0666 - accuracy: 0.9719 - val_loss: 0.1456 - val_accuracy: 0.9578\n",
      "Epoch 62/100\n",
      "122/121 [==============================] - 4s 35ms/step - loss: 0.0646 - accuracy: 0.9771 - val_loss: 0.1739 - val_accuracy: 0.9495\n",
      "Epoch 63/100\n",
      "122/121 [==============================] - 5s 41ms/step - loss: 0.0790 - accuracy: 0.9680 - val_loss: 0.1694 - val_accuracy: 0.9526\n",
      "Epoch 64/100\n",
      "122/121 [==============================] - 4s 35ms/step - loss: 0.0759 - accuracy: 0.9719 - val_loss: 0.2884 - val_accuracy: 0.9269\n",
      "Epoch 65/100\n",
      "122/121 [==============================] - 4s 33ms/step - loss: 0.0817 - accuracy: 0.9696 - val_loss: 0.1831 - val_accuracy: 0.9485\n",
      "Epoch 66/100\n",
      "122/121 [==============================] - 4s 34ms/step - loss: 0.0888 - accuracy: 0.9701 - val_loss: 0.1633 - val_accuracy: 0.9516\n",
      "Epoch 67/100\n",
      "122/121 [==============================] - 4s 35ms/step - loss: 0.0726 - accuracy: 0.9709 - val_loss: 0.1862 - val_accuracy: 0.9423\n",
      "Epoch 68/100\n",
      "122/121 [==============================] - 4s 34ms/step - loss: 0.0702 - accuracy: 0.9737 - val_loss: 0.1876 - val_accuracy: 0.9351\n",
      "Epoch 69/100\n",
      "122/121 [==============================] - 4s 34ms/step - loss: 0.0866 - accuracy: 0.9668 - val_loss: 0.1616 - val_accuracy: 0.9526\n",
      "Epoch 70/100\n",
      "122/121 [==============================] - 4s 34ms/step - loss: 0.0704 - accuracy: 0.9724 - val_loss: 0.1487 - val_accuracy: 0.9598\n",
      "Epoch 71/100\n",
      "122/121 [==============================] - 4s 34ms/step - loss: 0.0664 - accuracy: 0.9750 - val_loss: 0.1540 - val_accuracy: 0.9557\n",
      "Epoch 72/100\n",
      "122/121 [==============================] - 4s 35ms/step - loss: 0.0669 - accuracy: 0.9771 - val_loss: 0.1608 - val_accuracy: 0.9506\n",
      "Epoch 73/100\n",
      "122/121 [==============================] - 4s 34ms/step - loss: 0.0796 - accuracy: 0.9662 - val_loss: 0.1606 - val_accuracy: 0.9526\n",
      "Epoch 74/100\n",
      "122/121 [==============================] - 4s 33ms/step - loss: 0.0699 - accuracy: 0.9716 - val_loss: 0.2162 - val_accuracy: 0.9351\n",
      "Epoch 75/100\n",
      "122/121 [==============================] - 4s 34ms/step - loss: 0.0687 - accuracy: 0.9745 - val_loss: 0.1871 - val_accuracy: 0.9372\n",
      "Epoch 76/100\n",
      "122/121 [==============================] - 4s 34ms/step - loss: 0.0731 - accuracy: 0.9745 - val_loss: 0.1578 - val_accuracy: 0.9475\n",
      "Epoch 77/100\n",
      "122/121 [==============================] - 4s 33ms/step - loss: 0.0698 - accuracy: 0.9732 - val_loss: 0.1559 - val_accuracy: 0.9464\n",
      "Epoch 78/100\n",
      "122/121 [==============================] - 4s 35ms/step - loss: 0.0699 - accuracy: 0.9747 - val_loss: 0.1527 - val_accuracy: 0.9547\n",
      "Epoch 79/100\n",
      "122/121 [==============================] - 4s 35ms/step - loss: 0.0669 - accuracy: 0.9773 - val_loss: 0.2066 - val_accuracy: 0.9506\n",
      "Epoch 80/100\n",
      "122/121 [==============================] - 4s 33ms/step - loss: 0.0695 - accuracy: 0.9776 - val_loss: 0.2418 - val_accuracy: 0.9331\n",
      "Epoch 81/100\n",
      "122/121 [==============================] - 4s 34ms/step - loss: 0.0712 - accuracy: 0.9732 - val_loss: 0.2407 - val_accuracy: 0.9341\n",
      "Epoch 82/100\n",
      "122/121 [==============================] - 4s 34ms/step - loss: 0.0729 - accuracy: 0.9711 - val_loss: 0.1529 - val_accuracy: 0.9464\n",
      "Epoch 83/100\n",
      "122/121 [==============================] - 4s 33ms/step - loss: 0.0670 - accuracy: 0.9745 - val_loss: 0.1825 - val_accuracy: 0.9475\n",
      "Epoch 84/100\n",
      "122/121 [==============================] - 4s 34ms/step - loss: 0.0790 - accuracy: 0.9691 - val_loss: 0.1771 - val_accuracy: 0.9495\n",
      "Epoch 85/100\n",
      "122/121 [==============================] - 4s 34ms/step - loss: 0.0634 - accuracy: 0.9773 - val_loss: 0.2653 - val_accuracy: 0.9423\n",
      "Epoch 86/100\n",
      "122/121 [==============================] - 4s 33ms/step - loss: 0.0695 - accuracy: 0.9722 - val_loss: 0.1965 - val_accuracy: 0.9454\n",
      "Epoch 87/100\n",
      "122/121 [==============================] - 4s 34ms/step - loss: 0.0764 - accuracy: 0.9719 - val_loss: 0.1722 - val_accuracy: 0.9372\n",
      "Epoch 88/100\n",
      "122/121 [==============================] - 4s 33ms/step - loss: 0.0631 - accuracy: 0.9760 - val_loss: 0.1746 - val_accuracy: 0.9464\n",
      "Epoch 89/100\n",
      "122/121 [==============================] - 4s 33ms/step - loss: 0.0683 - accuracy: 0.9773 - val_loss: 0.1600 - val_accuracy: 0.9464\n",
      "Epoch 90/100\n",
      "122/121 [==============================] - 4s 34ms/step - loss: 0.0777 - accuracy: 0.9670 - val_loss: 0.1846 - val_accuracy: 0.9454\n",
      "Epoch 91/100\n",
      "122/121 [==============================] - 4s 34ms/step - loss: 0.0558 - accuracy: 0.9771 - val_loss: 0.1943 - val_accuracy: 0.9454\n",
      "Epoch 92/100\n",
      "122/121 [==============================] - 4s 33ms/step - loss: 0.0681 - accuracy: 0.9735 - val_loss: 0.1573 - val_accuracy: 0.9485\n",
      "Epoch 93/100\n",
      "122/121 [==============================] - 4s 34ms/step - loss: 0.0868 - accuracy: 0.9683 - val_loss: 0.1863 - val_accuracy: 0.9403\n",
      "Epoch 94/100\n",
      "122/121 [==============================] - 4s 35ms/step - loss: 0.0716 - accuracy: 0.9735 - val_loss: 0.1995 - val_accuracy: 0.9444\n",
      "Epoch 95/100\n",
      "122/121 [==============================] - 4s 35ms/step - loss: 0.0652 - accuracy: 0.9747 - val_loss: 0.1862 - val_accuracy: 0.9454\n",
      "Epoch 96/100\n",
      "122/121 [==============================] - 4s 34ms/step - loss: 0.0663 - accuracy: 0.9745 - val_loss: 0.1555 - val_accuracy: 0.9506\n",
      "Epoch 97/100\n",
      "122/121 [==============================] - 4s 34ms/step - loss: 0.0632 - accuracy: 0.9776 - val_loss: 0.1650 - val_accuracy: 0.9526\n",
      "Epoch 98/100\n",
      "122/121 [==============================] - 4s 33ms/step - loss: 0.0701 - accuracy: 0.9727 - val_loss: 0.2109 - val_accuracy: 0.9434\n",
      "Epoch 99/100\n",
      "122/121 [==============================] - 4s 34ms/step - loss: 0.0678 - accuracy: 0.9760 - val_loss: 0.1652 - val_accuracy: 0.9454\n",
      "Epoch 100/100\n",
      "122/121 [==============================] - 4s 34ms/step - loss: 0.0899 - accuracy: 0.9655 - val_loss: 0.1662 - val_accuracy: 0.9464\n"
     ]
    },
    {
     "data": {
      "text/plain": [
       "<keras.callbacks.callbacks.History at 0x1d114a12148>"
      ]
     },
     "execution_count": 87,
     "metadata": {},
     "output_type": "execute_result"
    }
   ],
   "source": [
    "model = load_model('CNN_64_200.h5')\n",
    "tf.debugging.set_log_device_placement(True)\n",
    "model.fit(datagen.flow(X_train, y_train, batch_size=32),\n",
    "                    validation_data=(X_test,y_test),\n",
    "                    steps_per_epoch=len(X_train) / 32, epochs=100)"
   ]
  },
  {
   "cell_type": "code",
   "execution_count": 88,
   "metadata": {},
   "outputs": [],
   "source": [
    "model.save('CNN_64_300.h5')"
   ]
  },
  {
   "cell_type": "markdown",
   "metadata": {},
   "source": [
    "<h1>ทดสอบโมเดล<h1>"
   ]
  },
  {
   "cell_type": "code",
   "execution_count": 56,
   "metadata": {},
   "outputs": [],
   "source": [
    "test = load_images_from_folder_test()"
   ]
  },
  {
   "cell_type": "code",
   "execution_count": 57,
   "metadata": {},
   "outputs": [],
   "source": [
    "X_testt = np.array([i[0] for i in test]).reshape(-1,64,64,3)/255."
   ]
  },
  {
   "cell_type": "code",
   "execution_count": 58,
   "metadata": {},
   "outputs": [],
   "source": [
    "y_testt = np.array([i[1] for i in test])"
   ]
  },
  {
   "cell_type": "markdown",
   "metadata": {},
   "source": [
    "<h2>โมดล50รอบ<h2>"
   ]
  },
  {
   "cell_type": "code",
   "execution_count": 59,
   "metadata": {},
   "outputs": [
    {
     "data": {
      "text/plain": [
       "0"
      ]
     },
     "execution_count": 59,
     "metadata": {},
     "output_type": "execute_result"
    }
   ],
   "source": [
    "rounded_labels=np.argmax(y_testt, axis=1)\n",
    "rounded_labels[1]"
   ]
  },
  {
   "cell_type": "code",
   "execution_count": 60,
   "metadata": {},
   "outputs": [],
   "source": [
    "model = load_model('CNN_64_50.h5')"
   ]
  },
  {
   "cell_type": "code",
   "execution_count": 61,
   "metadata": {},
   "outputs": [
    {
     "data": {
      "text/plain": [
       "[0.17052625681994096, 0.946540892124176]"
      ]
     },
     "execution_count": 61,
     "metadata": {},
     "output_type": "execute_result"
    }
   ],
   "source": [
    "model.evaluate(X_testt, y_testt, verbose=0)"
   ]
  },
  {
   "cell_type": "code",
   "execution_count": 62,
   "metadata": {},
   "outputs": [
    {
     "name": "stdout",
     "output_type": "stream",
     "text": [
      "              precision    recall  f1-score   support\n",
      "\n",
      "           0       0.98      0.91      0.95       338\n",
      "           1       0.91      0.98      0.95       298\n",
      "\n",
      "    accuracy                           0.95       636\n",
      "   macro avg       0.95      0.95      0.95       636\n",
      "weighted avg       0.95      0.95      0.95       636\n",
      "\n"
     ]
    }
   ],
   "source": [
    "prediction = model.predict_classes(X_testt)\n",
    "print(classification_report(rounded_labels, prediction))"
   ]
  },
  {
   "cell_type": "code",
   "execution_count": 63,
   "metadata": {},
   "outputs": [
    {
     "data": {
      "text/plain": [
       "array([[309,  29],\n",
       "       [  5, 293]], dtype=int64)"
      ]
     },
     "execution_count": 63,
     "metadata": {},
     "output_type": "execute_result"
    }
   ],
   "source": [
    "prediction = model.predict_classes(X_testt)\n",
    "confusion_matrix(rounded_labels, prediction)"
   ]
  },
  {
   "cell_type": "markdown",
   "metadata": {},
   "source": [
    "<h2>โมดล100รอบ<h2>"
   ]
  },
  {
   "cell_type": "code",
   "execution_count": 64,
   "metadata": {},
   "outputs": [],
   "source": [
    "model = load_model('CNN_64_100.h5')"
   ]
  },
  {
   "cell_type": "code",
   "execution_count": 65,
   "metadata": {},
   "outputs": [
    {
     "data": {
      "text/plain": [
       "[0.24036825902806888, 0.9308176040649414]"
      ]
     },
     "execution_count": 65,
     "metadata": {},
     "output_type": "execute_result"
    }
   ],
   "source": [
    "model.evaluate(X_testt, y_testt, verbose=0)"
   ]
  },
  {
   "cell_type": "code",
   "execution_count": 66,
   "metadata": {},
   "outputs": [
    {
     "name": "stdout",
     "output_type": "stream",
     "text": [
      "              precision    recall  f1-score   support\n",
      "\n",
      "           0       0.98      0.88      0.93       338\n",
      "           1       0.88      0.98      0.93       298\n",
      "\n",
      "    accuracy                           0.93       636\n",
      "   macro avg       0.93      0.93      0.93       636\n",
      "weighted avg       0.94      0.93      0.93       636\n",
      "\n"
     ]
    }
   ],
   "source": [
    "prediction = model.predict_classes(X_testt)\n",
    "print(classification_report(rounded_labels, prediction))"
   ]
  },
  {
   "cell_type": "code",
   "execution_count": 67,
   "metadata": {},
   "outputs": [
    {
     "data": {
      "text/plain": [
       "array([[299,  39],\n",
       "       [  5, 293]], dtype=int64)"
      ]
     },
     "execution_count": 67,
     "metadata": {},
     "output_type": "execute_result"
    }
   ],
   "source": [
    "prediction = model.predict_classes(X_testt)\n",
    "confusion_matrix(rounded_labels, prediction)"
   ]
  },
  {
   "cell_type": "markdown",
   "metadata": {},
   "source": [
    "<h2>โมดล150รอบ<h2>"
   ]
  },
  {
   "cell_type": "code",
   "execution_count": 72,
   "metadata": {},
   "outputs": [],
   "source": [
    "model = load_model('CNN_64_150.h5')"
   ]
  },
  {
   "cell_type": "code",
   "execution_count": 73,
   "metadata": {},
   "outputs": [
    {
     "data": {
      "text/plain": [
       "[0.21937202516966645, 0.9355345964431763]"
      ]
     },
     "execution_count": 73,
     "metadata": {},
     "output_type": "execute_result"
    }
   ],
   "source": [
    "model.evaluate(X_testt, y_testt, verbose=0)"
   ]
  },
  {
   "cell_type": "code",
   "execution_count": 74,
   "metadata": {},
   "outputs": [
    {
     "name": "stdout",
     "output_type": "stream",
     "text": [
      "              precision    recall  f1-score   support\n",
      "\n",
      "           0       0.97      0.90      0.94       338\n",
      "           1       0.90      0.97      0.93       298\n",
      "\n",
      "    accuracy                           0.94       636\n",
      "   macro avg       0.94      0.94      0.94       636\n",
      "weighted avg       0.94      0.94      0.94       636\n",
      "\n"
     ]
    }
   ],
   "source": [
    "prediction = model.predict_classes(X_testt)\n",
    "print(classification_report(rounded_labels, prediction))"
   ]
  },
  {
   "cell_type": "code",
   "execution_count": 75,
   "metadata": {},
   "outputs": [
    {
     "data": {
      "text/plain": [
       "array([[305,  33],\n",
       "       [  8, 290]], dtype=int64)"
      ]
     },
     "execution_count": 75,
     "metadata": {},
     "output_type": "execute_result"
    }
   ],
   "source": [
    "prediction = model.predict_classes(X_testt)\n",
    "confusion_matrix(rounded_labels, prediction)"
   ]
  },
  {
   "cell_type": "code",
   "execution_count": null,
   "metadata": {},
   "outputs": [],
   "source": []
  },
  {
   "cell_type": "code",
   "execution_count": 83,
   "metadata": {},
   "outputs": [],
   "source": [
    "model = load_model('CNN_64_200.h5')"
   ]
  },
  {
   "cell_type": "code",
   "execution_count": 84,
   "metadata": {},
   "outputs": [
    {
     "data": {
      "text/plain": [
       "[0.28855671897624274, 0.9308176040649414]"
      ]
     },
     "execution_count": 84,
     "metadata": {},
     "output_type": "execute_result"
    }
   ],
   "source": [
    "model.evaluate(X_testt, y_testt, verbose=0)"
   ]
  },
  {
   "cell_type": "code",
   "execution_count": 85,
   "metadata": {},
   "outputs": [
    {
     "name": "stdout",
     "output_type": "stream",
     "text": [
      "              precision    recall  f1-score   support\n",
      "\n",
      "           0       0.97      0.89      0.93       338\n",
      "           1       0.89      0.97      0.93       298\n",
      "\n",
      "    accuracy                           0.93       636\n",
      "   macro avg       0.93      0.93      0.93       636\n",
      "weighted avg       0.93      0.93      0.93       636\n",
      "\n"
     ]
    }
   ],
   "source": [
    "prediction = model.predict_classes(X_testt)\n",
    "print(classification_report(rounded_labels, prediction))"
   ]
  },
  {
   "cell_type": "code",
   "execution_count": 86,
   "metadata": {},
   "outputs": [
    {
     "data": {
      "text/plain": [
       "array([[302,  36],\n",
       "       [  8, 290]], dtype=int64)"
      ]
     },
     "execution_count": 86,
     "metadata": {},
     "output_type": "execute_result"
    }
   ],
   "source": [
    "prediction = model.predict_classes(X_testt)\n",
    "confusion_matrix(rounded_labels, prediction)"
   ]
  },
  {
   "cell_type": "code",
   "execution_count": null,
   "metadata": {},
   "outputs": [],
   "source": []
  },
  {
   "cell_type": "code",
   "execution_count": 89,
   "metadata": {},
   "outputs": [],
   "source": [
    "model = load_model('CNN_64_300.h5')"
   ]
  },
  {
   "cell_type": "code",
   "execution_count": 90,
   "metadata": {},
   "outputs": [
    {
     "data": {
      "text/plain": [
       "[0.16328314890786302, 0.9496855139732361]"
      ]
     },
     "execution_count": 90,
     "metadata": {},
     "output_type": "execute_result"
    }
   ],
   "source": [
    "model.evaluate(X_testt, y_testt, verbose=0)"
   ]
  },
  {
   "cell_type": "code",
   "execution_count": 91,
   "metadata": {},
   "outputs": [
    {
     "name": "stdout",
     "output_type": "stream",
     "text": [
      "              precision    recall  f1-score   support\n",
      "\n",
      "           0       0.96      0.95      0.95       338\n",
      "           1       0.94      0.95      0.95       298\n",
      "\n",
      "    accuracy                           0.95       636\n",
      "   macro avg       0.95      0.95      0.95       636\n",
      "weighted avg       0.95      0.95      0.95       636\n",
      "\n"
     ]
    }
   ],
   "source": [
    "prediction = model.predict_classes(X_testt)\n",
    "print(classification_report(rounded_labels, prediction))"
   ]
  },
  {
   "cell_type": "code",
   "execution_count": 92,
   "metadata": {},
   "outputs": [
    {
     "data": {
      "text/plain": [
       "array([[321,  17],\n",
       "       [ 15, 283]], dtype=int64)"
      ]
     },
     "execution_count": 92,
     "metadata": {},
     "output_type": "execute_result"
    }
   ],
   "source": [
    "prediction = model.predict_classes(X_testt)\n",
    "confusion_matrix(rounded_labels, prediction)"
   ]
  },
  {
   "cell_type": "code",
   "execution_count": null,
   "metadata": {},
   "outputs": [],
   "source": []
  }
 ],
 "metadata": {
  "kernelspec": {
   "display_name": "Python 3",
   "language": "python",
   "name": "python3"
  },
  "language_info": {
   "codemirror_mode": {
    "name": "ipython",
    "version": 3
   },
   "file_extension": ".py",
   "mimetype": "text/x-python",
   "name": "python",
   "nbconvert_exporter": "python",
   "pygments_lexer": "ipython3",
   "version": "3.7.7"
  }
 },
 "nbformat": 4,
 "nbformat_minor": 4
}
