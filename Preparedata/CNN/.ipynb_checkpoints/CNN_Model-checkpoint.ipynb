{
 "cells": [
  {
   "cell_type": "code",
   "execution_count": 7,
   "metadata": {},
   "outputs": [
    {
     "name": "stderr",
     "output_type": "stream",
     "text": [
      "C:\\Users\\nataw\\Anaconda3\\lib\\site-packages\\tensorflow\\python\\client\\session.py:1735: UserWarning: An interactive session is already active. This can cause out-of-memory errors in some cases. You must explicitly call `InteractiveSession.close()` to release resources held by the other session(s).\n",
      "  warnings.warn('An interactive session is already active. This can '\n"
     ]
    }
   ],
   "source": [
    "\n",
    "from tensorflow.compat.v1 import ConfigProto\n",
    "from tensorflow.compat.v1 import InteractiveSession\n",
    "config = ConfigProto()\n",
    "config.gpu_options.allow_growth = True\n",
    "session = InteractiveSession(config=config)\n",
    "from sklearn.model_selection import train_test_split\n",
    "from sklearn.metrics import roc_curve, roc_auc_score, f1_score\n",
    "import numpy as np\n",
    "import matplotlib.pyplot as plt\n",
    "from sklearn.metrics import accuracy_score\n",
    "from sklearn.metrics import confusion_matrix\n",
    "from sklearn import metrics\n",
    "import warnings\n",
    "import tensorflow as tf\n",
    "import os\n",
    "import numpy as np\n",
    "import pandas as pd\n",
    "import cv2\n",
    "import matplotlib.pyplot as plt\n",
    "from keras.preprocessing.image import ImageDataGenerator\n",
    "from keras.models import load_model\n",
    "from sklearn.metrics import classification_report\n",
    "from random import shuffle"
   ]
  },
  {
   "cell_type": "code",
   "execution_count": null,
   "metadata": {},
   "outputs": [],
   "source": []
  },
  {
   "cell_type": "code",
   "execution_count": 8,
   "metadata": {},
   "outputs": [],
   "source": [
    "def load_images_from_folder():\n",
    "    img_size = 224\n",
    "    images = []\n",
    "    image_paths = 'E:/Drowsiness/Data_CNN/train/alert/'\n",
    "    for filename in os.listdir(image_paths):\n",
    "        img = cv2.imread(os.path.join(image_paths,filename))\n",
    "        if img is not None:\n",
    "            img = cv2.resize(img,(img_size,img_size))\n",
    "            images.append([np.array(img),[1,0]])\n",
    "    \n",
    "    image_paths = 'E:/Drowsiness/Data_CNN/train/drowsy/'\n",
    "    for filename in os.listdir(image_paths):\n",
    "        img = cv2.imread(os.path.join(image_paths,filename))\n",
    "        if img is not None:\n",
    "            img = cv2.resize(img,(img_size,img_size))\n",
    "            images.append([np.array(img),[0,1]])\n",
    "    shuffle(images)\n",
    "    return images"
   ]
  },
  {
   "cell_type": "code",
   "execution_count": 9,
   "metadata": {},
   "outputs": [],
   "source": [
    "def load_images_from_folder_test():\n",
    "    img_size = 224\n",
    "    images = []\n",
    "    image_paths = 'E:/Drowsiness/Data_CNN/test/alert/'\n",
    "    for filename in os.listdir(image_paths):\n",
    "        img = cv2.imread(os.path.join(image_paths,filename))\n",
    "        if img is not None:\n",
    "            img = cv2.resize(img,(img_size,img_size))\n",
    "            images.append([np.array(img),[1,0]])\n",
    "    \n",
    "    image_paths = 'E:/Drowsiness/Data_CNN/test/drowsy/'\n",
    "    for filename in os.listdir(image_paths):\n",
    "        img = cv2.imread(os.path.join(image_paths,filename))\n",
    "        if img is not None:\n",
    "            img = cv2.resize(img,(img_size,img_size))\n",
    "            images.append([np.array(img),[0,1]])\n",
    "    shuffle(images)\n",
    "    return images"
   ]
  },
  {
   "cell_type": "code",
   "execution_count": 10,
   "metadata": {},
   "outputs": [],
   "source": [
    "train = load_images_from_folder()"
   ]
  },
  {
   "cell_type": "code",
   "execution_count": 11,
   "metadata": {},
   "outputs": [],
   "source": [
    "train = np.array(train)"
   ]
  },
  {
   "cell_type": "code",
   "execution_count": 12,
   "metadata": {},
   "outputs": [
    {
     "data": {
      "text/plain": [
       "(4851, 2)"
      ]
     },
     "execution_count": 12,
     "metadata": {},
     "output_type": "execute_result"
    }
   ],
   "source": [
    "train.shape"
   ]
  },
  {
   "cell_type": "code",
   "execution_count": 13,
   "metadata": {},
   "outputs": [],
   "source": [
    "X_train = np.array([i[0] for i in train]).reshape(-1,224,224,3)/255."
   ]
  },
  {
   "cell_type": "code",
   "execution_count": 14,
   "metadata": {},
   "outputs": [],
   "source": [
    "y_train = np.array([i[1] for i in train])"
   ]
  },
  {
   "cell_type": "code",
   "execution_count": 15,
   "metadata": {},
   "outputs": [],
   "source": [
    "train = 0"
   ]
  },
  {
   "cell_type": "code",
   "execution_count": 16,
   "metadata": {
    "scrolled": true
   },
   "outputs": [
    {
     "data": {
      "text/plain": [
       "array([[[0.09803922, 0.38431373, 0.4627451 ],\n",
       "        [0.09803922, 0.38431373, 0.4627451 ],\n",
       "        [0.09411765, 0.38039216, 0.45882353],\n",
       "        ...,\n",
       "        [0.07843137, 0.12941176, 0.19215686],\n",
       "        [0.07843137, 0.12941176, 0.19215686],\n",
       "        [0.07843137, 0.12941176, 0.19215686]],\n",
       "\n",
       "       [[0.09803922, 0.38431373, 0.46666667],\n",
       "        [0.09803922, 0.38431373, 0.4627451 ],\n",
       "        [0.09803922, 0.38431373, 0.4627451 ],\n",
       "        ...,\n",
       "        [0.0745098 , 0.1254902 , 0.18823529],\n",
       "        [0.0745098 , 0.1254902 , 0.18823529],\n",
       "        [0.0745098 , 0.1254902 , 0.18823529]],\n",
       "\n",
       "       [[0.10588235, 0.39215686, 0.47058824],\n",
       "        [0.10588235, 0.39215686, 0.46666667],\n",
       "        [0.10196078, 0.38823529, 0.46666667],\n",
       "        ...,\n",
       "        [0.06666667, 0.11764706, 0.18039216],\n",
       "        [0.06666667, 0.11764706, 0.18039216],\n",
       "        [0.06666667, 0.11764706, 0.18039216]],\n",
       "\n",
       "       ...,\n",
       "\n",
       "       [[0.16862745, 0.25098039, 0.25490196],\n",
       "        [0.16470588, 0.24705882, 0.25098039],\n",
       "        [0.15686275, 0.23921569, 0.24313725],\n",
       "        ...,\n",
       "        [0.32156863, 0.48627451, 0.57647059],\n",
       "        [0.32156863, 0.48627451, 0.57647059],\n",
       "        [0.32156863, 0.48627451, 0.57647059]],\n",
       "\n",
       "       [[0.17254902, 0.25098039, 0.25882353],\n",
       "        [0.16862745, 0.25098039, 0.25490196],\n",
       "        [0.16078431, 0.24313725, 0.24705882],\n",
       "        ...,\n",
       "        [0.31764706, 0.48235294, 0.57254902],\n",
       "        [0.32156863, 0.48627451, 0.57647059],\n",
       "        [0.32156863, 0.48627451, 0.57647059]],\n",
       "\n",
       "       [[0.17254902, 0.25490196, 0.25882353],\n",
       "        [0.16862745, 0.25098039, 0.25490196],\n",
       "        [0.16078431, 0.24313725, 0.24705882],\n",
       "        ...,\n",
       "        [0.31764706, 0.48235294, 0.57254902],\n",
       "        [0.32156863, 0.48627451, 0.57647059],\n",
       "        [0.32156863, 0.48627451, 0.57647059]]])"
      ]
     },
     "execution_count": 16,
     "metadata": {},
     "output_type": "execute_result"
    }
   ],
   "source": [
    "X_train[0]"
   ]
  },
  {
   "cell_type": "code",
   "execution_count": 17,
   "metadata": {},
   "outputs": [
    {
     "data": {
      "text/plain": [
       "array([[1, 0],\n",
       "       [1, 0],\n",
       "       [1, 0],\n",
       "       ...,\n",
       "       [0, 1],\n",
       "       [0, 1],\n",
       "       [1, 0]])"
      ]
     },
     "execution_count": 17,
     "metadata": {},
     "output_type": "execute_result"
    }
   ],
   "source": [
    "y_train"
   ]
  },
  {
   "cell_type": "code",
   "execution_count": 18,
   "metadata": {},
   "outputs": [],
   "source": [
    "datagen = ImageDataGenerator(rotation_range=30,width_shift_range=0.2)\n",
    "datagen.fit(X_train)"
   ]
  },
  {
   "cell_type": "code",
   "execution_count": 19,
   "metadata": {},
   "outputs": [],
   "source": [
    "X_train, X_test, y_train, y_test = train_test_split(X_train, y_train, test_size=0.2, random_state=42)"
   ]
  },
  {
   "cell_type": "code",
   "execution_count": 14,
   "metadata": {},
   "outputs": [
    {
     "name": "stdout",
     "output_type": "stream",
     "text": [
      "WARNING:tensorflow:From C:\\Users\\nataw\\Anaconda3\\lib\\site-packages\\keras\\backend\\tensorflow_backend.py:4070: The name tf.nn.max_pool is deprecated. Please use tf.nn.max_pool2d instead.\n",
      "\n"
     ]
    }
   ],
   "source": [
    "from keras import backend\n",
    "from keras.models import Sequential\n",
    "from keras.layers.convolutional import Conv2D,MaxPooling2D\n",
    "from keras.layers.core import Dense, Flatten,Activation,Dropout\n",
    "model = Sequential()\n",
    "# Layer 1: Convolutional Layer\n",
    "model.add(Conv2D(filters=32, kernel_size=(3,3), input_shape=(224,224,3), activation='relu',))\n",
    "# Layer 2: Pooling Layer\n",
    "model.add(MaxPooling2D(pool_size=(3,3)))\n",
    "# Layer 3: Convolutional Layer\n",
    "model.add(Conv2D(filters=32, kernel_size=(3,3), input_shape=(224,224,3), activation='relu',))\n",
    "# Layer 4: Pooling Layer\n",
    "model.add(MaxPooling2D(pool_size=(3,3)))\n",
    "# Layer 5: Flatten Layer\n",
    "model.add(Conv2D(filters=64, kernel_size=(3,3), input_shape=(224,224,3), activation='relu',))\n",
    "\n",
    "model.add(MaxPooling2D(pool_size=(3,3)))\n",
    "\n",
    "model.add(Flatten())\n",
    "# Layer 6: Dense Layer (Hidden Layer)\n",
    "model.add(Dense(512, activation='relu'))\n",
    "model.add(Dropout(0.2))\n",
    "# Layer 7: Dense Layer (Output Layer)\n",
    "model.add(Dense(2, activation='softmax'))"
   ]
  },
  {
   "cell_type": "code",
   "execution_count": 15,
   "metadata": {},
   "outputs": [
    {
     "name": "stdout",
     "output_type": "stream",
     "text": [
      "Model: \"sequential_1\"\n",
      "_________________________________________________________________\n",
      "Layer (type)                 Output Shape              Param #   \n",
      "=================================================================\n",
      "conv2d_1 (Conv2D)            (None, 222, 222, 32)      896       \n",
      "_________________________________________________________________\n",
      "max_pooling2d_1 (MaxPooling2 (None, 74, 74, 32)        0         \n",
      "_________________________________________________________________\n",
      "conv2d_2 (Conv2D)            (None, 72, 72, 32)        9248      \n",
      "_________________________________________________________________\n",
      "max_pooling2d_2 (MaxPooling2 (None, 24, 24, 32)        0         \n",
      "_________________________________________________________________\n",
      "conv2d_3 (Conv2D)            (None, 22, 22, 64)        18496     \n",
      "_________________________________________________________________\n",
      "max_pooling2d_3 (MaxPooling2 (None, 7, 7, 64)          0         \n",
      "_________________________________________________________________\n",
      "flatten_1 (Flatten)          (None, 3136)              0         \n",
      "_________________________________________________________________\n",
      "dense_1 (Dense)              (None, 512)               1606144   \n",
      "_________________________________________________________________\n",
      "dropout_1 (Dropout)          (None, 512)               0         \n",
      "_________________________________________________________________\n",
      "dense_2 (Dense)              (None, 2)                 1026      \n",
      "=================================================================\n",
      "Total params: 1,635,810\n",
      "Trainable params: 1,635,810\n",
      "Non-trainable params: 0\n",
      "_________________________________________________________________\n"
     ]
    }
   ],
   "source": [
    "model.summary()"
   ]
  },
  {
   "cell_type": "code",
   "execution_count": 16,
   "metadata": {},
   "outputs": [],
   "source": [
    "model.compile(optimizer=\"adam\",loss='categorical_crossentropy',metrics=['accuracy'])"
   ]
  },
  {
   "cell_type": "code",
   "execution_count": 17,
   "metadata": {},
   "outputs": [
    {
     "name": "stdout",
     "output_type": "stream",
     "text": [
      "WARNING:tensorflow:From C:\\Users\\nataw\\Anaconda3\\lib\\site-packages\\keras\\backend\\tensorflow_backend.py:422: The name tf.global_variables is deprecated. Please use tf.compat.v1.global_variables instead.\n",
      "\n",
      "Epoch 1/50\n",
      "122/121 [==============================] - 36s 294ms/step - loss: 0.6670 - accuracy: 0.6137 - val_loss: 0.7706 - val_accuracy: 0.6303\n",
      "Epoch 2/50\n",
      "122/121 [==============================] - 34s 275ms/step - loss: 0.6482 - accuracy: 0.6369 - val_loss: 0.6269 - val_accuracy: 0.6643\n",
      "Epoch 3/50\n",
      "122/121 [==============================] - 34s 275ms/step - loss: 0.6174 - accuracy: 0.6577 - val_loss: 0.6070 - val_accuracy: 0.6807\n",
      "Epoch 4/50\n",
      "122/121 [==============================] - 34s 277ms/step - loss: 0.6068 - accuracy: 0.6696 - val_loss: 0.6160 - val_accuracy: 0.6488\n",
      "Epoch 5/50\n",
      "122/121 [==============================] - 34s 276ms/step - loss: 0.5937 - accuracy: 0.6778 - val_loss: 0.5733 - val_accuracy: 0.7116\n",
      "Epoch 6/50\n",
      "122/121 [==============================] - 34s 278ms/step - loss: 0.5756 - accuracy: 0.6985 - val_loss: 0.5472 - val_accuracy: 0.7291\n",
      "Epoch 7/50\n",
      "122/121 [==============================] - 34s 276ms/step - loss: 0.5603 - accuracy: 0.7031 - val_loss: 0.5558 - val_accuracy: 0.6972\n",
      "Epoch 8/50\n",
      "122/121 [==============================] - 34s 275ms/step - loss: 0.5372 - accuracy: 0.7353 - val_loss: 0.4871 - val_accuracy: 0.7683\n",
      "Epoch 9/50\n",
      "122/121 [==============================] - 33s 274ms/step - loss: 0.4994 - accuracy: 0.7497 - val_loss: 0.4621 - val_accuracy: 0.7611\n",
      "Epoch 10/50\n",
      "122/121 [==============================] - 34s 277ms/step - loss: 0.4582 - accuracy: 0.7804 - val_loss: 0.3963 - val_accuracy: 0.8012\n",
      "Epoch 11/50\n",
      "122/121 [==============================] - 34s 276ms/step - loss: 0.4087 - accuracy: 0.8113 - val_loss: 0.3382 - val_accuracy: 0.8476\n",
      "Epoch 12/50\n",
      "122/121 [==============================] - 34s 276ms/step - loss: 0.3703 - accuracy: 0.8335 - val_loss: 0.3157 - val_accuracy: 0.8496\n",
      "Epoch 13/50\n",
      "122/121 [==============================] - 34s 275ms/step - loss: 0.3632 - accuracy: 0.8448 - val_loss: 0.3004 - val_accuracy: 0.8744\n",
      "Epoch 14/50\n",
      "122/121 [==============================] - 34s 275ms/step - loss: 0.3161 - accuracy: 0.8665 - val_loss: 0.2474 - val_accuracy: 0.8980\n",
      "Epoch 15/50\n",
      "122/121 [==============================] - 34s 276ms/step - loss: 0.3116 - accuracy: 0.8701 - val_loss: 0.2383 - val_accuracy: 0.9032\n",
      "Epoch 16/50\n",
      "122/121 [==============================] - 34s 276ms/step - loss: 0.2839 - accuracy: 0.8874 - val_loss: 0.2601 - val_accuracy: 0.8919\n",
      "Epoch 17/50\n",
      "122/121 [==============================] - 34s 277ms/step - loss: 0.2546 - accuracy: 0.8961 - val_loss: 0.2160 - val_accuracy: 0.9156\n",
      "Epoch 18/50\n",
      "122/121 [==============================] - 34s 275ms/step - loss: 0.2416 - accuracy: 0.9015 - val_loss: 0.1871 - val_accuracy: 0.9258\n",
      "Epoch 19/50\n",
      "122/121 [==============================] - 34s 276ms/step - loss: 0.2377 - accuracy: 0.9041 - val_loss: 0.1909 - val_accuracy: 0.9228\n",
      "Epoch 20/50\n",
      "122/121 [==============================] - 34s 276ms/step - loss: 0.2353 - accuracy: 0.9026 - val_loss: 0.1937 - val_accuracy: 0.9279\n",
      "Epoch 21/50\n",
      "122/121 [==============================] - 34s 276ms/step - loss: 0.2119 - accuracy: 0.9147 - val_loss: 0.1788 - val_accuracy: 0.9320\n",
      "Epoch 22/50\n",
      "122/121 [==============================] - 34s 275ms/step - loss: 0.2040 - accuracy: 0.9219 - val_loss: 0.1669 - val_accuracy: 0.9372\n",
      "Epoch 23/50\n",
      "122/121 [==============================] - 34s 277ms/step - loss: 0.1937 - accuracy: 0.9204 - val_loss: 0.1639 - val_accuracy: 0.9413\n",
      "Epoch 24/50\n",
      "122/121 [==============================] - 36s 296ms/step - loss: 0.1823 - accuracy: 0.9245 - val_loss: 0.1514 - val_accuracy: 0.9444\n",
      "Epoch 25/50\n",
      "122/121 [==============================] - 35s 287ms/step - loss: 0.1937 - accuracy: 0.9255 - val_loss: 0.1777 - val_accuracy: 0.9361\n",
      "Epoch 26/50\n",
      "122/121 [==============================] - 34s 281ms/step - loss: 0.1819 - accuracy: 0.9289 - val_loss: 0.1608 - val_accuracy: 0.9300\n",
      "Epoch 27/50\n",
      "122/121 [==============================] - 34s 280ms/step - loss: 0.1754 - accuracy: 0.9284 - val_loss: 0.1553 - val_accuracy: 0.9392\n",
      "Epoch 28/50\n",
      "122/121 [==============================] - 35s 290ms/step - loss: 0.1642 - accuracy: 0.9361 - val_loss: 0.1554 - val_accuracy: 0.9413\n",
      "Epoch 29/50\n",
      "122/121 [==============================] - 35s 287ms/step - loss: 0.1548 - accuracy: 0.9387 - val_loss: 0.1513 - val_accuracy: 0.9464\n",
      "Epoch 30/50\n",
      "122/121 [==============================] - 34s 281ms/step - loss: 0.1438 - accuracy: 0.9456 - val_loss: 0.1587 - val_accuracy: 0.9403\n",
      "Epoch 31/50\n",
      "122/121 [==============================] - 35s 283ms/step - loss: 0.1475 - accuracy: 0.9430 - val_loss: 0.1245 - val_accuracy: 0.9537\n",
      "Epoch 32/50\n",
      "122/121 [==============================] - 34s 280ms/step - loss: 0.1506 - accuracy: 0.9474 - val_loss: 0.1314 - val_accuracy: 0.9516\n",
      "Epoch 33/50\n",
      "122/121 [==============================] - 36s 295ms/step - loss: 0.1447 - accuracy: 0.9407 - val_loss: 0.1292 - val_accuracy: 0.9526\n",
      "Epoch 34/50\n",
      "122/121 [==============================] - 35s 288ms/step - loss: 0.1456 - accuracy: 0.9448 - val_loss: 0.1602 - val_accuracy: 0.9423\n",
      "Epoch 35/50\n",
      "122/121 [==============================] - 35s 287ms/step - loss: 0.1281 - accuracy: 0.9549 - val_loss: 0.1221 - val_accuracy: 0.9495\n",
      "Epoch 36/50\n",
      "122/121 [==============================] - 35s 290ms/step - loss: 0.1286 - accuracy: 0.9510 - val_loss: 0.1315 - val_accuracy: 0.9526\n",
      "Epoch 37/50\n",
      "122/121 [==============================] - 36s 292ms/step - loss: 0.1267 - accuracy: 0.9510 - val_loss: 0.1244 - val_accuracy: 0.9598\n",
      "Epoch 38/50\n",
      "122/121 [==============================] - 35s 285ms/step - loss: 0.1246 - accuracy: 0.9531 - val_loss: 0.1129 - val_accuracy: 0.9537\n",
      "Epoch 39/50\n",
      "122/121 [==============================] - 34s 282ms/step - loss: 0.1219 - accuracy: 0.9554 - val_loss: 0.1395 - val_accuracy: 0.9485\n",
      "Epoch 40/50\n",
      "122/121 [==============================] - 34s 282ms/step - loss: 0.1260 - accuracy: 0.9521 - val_loss: 0.1480 - val_accuracy: 0.9506\n",
      "Epoch 41/50\n",
      "122/121 [==============================] - 34s 282ms/step - loss: 0.1221 - accuracy: 0.9515 - val_loss: 0.1397 - val_accuracy: 0.9537\n",
      "Epoch 42/50\n",
      "122/121 [==============================] - 34s 278ms/step - loss: 0.1175 - accuracy: 0.9554 - val_loss: 0.1293 - val_accuracy: 0.9547\n",
      "Epoch 43/50\n",
      "122/121 [==============================] - 34s 277ms/step - loss: 0.1095 - accuracy: 0.9595 - val_loss: 0.1200 - val_accuracy: 0.9526\n",
      "Epoch 44/50\n",
      "122/121 [==============================] - 34s 277ms/step - loss: 0.1151 - accuracy: 0.9585 - val_loss: 0.1257 - val_accuracy: 0.9506\n",
      "Epoch 45/50\n",
      "122/121 [==============================] - 33s 274ms/step - loss: 0.1097 - accuracy: 0.9608 - val_loss: 0.1141 - val_accuracy: 0.9598\n",
      "Epoch 46/50\n",
      "122/121 [==============================] - 34s 278ms/step - loss: 0.0922 - accuracy: 0.9647 - val_loss: 0.1430 - val_accuracy: 0.9485\n",
      "Epoch 47/50\n",
      "122/121 [==============================] - 34s 276ms/step - loss: 0.1096 - accuracy: 0.9616 - val_loss: 0.1202 - val_accuracy: 0.9567\n",
      "Epoch 48/50\n",
      "122/121 [==============================] - 34s 276ms/step - loss: 0.1000 - accuracy: 0.9611 - val_loss: 0.1271 - val_accuracy: 0.9598\n",
      "Epoch 49/50\n",
      "122/121 [==============================] - 34s 278ms/step - loss: 0.1022 - accuracy: 0.9580 - val_loss: 0.1243 - val_accuracy: 0.9578\n",
      "Epoch 50/50\n",
      "122/121 [==============================] - 34s 276ms/step - loss: 0.1048 - accuracy: 0.9585 - val_loss: 0.1212 - val_accuracy: 0.9516\n"
     ]
    },
    {
     "data": {
      "text/plain": [
       "<keras.callbacks.callbacks.History at 0x12f96d19fc8>"
      ]
     },
     "execution_count": 17,
     "metadata": {},
     "output_type": "execute_result"
    }
   ],
   "source": [
    "tf.debugging.set_log_device_placement(True)\n",
    "model.fit_generator(datagen.flow(X_train, y_train, batch_size=32),\n",
    "                    validation_data=(X_test,y_test),\n",
    "                    steps_per_epoch=len(X_train) / 32, epochs=50)"
   ]
  },
  {
   "cell_type": "code",
   "execution_count": 18,
   "metadata": {},
   "outputs": [],
   "source": [
    "model.save('CNN_Model.h5')"
   ]
  },
  {
   "cell_type": "markdown",
   "metadata": {},
   "source": [
    "<h1>Train เพิ่มอีก  epochs=50<h1>"
   ]
  },
  {
   "cell_type": "code",
   "execution_count": 19,
   "metadata": {},
   "outputs": [
    {
     "name": "stdout",
     "output_type": "stream",
     "text": [
      "Epoch 1/50\n",
      "122/121 [==============================] - 93s 761ms/step - loss: 0.0898 - accuracy: 0.9675 - val_loss: 0.1303 - val_accuracy: 0.9578\n",
      "Epoch 2/50\n",
      "122/121 [==============================] - 34s 281ms/step - loss: 0.1028 - accuracy: 0.9639 - val_loss: 0.1774 - val_accuracy: 0.9361\n",
      "Epoch 3/50\n",
      "122/121 [==============================] - 34s 281ms/step - loss: 0.1017 - accuracy: 0.9624 - val_loss: 0.1265 - val_accuracy: 0.9495\n",
      "Epoch 4/50\n",
      "122/121 [==============================] - 34s 282ms/step - loss: 0.0881 - accuracy: 0.9660 - val_loss: 0.1269 - val_accuracy: 0.9547\n",
      "Epoch 5/50\n",
      "122/121 [==============================] - 36s 294ms/step - loss: 0.0972 - accuracy: 0.9611 - val_loss: 0.1468 - val_accuracy: 0.9434\n",
      "Epoch 6/50\n",
      "122/121 [==============================] - 34s 282ms/step - loss: 0.1005 - accuracy: 0.9637 - val_loss: 0.1213 - val_accuracy: 0.9547\n",
      "Epoch 7/50\n",
      "122/121 [==============================] - 35s 284ms/step - loss: 0.0929 - accuracy: 0.9662 - val_loss: 0.1288 - val_accuracy: 0.9516\n",
      "Epoch 8/50\n",
      "122/121 [==============================] - 34s 282ms/step - loss: 0.0954 - accuracy: 0.9662 - val_loss: 0.1187 - val_accuracy: 0.9578\n",
      "Epoch 9/50\n",
      "122/121 [==============================] - 35s 290ms/step - loss: 0.0881 - accuracy: 0.9655 - val_loss: 0.1233 - val_accuracy: 0.9547\n",
      "Epoch 10/50\n",
      "122/121 [==============================] - 36s 295ms/step - loss: 0.0833 - accuracy: 0.9693 - val_loss: 0.1366 - val_accuracy: 0.9506\n",
      "Epoch 11/50\n",
      "122/121 [==============================] - 37s 299ms/step - loss: 0.0926 - accuracy: 0.9642 - val_loss: 0.1346 - val_accuracy: 0.9444\n",
      "Epoch 12/50\n",
      "122/121 [==============================] - 39s 321ms/step - loss: 0.0845 - accuracy: 0.9662 - val_loss: 0.1460 - val_accuracy: 0.9506\n",
      "Epoch 13/50\n",
      "122/121 [==============================] - 40s 327ms/step - loss: 0.0772 - accuracy: 0.9701 - val_loss: 0.1338 - val_accuracy: 0.9609\n",
      "Epoch 14/50\n",
      "122/121 [==============================] - 41s 340ms/step - loss: 0.0778 - accuracy: 0.9716 - val_loss: 0.1242 - val_accuracy: 0.9609\n",
      "Epoch 15/50\n",
      "122/121 [==============================] - 36s 294ms/step - loss: 0.0748 - accuracy: 0.9745 - val_loss: 0.1319 - val_accuracy: 0.9567\n",
      "Epoch 16/50\n",
      "122/121 [==============================] - 36s 295ms/step - loss: 0.0674 - accuracy: 0.9750 - val_loss: 0.1191 - val_accuracy: 0.9537\n",
      "Epoch 17/50\n",
      "122/121 [==============================] - 35s 285ms/step - loss: 0.0929 - accuracy: 0.9662 - val_loss: 0.1433 - val_accuracy: 0.9506\n",
      "Epoch 18/50\n",
      "122/121 [==============================] - 35s 289ms/step - loss: 0.0735 - accuracy: 0.9729 - val_loss: 0.1423 - val_accuracy: 0.9516\n",
      "Epoch 19/50\n",
      "122/121 [==============================] - 35s 288ms/step - loss: 0.0689 - accuracy: 0.9729 - val_loss: 0.1166 - val_accuracy: 0.9578\n",
      "Epoch 20/50\n",
      "122/121 [==============================] - 35s 284ms/step - loss: 0.0881 - accuracy: 0.9675 - val_loss: 0.1373 - val_accuracy: 0.9506\n",
      "Epoch 21/50\n",
      "122/121 [==============================] - 35s 287ms/step - loss: 0.0739 - accuracy: 0.9729 - val_loss: 0.1239 - val_accuracy: 0.9547\n",
      "Epoch 22/50\n",
      "122/121 [==============================] - 36s 293ms/step - loss: 0.0769 - accuracy: 0.9704 - val_loss: 0.1411 - val_accuracy: 0.9495\n",
      "Epoch 23/50\n",
      "122/121 [==============================] - 36s 297ms/step - loss: 0.0615 - accuracy: 0.9771 - val_loss: 0.1447 - val_accuracy: 0.9567\n",
      "Epoch 24/50\n",
      "122/121 [==============================] - 35s 289ms/step - loss: 0.0830 - accuracy: 0.9686 - val_loss: 0.1373 - val_accuracy: 0.9495\n",
      "Epoch 25/50\n",
      "122/121 [==============================] - 36s 293ms/step - loss: 0.0734 - accuracy: 0.9724 - val_loss: 0.1426 - val_accuracy: 0.9516\n",
      "Epoch 26/50\n",
      "122/121 [==============================] - 35s 289ms/step - loss: 0.0725 - accuracy: 0.9750 - val_loss: 0.1355 - val_accuracy: 0.9485\n",
      "Epoch 27/50\n",
      "122/121 [==============================] - 37s 302ms/step - loss: 0.0691 - accuracy: 0.9758 - val_loss: 0.1454 - val_accuracy: 0.9506\n",
      "Epoch 28/50\n",
      "122/121 [==============================] - 36s 292ms/step - loss: 0.0713 - accuracy: 0.9729 - val_loss: 0.1472 - val_accuracy: 0.9537\n",
      "Epoch 29/50\n",
      "122/121 [==============================] - 36s 291ms/step - loss: 0.0712 - accuracy: 0.9719 - val_loss: 0.1411 - val_accuracy: 0.9547\n",
      "Epoch 30/50\n",
      "122/121 [==============================] - 36s 298ms/step - loss: 0.0623 - accuracy: 0.9773 - val_loss: 0.1491 - val_accuracy: 0.9557\n",
      "Epoch 31/50\n",
      "122/121 [==============================] - 35s 291ms/step - loss: 0.0687 - accuracy: 0.9724 - val_loss: 0.1377 - val_accuracy: 0.9506\n",
      "Epoch 32/50\n",
      "122/121 [==============================] - 35s 289ms/step - loss: 0.0651 - accuracy: 0.9719 - val_loss: 0.1356 - val_accuracy: 0.9567\n",
      "Epoch 33/50\n",
      "122/121 [==============================] - 35s 290ms/step - loss: 0.0684 - accuracy: 0.9719 - val_loss: 0.1280 - val_accuracy: 0.9578\n",
      "Epoch 34/50\n",
      "122/121 [==============================] - 35s 289ms/step - loss: 0.0677 - accuracy: 0.9742 - val_loss: 0.1399 - val_accuracy: 0.9588\n",
      "Epoch 35/50\n",
      "122/121 [==============================] - 36s 291ms/step - loss: 0.0628 - accuracy: 0.9768 - val_loss: 0.1665 - val_accuracy: 0.9506\n",
      "Epoch 36/50\n",
      "122/121 [==============================] - 36s 292ms/step - loss: 0.0723 - accuracy: 0.9716 - val_loss: 0.1369 - val_accuracy: 0.9578\n",
      "Epoch 37/50\n",
      "122/121 [==============================] - 36s 295ms/step - loss: 0.0586 - accuracy: 0.9789 - val_loss: 0.1654 - val_accuracy: 0.9506\n",
      "Epoch 38/50\n",
      "122/121 [==============================] - 35s 289ms/step - loss: 0.0655 - accuracy: 0.9753 - val_loss: 0.1633 - val_accuracy: 0.9557\n",
      "Epoch 39/50\n",
      "122/121 [==============================] - 35s 287ms/step - loss: 0.0621 - accuracy: 0.9776 - val_loss: 0.1476 - val_accuracy: 0.9557\n",
      "Epoch 40/50\n",
      "122/121 [==============================] - 36s 292ms/step - loss: 0.0577 - accuracy: 0.9773 - val_loss: 0.1810 - val_accuracy: 0.9475\n",
      "Epoch 41/50\n",
      "122/121 [==============================] - 37s 301ms/step - loss: 0.0755 - accuracy: 0.9755 - val_loss: 0.1488 - val_accuracy: 0.9516\n",
      "Epoch 42/50\n",
      "122/121 [==============================] - 37s 304ms/step - loss: 0.0537 - accuracy: 0.9814 - val_loss: 0.1618 - val_accuracy: 0.9526\n",
      "Epoch 43/50\n",
      "122/121 [==============================] - 35s 287ms/step - loss: 0.0702 - accuracy: 0.9724 - val_loss: 0.1103 - val_accuracy: 0.9598\n",
      "Epoch 44/50\n",
      "122/121 [==============================] - 36s 292ms/step - loss: 0.0640 - accuracy: 0.9745 - val_loss: 0.1275 - val_accuracy: 0.9526\n",
      "Epoch 45/50\n",
      "122/121 [==============================] - 35s 287ms/step - loss: 0.0730 - accuracy: 0.9719 - val_loss: 0.1759 - val_accuracy: 0.9485\n",
      "Epoch 46/50\n",
      "122/121 [==============================] - 36s 293ms/step - loss: 0.0655 - accuracy: 0.9750 - val_loss: 0.1370 - val_accuracy: 0.9557\n",
      "Epoch 47/50\n",
      "122/121 [==============================] - 36s 296ms/step - loss: 0.0613 - accuracy: 0.9807 - val_loss: 0.1856 - val_accuracy: 0.9506\n",
      "Epoch 48/50\n",
      "122/121 [==============================] - 35s 286ms/step - loss: 0.0549 - accuracy: 0.9796 - val_loss: 0.1477 - val_accuracy: 0.9567\n",
      "Epoch 49/50\n",
      "122/121 [==============================] - 35s 290ms/step - loss: 0.0627 - accuracy: 0.9773 - val_loss: 0.1372 - val_accuracy: 0.9578\n",
      "Epoch 50/50\n",
      "122/121 [==============================] - 35s 286ms/step - loss: 0.0597 - accuracy: 0.9789 - val_loss: 0.1310 - val_accuracy: 0.9557\n"
     ]
    },
    {
     "data": {
      "text/plain": [
       "<keras.callbacks.callbacks.History at 0x133d980b648>"
      ]
     },
     "execution_count": 19,
     "metadata": {},
     "output_type": "execute_result"
    }
   ],
   "source": [
    "model = load_model('CNN_Model.h5')\n",
    "tf.debugging.set_log_device_placement(True)\n",
    "model.fit_generator(datagen.flow(X_train, y_train, batch_size=32),\n",
    "                    validation_data=(X_test,y_test),\n",
    "                    steps_per_epoch=len(X_train) / 32, epochs=50)"
   ]
  },
  {
   "cell_type": "code",
   "execution_count": 20,
   "metadata": {},
   "outputs": [],
   "source": [
    "model.save('CNN_Model_100.h5')"
   ]
  },
  {
   "cell_type": "markdown",
   "metadata": {},
   "source": [
    "<h1>Train เพิ่มอีก  epochs=50<h1>"
   ]
  },
  {
   "cell_type": "code",
   "execution_count": 17,
   "metadata": {},
   "outputs": [
    {
     "name": "stdout",
     "output_type": "stream",
     "text": [
      "WARNING:tensorflow:From C:\\Users\\nataw\\Anaconda3\\lib\\site-packages\\keras\\backend\\tensorflow_backend.py:422: The name tf.global_variables is deprecated. Please use tf.compat.v1.global_variables instead.\n",
      "\n",
      "Epoch 1/50\n",
      "122/121 [==============================] - 37s 300ms/step - loss: 0.0838 - accuracy: 0.9701 - val_loss: 0.0693 - val_accuracy: 0.9804\n",
      "Epoch 2/50\n",
      "122/121 [==============================] - 34s 277ms/step - loss: 0.0745 - accuracy: 0.9729 - val_loss: 0.0688 - val_accuracy: 0.9722\n",
      "Epoch 3/50\n",
      "122/121 [==============================] - 34s 277ms/step - loss: 0.0815 - accuracy: 0.9704 - val_loss: 0.0752 - val_accuracy: 0.9743\n",
      "Epoch 4/50\n",
      "122/121 [==============================] - 34s 280ms/step - loss: 0.0745 - accuracy: 0.9722 - val_loss: 0.0760 - val_accuracy: 0.9691\n",
      "Epoch 5/50\n",
      "122/121 [==============================] - 34s 276ms/step - loss: 0.0722 - accuracy: 0.9735 - val_loss: 0.0698 - val_accuracy: 0.9732\n",
      "Epoch 6/50\n",
      "122/121 [==============================] - 34s 279ms/step - loss: 0.0808 - accuracy: 0.9724 - val_loss: 0.0714 - val_accuracy: 0.9691\n",
      "Epoch 7/50\n",
      "122/121 [==============================] - 34s 276ms/step - loss: 0.0878 - accuracy: 0.9693 - val_loss: 0.0595 - val_accuracy: 0.9815\n",
      "Epoch 8/50\n",
      "122/121 [==============================] - 34s 282ms/step - loss: 0.0782 - accuracy: 0.9724 - val_loss: 0.0748 - val_accuracy: 0.9722\n",
      "Epoch 9/50\n",
      "122/121 [==============================] - 35s 284ms/step - loss: 0.0666 - accuracy: 0.9753 - val_loss: 0.0848 - val_accuracy: 0.9609\n",
      "Epoch 10/50\n",
      "122/121 [==============================] - 34s 282ms/step - loss: 0.0685 - accuracy: 0.9742 - val_loss: 0.0887 - val_accuracy: 0.9691\n",
      "Epoch 11/50\n",
      "122/121 [==============================] - 34s 278ms/step - loss: 0.0647 - accuracy: 0.9789 - val_loss: 0.0871 - val_accuracy: 0.9691\n",
      "Epoch 12/50\n",
      "122/121 [==============================] - 35s 285ms/step - loss: 0.0650 - accuracy: 0.9791 - val_loss: 0.0716 - val_accuracy: 0.9691\n",
      "Epoch 13/50\n",
      "122/121 [==============================] - 35s 285ms/step - loss: 0.0567 - accuracy: 0.9771 - val_loss: 0.0979 - val_accuracy: 0.9701\n",
      "Epoch 14/50\n",
      "122/121 [==============================] - 34s 282ms/step - loss: 0.0639 - accuracy: 0.9765 - val_loss: 0.1163 - val_accuracy: 0.9629\n",
      "Epoch 15/50\n",
      "122/121 [==============================] - 35s 285ms/step - loss: 0.0662 - accuracy: 0.9763 - val_loss: 0.0853 - val_accuracy: 0.9670\n",
      "Epoch 16/50\n",
      "122/121 [==============================] - 35s 286ms/step - loss: 0.0596 - accuracy: 0.9786 - val_loss: 0.1007 - val_accuracy: 0.9691\n",
      "Epoch 17/50\n",
      "122/121 [==============================] - 35s 284ms/step - loss: 0.0632 - accuracy: 0.9771 - val_loss: 0.0782 - val_accuracy: 0.9732\n",
      "Epoch 18/50\n",
      "122/121 [==============================] - 33s 274ms/step - loss: 0.0678 - accuracy: 0.9765 - val_loss: 0.0782 - val_accuracy: 0.9732\n",
      "Epoch 19/50\n",
      "122/121 [==============================] - 34s 275ms/step - loss: 0.0531 - accuracy: 0.9820 - val_loss: 0.1077 - val_accuracy: 0.9681\n",
      "Epoch 20/50\n",
      "122/121 [==============================] - 34s 275ms/step - loss: 0.0629 - accuracy: 0.9784 - val_loss: 0.1079 - val_accuracy: 0.9598\n",
      "Epoch 21/50\n",
      "122/121 [==============================] - 34s 282ms/step - loss: 0.0933 - accuracy: 0.9642 - val_loss: 0.0652 - val_accuracy: 0.9722\n",
      "Epoch 22/50\n",
      "122/121 [==============================] - 35s 289ms/step - loss: 0.0602 - accuracy: 0.9799 - val_loss: 0.0742 - val_accuracy: 0.9732\n",
      "Epoch 23/50\n",
      "122/121 [==============================] - 35s 286ms/step - loss: 0.0579 - accuracy: 0.9784 - val_loss: 0.0729 - val_accuracy: 0.9712\n",
      "Epoch 24/50\n",
      "122/121 [==============================] - 35s 285ms/step - loss: 0.0610 - accuracy: 0.9763 - val_loss: 0.1039 - val_accuracy: 0.9640\n",
      "Epoch 25/50\n",
      "122/121 [==============================] - 34s 281ms/step - loss: 0.0557 - accuracy: 0.9814 - val_loss: 0.0875 - val_accuracy: 0.9701\n",
      "Epoch 26/50\n",
      "122/121 [==============================] - 34s 277ms/step - loss: 0.0697 - accuracy: 0.9760 - val_loss: 0.0774 - val_accuracy: 0.9681\n",
      "Epoch 27/50\n",
      "122/121 [==============================] - 34s 277ms/step - loss: 0.0505 - accuracy: 0.9835 - val_loss: 0.0980 - val_accuracy: 0.9691\n",
      "Epoch 28/50\n",
      "122/121 [==============================] - 34s 277ms/step - loss: 0.0569 - accuracy: 0.9796 - val_loss: 0.0962 - val_accuracy: 0.9681\n",
      "Epoch 29/50\n",
      "122/121 [==============================] - 34s 279ms/step - loss: 0.0669 - accuracy: 0.9773 - val_loss: 0.0866 - val_accuracy: 0.9722\n",
      "Epoch 30/50\n",
      "122/121 [==============================] - 34s 282ms/step - loss: 0.0597 - accuracy: 0.9786 - val_loss: 0.1173 - val_accuracy: 0.9629\n",
      "Epoch 31/50\n",
      "122/121 [==============================] - 34s 279ms/step - loss: 0.0504 - accuracy: 0.9809 - val_loss: 0.0982 - val_accuracy: 0.9670\n",
      "Epoch 32/50\n",
      "122/121 [==============================] - 35s 283ms/step - loss: 0.0493 - accuracy: 0.9812 - val_loss: 0.0788 - val_accuracy: 0.9722\n",
      "Epoch 33/50\n",
      "122/121 [==============================] - 34s 278ms/step - loss: 0.0516 - accuracy: 0.9825 - val_loss: 0.0998 - val_accuracy: 0.9670\n",
      "Epoch 34/50\n",
      "122/121 [==============================] - 34s 277ms/step - loss: 0.0597 - accuracy: 0.9809 - val_loss: 0.0990 - val_accuracy: 0.9701\n",
      "Epoch 35/50\n",
      "122/121 [==============================] - 34s 279ms/step - loss: 0.0567 - accuracy: 0.9784 - val_loss: 0.1328 - val_accuracy: 0.9640\n",
      "Epoch 36/50\n",
      "122/121 [==============================] - 34s 278ms/step - loss: 0.0628 - accuracy: 0.9791 - val_loss: 0.0728 - val_accuracy: 0.9732\n",
      "Epoch 37/50\n",
      "122/121 [==============================] - 34s 277ms/step - loss: 0.0580 - accuracy: 0.9822 - val_loss: 0.0780 - val_accuracy: 0.9712\n",
      "Epoch 38/50\n",
      "122/121 [==============================] - 34s 280ms/step - loss: 0.0602 - accuracy: 0.9799 - val_loss: 0.0923 - val_accuracy: 0.9609\n",
      "Epoch 39/50\n",
      "122/121 [==============================] - 34s 281ms/step - loss: 0.0584 - accuracy: 0.9784 - val_loss: 0.0921 - val_accuracy: 0.9722\n",
      "Epoch 40/50\n",
      "122/121 [==============================] - 34s 280ms/step - loss: 0.0644 - accuracy: 0.9802 - val_loss: 0.0865 - val_accuracy: 0.9722\n",
      "Epoch 41/50\n",
      "122/121 [==============================] - 34s 281ms/step - loss: 0.0493 - accuracy: 0.9822 - val_loss: 0.1146 - val_accuracy: 0.9660\n",
      "Epoch 42/50\n",
      "122/121 [==============================] - 34s 278ms/step - loss: 0.0565 - accuracy: 0.9809 - val_loss: 0.0856 - val_accuracy: 0.9743\n",
      "Epoch 43/50\n",
      "122/121 [==============================] - 34s 278ms/step - loss: 0.0556 - accuracy: 0.9796 - val_loss: 0.0906 - val_accuracy: 0.9732\n",
      "Epoch 44/50\n",
      "122/121 [==============================] - 34s 282ms/step - loss: 0.0466 - accuracy: 0.9843 - val_loss: 0.1271 - val_accuracy: 0.9640\n",
      "Epoch 45/50\n",
      "122/121 [==============================] - 34s 278ms/step - loss: 0.0500 - accuracy: 0.9822 - val_loss: 0.1785 - val_accuracy: 0.9557\n",
      "Epoch 46/50\n",
      "122/121 [==============================] - 34s 279ms/step - loss: 0.0575 - accuracy: 0.9773 - val_loss: 0.1122 - val_accuracy: 0.9619\n",
      "Epoch 47/50\n",
      "122/121 [==============================] - 34s 280ms/step - loss: 0.0492 - accuracy: 0.9851 - val_loss: 0.1048 - val_accuracy: 0.9629\n",
      "Epoch 48/50\n",
      "122/121 [==============================] - 34s 278ms/step - loss: 0.0420 - accuracy: 0.9845 - val_loss: 0.1035 - val_accuracy: 0.9660\n",
      "Epoch 49/50\n",
      "122/121 [==============================] - 34s 278ms/step - loss: 0.0403 - accuracy: 0.9832 - val_loss: 0.1015 - val_accuracy: 0.9701\n",
      "Epoch 50/50\n",
      "122/121 [==============================] - 34s 282ms/step - loss: 0.0555 - accuracy: 0.9822 - val_loss: 0.1289 - val_accuracy: 0.9629\n"
     ]
    },
    {
     "data": {
      "text/plain": [
       "<keras.callbacks.callbacks.History at 0x1c7b6200148>"
      ]
     },
     "execution_count": 17,
     "metadata": {},
     "output_type": "execute_result"
    }
   ],
   "source": [
    "model = load_model('CNN_Model_100.h5')\n",
    "tf.debugging.set_log_device_placement(True)\n",
    "model.fit_generator(datagen.flow(X_train, y_train, batch_size=32),\n",
    "                    validation_data=(X_test,y_test),\n",
    "                    steps_per_epoch=len(X_train) / 32, epochs=50)"
   ]
  },
  {
   "cell_type": "code",
   "execution_count": 18,
   "metadata": {},
   "outputs": [],
   "source": [
    "model.save('CNN_Model_150.h5')"
   ]
  },
  {
   "cell_type": "markdown",
   "metadata": {},
   "source": [
    "200"
   ]
  },
  {
   "cell_type": "code",
   "execution_count": 20,
   "metadata": {
    "scrolled": true
   },
   "outputs": [
    {
     "name": "stdout",
     "output_type": "stream",
     "text": [
      "Epoch 1/50\n",
      "122/121 [==============================] - 46s 378ms/step - loss: 0.0616 - accuracy: 0.9786 - val_loss: 0.0449 - val_accuracy: 0.9846\n",
      "Epoch 2/50\n",
      "122/121 [==============================] - 40s 328ms/step - loss: 0.0680 - accuracy: 0.9763 - val_loss: 0.0400 - val_accuracy: 0.9835\n",
      "Epoch 3/50\n",
      "122/121 [==============================] - 41s 336ms/step - loss: 0.0674 - accuracy: 0.9724 - val_loss: 0.0577 - val_accuracy: 0.9804\n",
      "Epoch 4/50\n",
      "122/121 [==============================] - 41s 333ms/step - loss: 0.0564 - accuracy: 0.9812 - val_loss: 0.0424 - val_accuracy: 0.9825\n",
      "Epoch 5/50\n",
      "122/121 [==============================] - 41s 337ms/step - loss: 0.0579 - accuracy: 0.9784 - val_loss: 0.0670 - val_accuracy: 0.9794\n",
      "Epoch 6/50\n",
      "122/121 [==============================] - 42s 347ms/step - loss: 0.0498 - accuracy: 0.9848 - val_loss: 0.0639 - val_accuracy: 0.9753\n",
      "Epoch 7/50\n",
      "122/121 [==============================] - 44s 359ms/step - loss: 0.0557 - accuracy: 0.9802 - val_loss: 0.0598 - val_accuracy: 0.9825\n",
      "Epoch 8/50\n",
      "122/121 [==============================] - 41s 337ms/step - loss: 0.0544 - accuracy: 0.9791 - val_loss: 0.0616 - val_accuracy: 0.9815\n",
      "Epoch 9/50\n",
      "122/121 [==============================] - 43s 350ms/step - loss: 0.0633 - accuracy: 0.9789 - val_loss: 0.0501 - val_accuracy: 0.9815\n",
      "Epoch 10/50\n",
      "122/121 [==============================] - 40s 325ms/step - loss: 0.0593 - accuracy: 0.9778 - val_loss: 0.0540 - val_accuracy: 0.9846\n",
      "Epoch 11/50\n",
      "122/121 [==============================] - 40s 326ms/step - loss: 0.0504 - accuracy: 0.9807 - val_loss: 0.0714 - val_accuracy: 0.9743\n",
      "Epoch 12/50\n",
      "122/121 [==============================] - 41s 337ms/step - loss: 0.0592 - accuracy: 0.9807 - val_loss: 0.0345 - val_accuracy: 0.9897\n",
      "Epoch 13/50\n",
      "122/121 [==============================] - 41s 332ms/step - loss: 0.0512 - accuracy: 0.9820 - val_loss: 0.0567 - val_accuracy: 0.9825\n",
      "Epoch 14/50\n",
      "122/121 [==============================] - 42s 341ms/step - loss: 0.0475 - accuracy: 0.9820 - val_loss: 0.0709 - val_accuracy: 0.9835\n",
      "Epoch 15/50\n",
      "122/121 [==============================] - 41s 333ms/step - loss: 0.0523 - accuracy: 0.9786 - val_loss: 0.0571 - val_accuracy: 0.9794\n",
      "Epoch 16/50\n",
      "122/121 [==============================] - 41s 333ms/step - loss: 0.0465 - accuracy: 0.9843 - val_loss: 0.0645 - val_accuracy: 0.9753\n",
      "Epoch 17/50\n",
      "122/121 [==============================] - 40s 327ms/step - loss: 0.0508 - accuracy: 0.9814 - val_loss: 0.0906 - val_accuracy: 0.9753\n",
      "Epoch 18/50\n",
      "122/121 [==============================] - 39s 323ms/step - loss: 0.0504 - accuracy: 0.9838 - val_loss: 0.0702 - val_accuracy: 0.9835\n",
      "Epoch 19/50\n",
      "122/121 [==============================] - 40s 331ms/step - loss: 0.0538 - accuracy: 0.9773 - val_loss: 0.0785 - val_accuracy: 0.9815\n",
      "Epoch 20/50\n",
      "122/121 [==============================] - 40s 328ms/step - loss: 0.0475 - accuracy: 0.9820 - val_loss: 0.0771 - val_accuracy: 0.9815\n",
      "Epoch 21/50\n",
      "122/121 [==============================] - 42s 342ms/step - loss: 0.0503 - accuracy: 0.9827 - val_loss: 0.0605 - val_accuracy: 0.9825\n",
      "Epoch 22/50\n",
      "122/121 [==============================] - 42s 345ms/step - loss: 0.0565 - accuracy: 0.9796 - val_loss: 0.0682 - val_accuracy: 0.9753\n",
      "Epoch 23/50\n",
      "122/121 [==============================] - 42s 341ms/step - loss: 0.0463 - accuracy: 0.9851 - val_loss: 0.0515 - val_accuracy: 0.9835\n",
      "Epoch 24/50\n",
      "122/121 [==============================] - 42s 345ms/step - loss: 0.0491 - accuracy: 0.9796 - val_loss: 0.0591 - val_accuracy: 0.9773\n",
      "Epoch 25/50\n",
      "122/121 [==============================] - 42s 345ms/step - loss: 0.0415 - accuracy: 0.9835 - val_loss: 0.0599 - val_accuracy: 0.9804\n",
      "Epoch 26/50\n",
      "122/121 [==============================] - 41s 333ms/step - loss: 0.0556 - accuracy: 0.9796 - val_loss: 0.0606 - val_accuracy: 0.9773\n",
      "Epoch 27/50\n",
      "122/121 [==============================] - 41s 340ms/step - loss: 0.0409 - accuracy: 0.9832 - val_loss: 0.0839 - val_accuracy: 0.9784\n",
      "Epoch 28/50\n",
      "122/121 [==============================] - 39s 318ms/step - loss: 0.0488 - accuracy: 0.9832 - val_loss: 0.0801 - val_accuracy: 0.9773\n",
      "Epoch 29/50\n",
      "122/121 [==============================] - 39s 323ms/step - loss: 0.0482 - accuracy: 0.9822 - val_loss: 0.0742 - val_accuracy: 0.9722\n",
      "Epoch 30/50\n",
      "122/121 [==============================] - 39s 318ms/step - loss: 0.0413 - accuracy: 0.9861 - val_loss: 0.0695 - val_accuracy: 0.9784\n",
      "Epoch 31/50\n",
      "122/121 [==============================] - 39s 317ms/step - loss: 0.0461 - accuracy: 0.9840 - val_loss: 0.0564 - val_accuracy: 0.9835\n",
      "Epoch 32/50\n",
      "122/121 [==============================] - 39s 319ms/step - loss: 0.0489 - accuracy: 0.9830 - val_loss: 0.0699 - val_accuracy: 0.9784\n",
      "Epoch 33/50\n",
      "122/121 [==============================] - 38s 314ms/step - loss: 0.0471 - accuracy: 0.9832 - val_loss: 0.0863 - val_accuracy: 0.9784\n",
      "Epoch 34/50\n",
      "122/121 [==============================] - 43s 355ms/step - loss: 0.0434 - accuracy: 0.9853 - val_loss: 0.0582 - val_accuracy: 0.9846\n",
      "Epoch 35/50\n",
      "122/121 [==============================] - 42s 348ms/step - loss: 0.0550 - accuracy: 0.9794 - val_loss: 0.0631 - val_accuracy: 0.9773\n",
      "Epoch 36/50\n",
      "122/121 [==============================] - 44s 360ms/step - loss: 0.0516 - accuracy: 0.9825 - val_loss: 0.1048 - val_accuracy: 0.9722\n",
      "Epoch 37/50\n",
      "122/121 [==============================] - 43s 351ms/step - loss: 0.0408 - accuracy: 0.9861 - val_loss: 0.0611 - val_accuracy: 0.9784\n",
      "Epoch 38/50\n",
      "122/121 [==============================] - 42s 348ms/step - loss: 0.0623 - accuracy: 0.9804 - val_loss: 0.0724 - val_accuracy: 0.9804\n",
      "Epoch 39/50\n",
      "122/121 [==============================] - 42s 342ms/step - loss: 0.0493 - accuracy: 0.9827 - val_loss: 0.0760 - val_accuracy: 0.9825\n",
      "Epoch 40/50\n",
      "122/121 [==============================] - 42s 344ms/step - loss: 0.0375 - accuracy: 0.9866 - val_loss: 0.1004 - val_accuracy: 0.9732\n",
      "Epoch 41/50\n",
      "122/121 [==============================] - 42s 348ms/step - loss: 0.0557 - accuracy: 0.9802 - val_loss: 0.0880 - val_accuracy: 0.9753\n",
      "Epoch 42/50\n",
      "122/121 [==============================] - 41s 333ms/step - loss: 0.0499 - accuracy: 0.9802 - val_loss: 0.0850 - val_accuracy: 0.9773\n",
      "Epoch 43/50\n",
      "122/121 [==============================] - 40s 326ms/step - loss: 0.0443 - accuracy: 0.9838 - val_loss: 0.0756 - val_accuracy: 0.9804\n",
      "Epoch 44/50\n",
      "122/121 [==============================] - 41s 338ms/step - loss: 0.0380 - accuracy: 0.9863 - val_loss: 0.0946 - val_accuracy: 0.9732\n",
      "Epoch 45/50\n",
      "122/121 [==============================] - 41s 333ms/step - loss: 0.0495 - accuracy: 0.9827 - val_loss: 0.0894 - val_accuracy: 0.9722\n",
      "Epoch 46/50\n",
      "122/121 [==============================] - 40s 332ms/step - loss: 0.0472 - accuracy: 0.9832 - val_loss: 0.0681 - val_accuracy: 0.9794\n",
      "Epoch 47/50\n",
      "122/121 [==============================] - 39s 322ms/step - loss: 0.0444 - accuracy: 0.9838 - val_loss: 0.0868 - val_accuracy: 0.9743\n",
      "Epoch 48/50\n",
      "122/121 [==============================] - 40s 328ms/step - loss: 0.0443 - accuracy: 0.9827 - val_loss: 0.0842 - val_accuracy: 0.9794\n",
      "Epoch 49/50\n",
      "122/121 [==============================] - 41s 332ms/step - loss: 0.0442 - accuracy: 0.9830 - val_loss: 0.0775 - val_accuracy: 0.9804\n",
      "Epoch 50/50\n",
      "122/121 [==============================] - 42s 345ms/step - loss: 0.0335 - accuracy: 0.9876 - val_loss: 0.0890 - val_accuracy: 0.9743\n"
     ]
    },
    {
     "data": {
      "text/plain": [
       "<keras.callbacks.callbacks.History at 0x2a4a4e36b88>"
      ]
     },
     "execution_count": 20,
     "metadata": {},
     "output_type": "execute_result"
    }
   ],
   "source": [
    "model = load_model('CNN_Model_150.h5')\n",
    "tf.debugging.set_log_device_placement(True)\n",
    "model.fit_generator(datagen.flow(X_train, y_train, batch_size=32),\n",
    "                    validation_data=(X_test,y_test),\n",
    "                    steps_per_epoch=len(X_train) / 32, epochs=50)"
   ]
  },
  {
   "cell_type": "code",
   "execution_count": 21,
   "metadata": {},
   "outputs": [],
   "source": [
    "model.save('CNN_Model_200.h5')"
   ]
  },
  {
   "cell_type": "markdown",
   "metadata": {},
   "source": [
    "<h1>ทดสอบโมเดล<h1>"
   ]
  },
  {
   "cell_type": "code",
   "execution_count": 24,
   "metadata": {},
   "outputs": [],
   "source": [
    "test = load_images_from_folder_test()"
   ]
  },
  {
   "cell_type": "code",
   "execution_count": 25,
   "metadata": {},
   "outputs": [],
   "source": [
    "X_testt = np.array([i[0] for i in test]).reshape(-1,224,224,3)/255."
   ]
  },
  {
   "cell_type": "code",
   "execution_count": 26,
   "metadata": {},
   "outputs": [],
   "source": [
    "y_testt = np.array([i[1] for i in test])"
   ]
  },
  {
   "cell_type": "markdown",
   "metadata": {},
   "source": [
    "<h2>โมดล50รอบ<h2>"
   ]
  },
  {
   "cell_type": "code",
   "execution_count": 25,
   "metadata": {},
   "outputs": [],
   "source": [
    "model = load_model('CNN_Model.h5')"
   ]
  },
  {
   "cell_type": "code",
   "execution_count": null,
   "metadata": {},
   "outputs": [],
   "source": []
  },
  {
   "cell_type": "code",
   "execution_count": 27,
   "metadata": {},
   "outputs": [
    {
     "data": {
      "text/plain": [
       "1"
      ]
     },
     "execution_count": 27,
     "metadata": {},
     "output_type": "execute_result"
    }
   ],
   "source": [
    "rounded_labels=np.argmax(y_testt, axis=1)\n",
    "rounded_labels[1]"
   ]
  },
  {
   "cell_type": "code",
   "execution_count": 29,
   "metadata": {},
   "outputs": [
    {
     "data": {
      "text/plain": [
       "[0.16622286983443507, 0.9402515888214111]"
      ]
     },
     "execution_count": 29,
     "metadata": {},
     "output_type": "execute_result"
    }
   ],
   "source": [
    "model.evaluate(X_testt, y_testt, verbose=0)"
   ]
  },
  {
   "cell_type": "code",
   "execution_count": 30,
   "metadata": {},
   "outputs": [
    {
     "name": "stdout",
     "output_type": "stream",
     "text": [
      "              precision    recall  f1-score   support\n",
      "\n",
      "           0       0.96      0.93      0.94       338\n",
      "           1       0.92      0.95      0.94       298\n",
      "\n",
      "    accuracy                           0.94       636\n",
      "   macro avg       0.94      0.94      0.94       636\n",
      "weighted avg       0.94      0.94      0.94       636\n",
      "\n"
     ]
    }
   ],
   "source": [
    "prediction = model.predict_classes(X_testt)\n",
    "print(classification_report(rounded_labels, prediction))"
   ]
  },
  {
   "cell_type": "code",
   "execution_count": 31,
   "metadata": {},
   "outputs": [
    {
     "data": {
      "text/plain": [
       "array([[314,  24],\n",
       "       [ 14, 284]], dtype=int64)"
      ]
     },
     "execution_count": 31,
     "metadata": {},
     "output_type": "execute_result"
    }
   ],
   "source": [
    "prediction = model.predict_classes(X_testt)\n",
    "confusion_matrix(rounded_labels, prediction)"
   ]
  },
  {
   "cell_type": "markdown",
   "metadata": {},
   "source": [
    "<h2>โมดล100รอบ<h2>"
   ]
  },
  {
   "cell_type": "code",
   "execution_count": 32,
   "metadata": {},
   "outputs": [],
   "source": [
    "model = load_model('CNN_Model_100.h5')"
   ]
  },
  {
   "cell_type": "code",
   "execution_count": 33,
   "metadata": {},
   "outputs": [
    {
     "data": {
      "text/plain": [
       "[0.2019020823656388, 0.9292452931404114]"
      ]
     },
     "execution_count": 33,
     "metadata": {},
     "output_type": "execute_result"
    }
   ],
   "source": [
    "model.evaluate(X_testt, y_testt, verbose=0)"
   ]
  },
  {
   "cell_type": "code",
   "execution_count": 34,
   "metadata": {},
   "outputs": [
    {
     "name": "stdout",
     "output_type": "stream",
     "text": [
      "              precision    recall  f1-score   support\n",
      "\n",
      "           0       0.98      0.88      0.93       338\n",
      "           1       0.88      0.98      0.93       298\n",
      "\n",
      "    accuracy                           0.93       636\n",
      "   macro avg       0.93      0.93      0.93       636\n",
      "weighted avg       0.93      0.93      0.93       636\n",
      "\n"
     ]
    }
   ],
   "source": [
    "prediction = model.predict_classes(X_testt)\n",
    "print(classification_report(rounded_labels, prediction))"
   ]
  },
  {
   "cell_type": "code",
   "execution_count": 35,
   "metadata": {},
   "outputs": [
    {
     "data": {
      "text/plain": [
       "array([[299,  39],\n",
       "       [  6, 292]], dtype=int64)"
      ]
     },
     "execution_count": 35,
     "metadata": {},
     "output_type": "execute_result"
    }
   ],
   "source": [
    "prediction = model.predict_classes(X_testt)\n",
    "confusion_matrix(rounded_labels, prediction)"
   ]
  },
  {
   "cell_type": "markdown",
   "metadata": {},
   "source": [
    "<h2>โมดล150รอบ<h2>"
   ]
  },
  {
   "cell_type": "code",
   "execution_count": 5,
   "metadata": {},
   "outputs": [
    {
     "name": "stdout",
     "output_type": "stream",
     "text": [
      "WARNING:tensorflow:From C:\\Users\\nataw\\Anaconda3\\lib\\site-packages\\keras\\backend\\tensorflow_backend.py:4070: The name tf.nn.max_pool is deprecated. Please use tf.nn.max_pool2d instead.\n",
      "\n",
      "WARNING:tensorflow:From C:\\Users\\nataw\\Anaconda3\\lib\\site-packages\\keras\\backend\\tensorflow_backend.py:422: The name tf.global_variables is deprecated. Please use tf.compat.v1.global_variables instead.\n",
      "\n"
     ]
    }
   ],
   "source": [
    "model = load_model('CNN_Model_150.h5')"
   ]
  },
  {
   "cell_type": "code",
   "execution_count": 24,
   "metadata": {},
   "outputs": [
    {
     "data": {
      "text/plain": [
       "[0.2794041603381904, 0.9292452931404114]"
      ]
     },
     "execution_count": 24,
     "metadata": {},
     "output_type": "execute_result"
    }
   ],
   "source": [
    "model.evaluate(X_testt, y_testt, verbose=0)"
   ]
  },
  {
   "cell_type": "code",
   "execution_count": 27,
   "metadata": {},
   "outputs": [
    {
     "name": "stdout",
     "output_type": "stream",
     "text": [
      "              precision    recall  f1-score   support\n",
      "\n",
      "           0       0.97      0.89      0.93       338\n",
      "           1       0.89      0.97      0.93       298\n",
      "\n",
      "    accuracy                           0.93       636\n",
      "   macro avg       0.93      0.93      0.93       636\n",
      "weighted avg       0.93      0.93      0.93       636\n",
      "\n"
     ]
    }
   ],
   "source": [
    "prediction = model.predict_classes(X_testt)\n",
    "print(classification_report(rounded_labels, prediction))"
   ]
  },
  {
   "cell_type": "code",
   "execution_count": 28,
   "metadata": {},
   "outputs": [
    {
     "data": {
      "text/plain": [
       "array([[302,  36],\n",
       "       [  9, 289]], dtype=int64)"
      ]
     },
     "execution_count": 28,
     "metadata": {},
     "output_type": "execute_result"
    }
   ],
   "source": [
    "prediction = model.predict_classes(X_testt)\n",
    "confusion_matrix(rounded_labels, prediction)"
   ]
  },
  {
   "cell_type": "code",
   "execution_count": null,
   "metadata": {},
   "outputs": [],
   "source": []
  },
  {
   "cell_type": "code",
   "execution_count": 22,
   "metadata": {},
   "outputs": [],
   "source": [
    "model = load_model('CNN_Model_200.h5')"
   ]
  },
  {
   "cell_type": "code",
   "execution_count": 28,
   "metadata": {},
   "outputs": [
    {
     "data": {
      "text/plain": [
       "[0.20499521065737653, 0.9433962106704712]"
      ]
     },
     "execution_count": 28,
     "metadata": {},
     "output_type": "execute_result"
    }
   ],
   "source": [
    "model.evaluate(X_testt, y_testt, verbose=0)"
   ]
  },
  {
   "cell_type": "code",
   "execution_count": 29,
   "metadata": {},
   "outputs": [
    {
     "name": "stdout",
     "output_type": "stream",
     "text": [
      "              precision    recall  f1-score   support\n",
      "\n",
      "           0       0.98      0.91      0.94       338\n",
      "           1       0.91      0.98      0.94       298\n",
      "\n",
      "    accuracy                           0.94       636\n",
      "   macro avg       0.94      0.95      0.94       636\n",
      "weighted avg       0.95      0.94      0.94       636\n",
      "\n"
     ]
    }
   ],
   "source": [
    "prediction = model.predict_classes(X_testt)\n",
    "print(classification_report(rounded_labels, prediction))"
   ]
  },
  {
   "cell_type": "code",
   "execution_count": 30,
   "metadata": {},
   "outputs": [
    {
     "data": {
      "text/plain": [
       "array([[308,  30],\n",
       "       [  6, 292]], dtype=int64)"
      ]
     },
     "execution_count": 30,
     "metadata": {},
     "output_type": "execute_result"
    }
   ],
   "source": [
    "prediction = model.predict_classes(X_testt)\n",
    "confusion_matrix(rounded_labels, prediction)"
   ]
  },
  {
   "cell_type": "code",
   "execution_count": null,
   "metadata": {},
   "outputs": [],
   "source": []
  }
 ],
 "metadata": {
  "kernelspec": {
   "display_name": "Python 3",
   "language": "python",
   "name": "python3"
  },
  "language_info": {
   "codemirror_mode": {
    "name": "ipython",
    "version": 3
   },
   "file_extension": ".py",
   "mimetype": "text/x-python",
   "name": "python",
   "nbconvert_exporter": "python",
   "pygments_lexer": "ipython3",
   "version": "3.7.7"
  }
 },
 "nbformat": 4,
 "nbformat_minor": 4
}
