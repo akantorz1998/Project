{
 "cells": [
  {
   "cell_type": "code",
   "execution_count": 1,
   "metadata": {},
   "outputs": [
    {
     "name": "stderr",
     "output_type": "stream",
     "text": [
      "C:\\Users\\nataw\\Anaconda3\\lib\\site-packages\\tensorflow\\python\\framework\\dtypes.py:516: FutureWarning: Passing (type, 1) or '1type' as a synonym of type is deprecated; in a future version of numpy, it will be understood as (type, (1,)) / '(1,)type'.\n",
      "  _np_qint8 = np.dtype([(\"qint8\", np.int8, 1)])\n",
      "C:\\Users\\nataw\\Anaconda3\\lib\\site-packages\\tensorflow\\python\\framework\\dtypes.py:517: FutureWarning: Passing (type, 1) or '1type' as a synonym of type is deprecated; in a future version of numpy, it will be understood as (type, (1,)) / '(1,)type'.\n",
      "  _np_quint8 = np.dtype([(\"quint8\", np.uint8, 1)])\n",
      "C:\\Users\\nataw\\Anaconda3\\lib\\site-packages\\tensorflow\\python\\framework\\dtypes.py:518: FutureWarning: Passing (type, 1) or '1type' as a synonym of type is deprecated; in a future version of numpy, it will be understood as (type, (1,)) / '(1,)type'.\n",
      "  _np_qint16 = np.dtype([(\"qint16\", np.int16, 1)])\n",
      "C:\\Users\\nataw\\Anaconda3\\lib\\site-packages\\tensorflow\\python\\framework\\dtypes.py:519: FutureWarning: Passing (type, 1) or '1type' as a synonym of type is deprecated; in a future version of numpy, it will be understood as (type, (1,)) / '(1,)type'.\n",
      "  _np_quint16 = np.dtype([(\"quint16\", np.uint16, 1)])\n",
      "C:\\Users\\nataw\\Anaconda3\\lib\\site-packages\\tensorflow\\python\\framework\\dtypes.py:520: FutureWarning: Passing (type, 1) or '1type' as a synonym of type is deprecated; in a future version of numpy, it will be understood as (type, (1,)) / '(1,)type'.\n",
      "  _np_qint32 = np.dtype([(\"qint32\", np.int32, 1)])\n",
      "C:\\Users\\nataw\\Anaconda3\\lib\\site-packages\\tensorflow\\python\\framework\\dtypes.py:525: FutureWarning: Passing (type, 1) or '1type' as a synonym of type is deprecated; in a future version of numpy, it will be understood as (type, (1,)) / '(1,)type'.\n",
      "  np_resource = np.dtype([(\"resource\", np.ubyte, 1)])\n",
      "C:\\Users\\nataw\\Anaconda3\\lib\\site-packages\\tensorboard\\compat\\tensorflow_stub\\dtypes.py:541: FutureWarning: Passing (type, 1) or '1type' as a synonym of type is deprecated; in a future version of numpy, it will be understood as (type, (1,)) / '(1,)type'.\n",
      "  _np_qint8 = np.dtype([(\"qint8\", np.int8, 1)])\n",
      "C:\\Users\\nataw\\Anaconda3\\lib\\site-packages\\tensorboard\\compat\\tensorflow_stub\\dtypes.py:542: FutureWarning: Passing (type, 1) or '1type' as a synonym of type is deprecated; in a future version of numpy, it will be understood as (type, (1,)) / '(1,)type'.\n",
      "  _np_quint8 = np.dtype([(\"quint8\", np.uint8, 1)])\n",
      "C:\\Users\\nataw\\Anaconda3\\lib\\site-packages\\tensorboard\\compat\\tensorflow_stub\\dtypes.py:543: FutureWarning: Passing (type, 1) or '1type' as a synonym of type is deprecated; in a future version of numpy, it will be understood as (type, (1,)) / '(1,)type'.\n",
      "  _np_qint16 = np.dtype([(\"qint16\", np.int16, 1)])\n",
      "C:\\Users\\nataw\\Anaconda3\\lib\\site-packages\\tensorboard\\compat\\tensorflow_stub\\dtypes.py:544: FutureWarning: Passing (type, 1) or '1type' as a synonym of type is deprecated; in a future version of numpy, it will be understood as (type, (1,)) / '(1,)type'.\n",
      "  _np_quint16 = np.dtype([(\"quint16\", np.uint16, 1)])\n",
      "C:\\Users\\nataw\\Anaconda3\\lib\\site-packages\\tensorboard\\compat\\tensorflow_stub\\dtypes.py:545: FutureWarning: Passing (type, 1) or '1type' as a synonym of type is deprecated; in a future version of numpy, it will be understood as (type, (1,)) / '(1,)type'.\n",
      "  _np_qint32 = np.dtype([(\"qint32\", np.int32, 1)])\n",
      "C:\\Users\\nataw\\Anaconda3\\lib\\site-packages\\tensorboard\\compat\\tensorflow_stub\\dtypes.py:550: FutureWarning: Passing (type, 1) or '1type' as a synonym of type is deprecated; in a future version of numpy, it will be understood as (type, (1,)) / '(1,)type'.\n",
      "  np_resource = np.dtype([(\"resource\", np.ubyte, 1)])\n"
     ]
    }
   ],
   "source": [
    "from sklearn.model_selection import train_test_split\n",
    "from sklearn.metrics import roc_curve, roc_auc_score, f1_score\n",
    "import numpy as np\n",
    "import matplotlib.pyplot as plt\n",
    "from sklearn.metrics import accuracy_score\n",
    "from sklearn.metrics import confusion_matrix\n",
    "from sklearn import metrics\n",
    "import warnings\n",
    "import tensorflow as tf"
   ]
  },
  {
   "cell_type": "code",
   "execution_count": 2,
   "metadata": {},
   "outputs": [
    {
     "name": "stderr",
     "output_type": "stream",
     "text": [
      "Using TensorFlow backend.\n"
     ]
    }
   ],
   "source": [
    "import numpy as np\n",
    "import pandas as pd\n",
    "import cv2\n",
    "import matplotlib.pyplot as plt\n",
    "from keras.preprocessing.image import ImageDataGenerator"
   ]
  },
  {
   "cell_type": "code",
   "execution_count": 3,
   "metadata": {},
   "outputs": [],
   "source": [
    "train_datagen = ImageDataGenerator(\n",
    "        rescale=1./255,\n",
    "        shear_range=0.2,\n",
    "        zoom_range=0.2,\n",
    "        horizontal_flip=True)"
   ]
  },
  {
   "cell_type": "code",
   "execution_count": 4,
   "metadata": {},
   "outputs": [],
   "source": [
    "test_datagen = ImageDataGenerator(rescale=1./255)"
   ]
  },
  {
   "cell_type": "code",
   "execution_count": 5,
   "metadata": {},
   "outputs": [
    {
     "name": "stdout",
     "output_type": "stream",
     "text": [
      "Found 14188 images belonging to 2 classes.\n"
     ]
    }
   ],
   "source": [
    "train_generator = train_datagen.flow_from_directory(\n",
    "        'E:\\\\Drowsiness\\\\sleep',\n",
    "        target_size=(150, 150),\n",
    "        batch_size=32,\n",
    "        class_mode='binary')"
   ]
  },
  {
   "cell_type": "code",
   "execution_count": 6,
   "metadata": {},
   "outputs": [
    {
     "name": "stdout",
     "output_type": "stream",
     "text": [
      "{'alert': 0, 'drowsy': 1}\n"
     ]
    }
   ],
   "source": [
    "print(train_generator.class_indices)"
   ]
  },
  {
   "cell_type": "code",
   "execution_count": 7,
   "metadata": {},
   "outputs": [
    {
     "name": "stdout",
     "output_type": "stream",
     "text": [
      "Found 3971 images belonging to 2 classes.\n"
     ]
    }
   ],
   "source": [
    "validation_generator = test_datagen.flow_from_directory(\n",
    "        'E:\\\\Drowsiness\\\\val',\n",
    "        target_size=(150, 150),\n",
    "        batch_size=32,\n",
    "        class_mode='binary')"
   ]
  },
  {
   "cell_type": "code",
   "execution_count": 8,
   "metadata": {},
   "outputs": [
    {
     "name": "stdout",
     "output_type": "stream",
     "text": [
      "{'alert': 0, 'drowsy': 1}\n"
     ]
    }
   ],
   "source": [
    "print(validation_generator.class_indices)"
   ]
  },
  {
   "cell_type": "code",
   "execution_count": 9,
   "metadata": {},
   "outputs": [
    {
     "name": "stdout",
     "output_type": "stream",
     "text": [
      "Found 1386 images belonging to 2 classes.\n"
     ]
    }
   ],
   "source": [
    "test_generator = test_datagen.flow_from_directory(\n",
    "        'E:\\\\Drowsiness\\\\test',\n",
    "        target_size=(150, 150),\n",
    "        batch_size=32,\n",
    "        class_mode='binary')"
   ]
  },
  {
   "cell_type": "code",
   "execution_count": 10,
   "metadata": {},
   "outputs": [
    {
     "name": "stdout",
     "output_type": "stream",
     "text": [
      "{'alert': 0, 'drowsy': 1}\n"
     ]
    }
   ],
   "source": [
    "print(test_generator.class_indices)"
   ]
  },
  {
   "cell_type": "code",
   "execution_count": 34,
   "metadata": {},
   "outputs": [],
   "source": [
    "drowsiness = [0,10]"
   ]
  },
  {
   "cell_type": "code",
   "execution_count": null,
   "metadata": {},
   "outputs": [],
   "source": [
    "data = []\n",
    "labels = []\n",
    "image_paths = 'E:/Drowsiness/dataset/face_image/'\n",
    "\n",
    "for Respondent in range(50):\n",
    "    for i in range(20):\n",
    "        for drows in drowsiness:\n",
    "            name_img = str(Respondent) +'_'+str(i+1)+'_'+str(drows)\n",
    "            image = cv2.imread(image_paths+name_img+'.jpg')\n",
    "            \n",
    "            if image is not None:\n",
    "                image = cv2.resize(image, (100, 100))\n",
    "                cv2.imshow('image',image)\n",
    "                if cv2.waitKey(1) & 0xFF == ord('q'):\n",
    "                    break\n",
    "\n",
    "                \n",
    "                if drows == 10:\n",
    "                    drows = 1\n",
    "                labels.append(drows)\n",
    "                data.append(image)\n",
    "cv2.destroyAllWindows()"
   ]
  },
  {
   "cell_type": "code",
   "execution_count": 35,
   "metadata": {},
   "outputs": [],
   "source": [
    "X_test = []\n",
    "y_test = []\n",
    "image_paths = 'E:/Drowsiness/dataset/face_image/'\n",
    "\n",
    "for Respondent in range(50,61):\n",
    "    for i in range(200):\n",
    "        for drows in drowsiness:\n",
    "            name_img = str(Respondent) +'_'+str(i+1)+'_'+str(drows)\n",
    "            image = cv2.imread(image_paths+name_img+'.jpg')\n",
    "            \n",
    "            if image is not None:\n",
    "                image = cv2.resize(image, (150, 150))\n",
    "                cv2.imshow('image',image)\n",
    "                if cv2.waitKey(1) & 0xFF == ord('q'):\n",
    "                    break\n",
    "\n",
    "                \n",
    "                if drows == 10:\n",
    "                    drows = 1\n",
    "                y_test.append(drows)\n",
    "                X_test.append(image)\n",
    "cv2.destroyAllWindows()"
   ]
  },
  {
   "cell_type": "code",
   "execution_count": 41,
   "metadata": {},
   "outputs": [],
   "source": [
    "#+++++++++++++++++++++++++++++++++++++++++++++++++++++++++++++++++++++++++++++++++++++++++++++++++++++++++++++++++++++++++++++++\n",
    "X_test = []\n",
    "y_test = []\n",
    "image_paths = 'E:/Drowsiness/test/alert/'\n",
    "\n",
    "for Respondent in range(0,61):\n",
    "    for i in range(200):\n",
    "        for drows in drowsiness:\n",
    "            name_img = str(Respondent) +'_'+str(i+1)+'_'+str(drows)\n",
    "            image = cv2.imread(image_paths+name_img+'.jpg')\n",
    "            \n",
    "            if image is not None:\n",
    "                image = cv2.resize(image, (150, 150))\n",
    "                cv2.imshow('image',image)\n",
    "                if cv2.waitKey(1) & 0xFF == ord('q'):\n",
    "                    break\n",
    "\n",
    "                \n",
    "                if drows == 10:\n",
    "                    drows = 1\n",
    "                y_test.append(drows)\n",
    "                X_test.append(image)\n",
    "cv2.destroyAllWindows()"
   ]
  },
  {
   "cell_type": "code",
   "execution_count": 42,
   "metadata": {},
   "outputs": [],
   "source": [
    "image_paths = 'E:/Drowsiness/test/drowsy/'\n",
    "\n",
    "for Respondent in range(0,61):\n",
    "    for i in range(200):\n",
    "        for drows in drowsiness:\n",
    "            name_img = str(Respondent) +'_'+str(i+1)+'_'+str(drows)\n",
    "            image = cv2.imread(image_paths+name_img+'.jpg')\n",
    "            \n",
    "            if image is not None:\n",
    "                image = cv2.resize(image, (150, 150))\n",
    "                cv2.imshow('image',image)\n",
    "                if cv2.waitKey(1) & 0xFF == ord('q'):\n",
    "                    break\n",
    "\n",
    "                \n",
    "                if drows == 10:\n",
    "                    drows = 1\n",
    "                y_test.append(drows)\n",
    "                X_test.append(image)\n",
    "cv2.destroyAllWindows()"
   ]
  },
  {
   "cell_type": "code",
   "execution_count": null,
   "metadata": {},
   "outputs": [],
   "source": [
    "X_train = np.array(data)\n",
    "y_train = np.array(labels)\n",
    "data = []\n",
    "labels = []"
   ]
  },
  {
   "cell_type": "code",
   "execution_count": null,
   "metadata": {},
   "outputs": [],
   "source": []
  },
  {
   "cell_type": "code",
   "execution_count": 43,
   "metadata": {},
   "outputs": [],
   "source": [
    "X_test = np.array(X_test)\n",
    "y_test = np.array(y_test)"
   ]
  },
  {
   "cell_type": "code",
   "execution_count": 53,
   "metadata": {},
   "outputs": [
    {
     "name": "stdout",
     "output_type": "stream",
     "text": [
      "(1386, 150, 150, 3)\n",
      "(1386,)\n"
     ]
    }
   ],
   "source": [
    "#print(X_train.shape)\n",
    "print(X_test.shape)\n",
    "#print(y_train.shape)\n",
    "print(y_test.shape)"
   ]
  },
  {
   "cell_type": "code",
   "execution_count": null,
   "metadata": {},
   "outputs": [],
   "source": [
    "X_train, X_test = X_train / 255.0, X_test / 255.0"
   ]
  },
  {
   "cell_type": "code",
   "execution_count": 52,
   "metadata": {},
   "outputs": [],
   "source": [
    "X_test =  X_test / 255.0"
   ]
  },
  {
   "cell_type": "code",
   "execution_count": null,
   "metadata": {},
   "outputs": [],
   "source": [
    "#Augmentation\n",
    "#flip\n",
    "#newArray = X_train\n",
    "data1 = []\n",
    "for i in range(X_train.shape[0]):\n",
    "    flip = np.fliplr(X_train[i])\n",
    "    data1.append(flip)"
   ]
  },
  {
   "cell_type": "code",
   "execution_count": null,
   "metadata": {},
   "outputs": [],
   "source": [
    "plt.imshow(X_train[0])"
   ]
  },
  {
   "cell_type": "code",
   "execution_count": null,
   "metadata": {},
   "outputs": [],
   "source": []
  },
  {
   "cell_type": "code",
   "execution_count": null,
   "metadata": {},
   "outputs": [],
   "source": [
    "data1 = np.array(data1)"
   ]
  },
  {
   "cell_type": "code",
   "execution_count": null,
   "metadata": {},
   "outputs": [],
   "source": [
    "X_train = np.append(X_train,data1,axis = 0)"
   ]
  },
  {
   "cell_type": "code",
   "execution_count": null,
   "metadata": {},
   "outputs": [],
   "source": [
    "plt.imshow(X_train[799])"
   ]
  },
  {
   "cell_type": "code",
   "execution_count": null,
   "metadata": {},
   "outputs": [],
   "source": [
    "y_train = np.append(y_train,y_train,axis = 0)"
   ]
  },
  {
   "cell_type": "code",
   "execution_count": null,
   "metadata": {
    "scrolled": true
   },
   "outputs": [],
   "source": [
    "for i in range(7857):\n",
    "    if y_train[i] != y_train[7857+i]:\n",
    "        print(y_train[i])\n",
    "        print(y_train[7857+i])"
   ]
  },
  {
   "cell_type": "code",
   "execution_count": null,
   "metadata": {},
   "outputs": [],
   "source": [
    "#Rotation\n",
    "import skimage\n",
    "import skimage.transform\n",
    "# Placeholders: 'x' = A single image, 'y' = A batch of images\n",
    "# 'k' denotes the number of 90 degree anticlockwise rotations\n",
    "shape = [100, 100, 3]\n",
    "x = tf.placeholder(dtype = tf.float32, shape = shape)\n",
    "rot_90 = tf.image.rot90(X_train[0], k=1)\n",
    "rot_180 = tf.image.rot90(X_train[0], k=2)\n",
    "# To rotate in any angle. In the example below, 'angles' is in radians\n",
    "shape = [1, 100, 100, 3]\n",
    "y = tf.placeholder(dtype = tf.float32, shape = shape)\n",
    "rot_tf_180 = tf.contrib.image.rotate(y, angles=3.1415)\n",
    "# Scikit-Image. 'angle' = Degrees. 'img' = Input Image\n",
    "# For details about 'mode', checkout the interpolation section below.\n",
    "rot = skimage.transform.rotate(X_train[0], angle=45, mode='reflect')\n",
    "rot1 = skimage.transform.rotate(X_train[0], angle=315, mode='reflect')"
   ]
  },
  {
   "cell_type": "code",
   "execution_count": null,
   "metadata": {},
   "outputs": [],
   "source": [
    "data1 = []\n",
    "data2 = []\n",
    "for i in range(X_train.shape[0]):\n",
    "    rot = skimage.transform.rotate(X_train[0], angle=45, mode='reflect')\n",
    "    rot2 = skimage.transform.rotate(X_train[0], angle=315, mode='reflect')\n",
    "    data1.append(rot)\n",
    "    data2.append(rot2)"
   ]
  },
  {
   "cell_type": "code",
   "execution_count": null,
   "metadata": {},
   "outputs": [],
   "source": [
    "plt.imshow(data1[799])"
   ]
  },
  {
   "cell_type": "code",
   "execution_count": null,
   "metadata": {},
   "outputs": [],
   "source": [
    "plt.imshow(data2[799])"
   ]
  },
  {
   "cell_type": "code",
   "execution_count": null,
   "metadata": {},
   "outputs": [],
   "source": [
    "data1 = np.array(data1)\n",
    "data2 = np.array(data2)"
   ]
  },
  {
   "cell_type": "code",
   "execution_count": null,
   "metadata": {},
   "outputs": [],
   "source": [
    "X_train = np.append(X_train,data1,axis = 0)\n",
    "y_train_t = y_train\n",
    "y_train = np.append(y_train,y_train,axis = 0)"
   ]
  },
  {
   "cell_type": "code",
   "execution_count": null,
   "metadata": {},
   "outputs": [],
   "source": [
    "X_train = np.append(X_train,data2,axis = 0)\n",
    "y_train = np.append(y_train,y_train_t,axis = 0)"
   ]
  },
  {
   "cell_type": "code",
   "execution_count": null,
   "metadata": {},
   "outputs": [],
   "source": [
    "data1 = []\n",
    "data2 = []"
   ]
  },
  {
   "cell_type": "code",
   "execution_count": null,
   "metadata": {},
   "outputs": [],
   "source": [
    "X_train, X_val, y_train, y_val = train_test_split(X_train, y_train, test_size=0.3, random_state=26)"
   ]
  },
  {
   "cell_type": "code",
   "execution_count": null,
   "metadata": {},
   "outputs": [],
   "source": [
    "X_test, null, y_test, null = train_test_split(X_test, y_test, test_size=0.001, random_state=42)"
   ]
  },
  {
   "cell_type": "code",
   "execution_count": null,
   "metadata": {},
   "outputs": [],
   "source": [
    "print(X_train.shape)\n",
    "print(y_train.shape)\n",
    "\n",
    "print(X_val.shape)\n",
    "print(y_val.shape)\n",
    "\n",
    "print(X_test.shape)\n",
    "print(y_test.shape)"
   ]
  },
  {
   "cell_type": "code",
   "execution_count": null,
   "metadata": {},
   "outputs": [],
   "source": [
    "#from tensorflow.keras.utils import to_categorical\n",
    "#y_train = to_categorical(y_train, 2)\n",
    "##y_test = to_categorical(y_test, 2)\n",
    "#y_val = to_categorical(y_val, 2)"
   ]
  },
  {
   "cell_type": "code",
   "execution_count": null,
   "metadata": {},
   "outputs": [],
   "source": [
    "y_train[0]"
   ]
  },
  {
   "cell_type": "code",
   "execution_count": null,
   "metadata": {},
   "outputs": [],
   "source": [
    "print(X_train[0])\n",
    "print(X_test[0])\n",
    "print(X_val[0])"
   ]
  },
  {
   "cell_type": "code",
   "execution_count": 26,
   "metadata": {},
   "outputs": [
    {
     "data": {
      "text/plain": [
       "'\\n\\nmodel = Sequential()\\nmodel.add(Conv2D(128,(3,3),input_shape=(150,150,3),activation=\"relu\"))\\nmodel.add(MaxPooling2D((2,2)))\\nmodel.add(Conv2D(64,(3,3),activation=\"relu\"))\\nmodel.add(MaxPooling2D((2,2)))\\nmodel.add(Dropout(.4))\\nmodel.add(Conv2D(32,(3,3),activation=\"relu\"))\\nmodel.add(MaxPooling2D((2,2)))\\nmodel.add(Flatten())\\nmodel.add(Dense(256,activation=\"relu\"))\\nmodel.add(Dropout(.4))\\nmodel.add(Dense(128,activation=\"relu\"))\\nmodel.add(Dropout(.4))\\nmodel.add(Dense(32,activation=\"relu\"))\\nmodel.add(Dropout(.4))\\nmodel.add(Dense(1,activation=\"sigmoid\"))\\n'"
      ]
     },
     "execution_count": 26,
     "metadata": {},
     "output_type": "execute_result"
    }
   ],
   "source": [
    "from keras import backend\n",
    "from keras.models import Sequential\n",
    "from keras.layers.convolutional import Conv2D,MaxPooling2D\n",
    "from keras.layers.core import Dense, Flatten,Activation,Dropout\n",
    "from sklearn.model_selection import train_test_split\n",
    "\n",
    "\n",
    "\n",
    "\"\"\"\n",
    "# Create Sequential Model\n",
    "model = Sequential()\n",
    "model.add(Conv2D(8, (4, 4), input_shape=(100, 100, 3)))\n",
    "model.add(Activation('relu'))\n",
    "#model.add(Dropout(0.2))\n",
    "model.add(MaxPooling2D(pool_size=(2, 2)))\n",
    "\n",
    "model.add(Conv2D(16, (3, 3)))\n",
    "model.add(Activation('relu'))\n",
    "#model.add(Dropout(0.2))\n",
    "model.add(MaxPooling2D(pool_size=(2, 2)))\n",
    "\n",
    "\n",
    "\n",
    "model.add(Flatten())  # this converts our 3D feature maps to 1D feature vectors\n",
    "model.add(Dense(64))\n",
    "model.add(Activation('relu'))\n",
    "model.add(Dropout(0.2))\n",
    "model.add(Dense(1))\n",
    "model.add(Activation('sigmoid'))\n",
    "\n",
    "\"\"\"\n",
    "\n",
    "# Create Sequential Model\n",
    "model = Sequential()\n",
    "# Layer 1: Convolutional Layer\n",
    "model.add(Conv2D(filters=16, kernel_size=(3,3), input_shape=(150,150,3), activation='relu',))\n",
    "# Layer 2: Pooling Layer\n",
    "model.add(MaxPooling2D(pool_size=(3,3)))\n",
    "# Layer 3: Convolutional Layer\n",
    "model.add(Conv2D(filters=32, kernel_size=(3,3), input_shape=(150,150,3), activation='relu',))\n",
    "# Layer 4: Pooling Layer\n",
    "model.add(MaxPooling2D(pool_size=(3,3)))\n",
    "# Layer 5: Flatten Layer\n",
    "model.add(Conv2D(filters=32, kernel_size=(3,3), input_shape=(150,150,3), activation='relu',))\n",
    "\n",
    "model.add(Flatten())\n",
    "# Layer 6: Dense Layer (Hidden Layer)\n",
    "model.add(Dense(128, activation='relu'))\n",
    "model.add(Dropout(0.2))\n",
    "# Layer 7: Dense Layer (Output Layer)\n",
    "model.add(Dense(1, activation='sigmoid'))\n",
    "\"\"\"\n",
    "\n",
    "model = Sequential()\n",
    "model.add(Conv2D(128,(3,3),input_shape=(150,150,3),activation=\"relu\"))\n",
    "model.add(MaxPooling2D((2,2)))\n",
    "model.add(Conv2D(64,(3,3),activation=\"relu\"))\n",
    "model.add(MaxPooling2D((2,2)))\n",
    "model.add(Dropout(.4))\n",
    "model.add(Conv2D(32,(3,3),activation=\"relu\"))\n",
    "model.add(MaxPooling2D((2,2)))\n",
    "model.add(Flatten())\n",
    "model.add(Dense(256,activation=\"relu\"))\n",
    "model.add(Dropout(.4))\n",
    "model.add(Dense(128,activation=\"relu\"))\n",
    "model.add(Dropout(.4))\n",
    "model.add(Dense(32,activation=\"relu\"))\n",
    "model.add(Dropout(.4))\n",
    "model.add(Dense(1,activation=\"sigmoid\"))\n",
    "\"\"\""
   ]
  },
  {
   "cell_type": "code",
   "execution_count": 27,
   "metadata": {},
   "outputs": [
    {
     "name": "stdout",
     "output_type": "stream",
     "text": [
      "Model: \"sequential_3\"\n",
      "_________________________________________________________________\n",
      "Layer (type)                 Output Shape              Param #   \n",
      "=================================================================\n",
      "conv2d_7 (Conv2D)            (None, 148, 148, 16)      448       \n",
      "_________________________________________________________________\n",
      "max_pooling2d_6 (MaxPooling2 (None, 49, 49, 16)        0         \n",
      "_________________________________________________________________\n",
      "conv2d_8 (Conv2D)            (None, 47, 47, 32)        4640      \n",
      "_________________________________________________________________\n",
      "max_pooling2d_7 (MaxPooling2 (None, 15, 15, 32)        0         \n",
      "_________________________________________________________________\n",
      "conv2d_9 (Conv2D)            (None, 13, 13, 32)        9248      \n",
      "_________________________________________________________________\n",
      "flatten_3 (Flatten)          (None, 5408)              0         \n",
      "_________________________________________________________________\n",
      "dense_7 (Dense)              (None, 128)               692352    \n",
      "_________________________________________________________________\n",
      "dropout_6 (Dropout)          (None, 128)               0         \n",
      "_________________________________________________________________\n",
      "dense_8 (Dense)              (None, 1)                 129       \n",
      "=================================================================\n",
      "Total params: 706,817\n",
      "Trainable params: 706,817\n",
      "Non-trainable params: 0\n",
      "_________________________________________________________________\n"
     ]
    }
   ],
   "source": [
    "model.summary()"
   ]
  },
  {
   "cell_type": "code",
   "execution_count": 28,
   "metadata": {},
   "outputs": [],
   "source": [
    "# COMPILE\n",
    "model.compile(loss='binary_crossentropy',\n",
    "              optimizer='Adam',\n",
    "              metrics=['accuracy'])\n"
   ]
  },
  {
   "cell_type": "code",
   "execution_count": 29,
   "metadata": {},
   "outputs": [
    {
     "name": "stdout",
     "output_type": "stream",
     "text": [
      "Epoch 1/10\n",
      "1500/1500 [==============================] - 259s 173ms/step - loss: 0.1973 - accuracy: 0.9097 - val_loss: 1.6525 - val_accuracy: 0.6330\n",
      "Epoch 2/10\n",
      "1500/1500 [==============================] - 255s 170ms/step - loss: 0.0276 - accuracy: 0.9915 - val_loss: 2.8016 - val_accuracy: 0.6032\n",
      "Epoch 3/10\n",
      "1500/1500 [==============================] - 254s 169ms/step - loss: 0.0198 - accuracy: 0.9938 - val_loss: 2.3278 - val_accuracy: 0.6475\n",
      "Epoch 4/10\n",
      "1500/1500 [==============================] - 257s 171ms/step - loss: 0.0140 - accuracy: 0.9957 - val_loss: 2.4319 - val_accuracy: 0.6761\n",
      "Epoch 5/10\n",
      "1500/1500 [==============================] - 258s 172ms/step - loss: 0.0141 - accuracy: 0.9957 - val_loss: 1.6510 - val_accuracy: 0.7101\n",
      "Epoch 6/10\n",
      "1500/1500 [==============================] - 258s 172ms/step - loss: 0.0101 - accuracy: 0.9971 - val_loss: 2.5374 - val_accuracy: 0.5958\n",
      "Epoch 7/10\n",
      "1500/1500 [==============================] - 263s 176ms/step - loss: 0.0106 - accuracy: 0.9965 - val_loss: 2.0285 - val_accuracy: 0.6120\n",
      "Epoch 8/10\n",
      "1500/1500 [==============================] - 260s 173ms/step - loss: 0.0070 - accuracy: 0.9980 - val_loss: 2.1914 - val_accuracy: 0.6652\n",
      "Epoch 9/10\n",
      "1500/1500 [==============================] - 261s 174ms/step - loss: 0.0080 - accuracy: 0.9977 - val_loss: 2.8655 - val_accuracy: 0.6397\n",
      "Epoch 10/10\n",
      "1500/1500 [==============================] - 262s 175ms/step - loss: 0.0054 - accuracy: 0.9984 - val_loss: 0.5697 - val_accuracy: 0.5987\n"
     ]
    }
   ],
   "source": [
    "tf.debugging.set_log_device_placement(True)\n",
    "\n",
    "\n",
    "#from tensorflow.keras.callbacks import EarlyStopping\n",
    "#model.fit(X_train, y_train, epochs=15, validation_data=(X_val, y_val))\n",
    "#3model.save('CNN_Model')\n",
    "model.fit(\n",
    "        train_generator,\n",
    "        steps_per_epoch=1500,\n",
    "        epochs=10,\n",
    "        validation_data=validation_generator,\n",
    "        validation_steps=400)\n",
    "\n",
    "\n",
    "#from tensorflow.keras.callbacks import EarlyStopping\n",
    "#early_stop = EarlyStopping(monitor='val_loss', patience=4)\n",
    "#model.fit(X_train, y_train, epochs=15, validation_data=(X_val, y_val), callbacks=[early_stop])\n",
    "model.save('CNN_Model')"
   ]
  },
  {
   "cell_type": "code",
   "execution_count": 30,
   "metadata": {},
   "outputs": [
    {
     "data": {
      "text/html": [
       "<div>\n",
       "<style scoped>\n",
       "    .dataframe tbody tr th:only-of-type {\n",
       "        vertical-align: middle;\n",
       "    }\n",
       "\n",
       "    .dataframe tbody tr th {\n",
       "        vertical-align: top;\n",
       "    }\n",
       "\n",
       "    .dataframe thead th {\n",
       "        text-align: right;\n",
       "    }\n",
       "</style>\n",
       "<table border=\"1\" class=\"dataframe\">\n",
       "  <thead>\n",
       "    <tr style=\"text-align: right;\">\n",
       "      <th></th>\n",
       "      <th>val_loss</th>\n",
       "      <th>val_accuracy</th>\n",
       "      <th>loss</th>\n",
       "      <th>accuracy</th>\n",
       "    </tr>\n",
       "  </thead>\n",
       "  <tbody>\n",
       "    <tr>\n",
       "      <th>0</th>\n",
       "      <td>1.652538</td>\n",
       "      <td>0.632974</td>\n",
       "      <td>0.197310</td>\n",
       "      <td>0.909679</td>\n",
       "    </tr>\n",
       "    <tr>\n",
       "      <th>1</th>\n",
       "      <td>2.801580</td>\n",
       "      <td>0.603241</td>\n",
       "      <td>0.027427</td>\n",
       "      <td>0.991486</td>\n",
       "    </tr>\n",
       "    <tr>\n",
       "      <th>2</th>\n",
       "      <td>2.327750</td>\n",
       "      <td>0.647526</td>\n",
       "      <td>0.019771</td>\n",
       "      <td>0.993826</td>\n",
       "    </tr>\n",
       "    <tr>\n",
       "      <th>3</th>\n",
       "      <td>2.431944</td>\n",
       "      <td>0.676080</td>\n",
       "      <td>0.014018</td>\n",
       "      <td>0.995722</td>\n",
       "    </tr>\n",
       "    <tr>\n",
       "      <th>4</th>\n",
       "      <td>1.651039</td>\n",
       "      <td>0.710107</td>\n",
       "      <td>0.014089</td>\n",
       "      <td>0.995682</td>\n",
       "    </tr>\n",
       "    <tr>\n",
       "      <th>5</th>\n",
       "      <td>2.537416</td>\n",
       "      <td>0.595768</td>\n",
       "      <td>0.010085</td>\n",
       "      <td>0.997142</td>\n",
       "    </tr>\n",
       "    <tr>\n",
       "      <th>6</th>\n",
       "      <td>2.028467</td>\n",
       "      <td>0.611972</td>\n",
       "      <td>0.010598</td>\n",
       "      <td>0.996473</td>\n",
       "    </tr>\n",
       "    <tr>\n",
       "      <th>7</th>\n",
       "      <td>2.191380</td>\n",
       "      <td>0.665225</td>\n",
       "      <td>0.007026</td>\n",
       "      <td>0.997977</td>\n",
       "    </tr>\n",
       "    <tr>\n",
       "      <th>8</th>\n",
       "      <td>2.865476</td>\n",
       "      <td>0.639660</td>\n",
       "      <td>0.007982</td>\n",
       "      <td>0.997705</td>\n",
       "    </tr>\n",
       "    <tr>\n",
       "      <th>9</th>\n",
       "      <td>0.569662</td>\n",
       "      <td>0.598707</td>\n",
       "      <td>0.005415</td>\n",
       "      <td>0.998394</td>\n",
       "    </tr>\n",
       "  </tbody>\n",
       "</table>\n",
       "</div>"
      ],
      "text/plain": [
       "   val_loss  val_accuracy      loss  accuracy\n",
       "0  1.652538      0.632974  0.197310  0.909679\n",
       "1  2.801580      0.603241  0.027427  0.991486\n",
       "2  2.327750      0.647526  0.019771  0.993826\n",
       "3  2.431944      0.676080  0.014018  0.995722\n",
       "4  1.651039      0.710107  0.014089  0.995682\n",
       "5  2.537416      0.595768  0.010085  0.997142\n",
       "6  2.028467      0.611972  0.010598  0.996473\n",
       "7  2.191380      0.665225  0.007026  0.997977\n",
       "8  2.865476      0.639660  0.007982  0.997705\n",
       "9  0.569662      0.598707  0.005415  0.998394"
      ]
     },
     "execution_count": 30,
     "metadata": {},
     "output_type": "execute_result"
    }
   ],
   "source": [
    "metrics = pd.DataFrame(model.history.history)\n",
    "metrics"
   ]
  },
  {
   "cell_type": "code",
   "execution_count": 31,
   "metadata": {},
   "outputs": [
    {
     "data": {
      "text/plain": [
       "<matplotlib.axes._subplots.AxesSubplot at 0x295772d2cc8>"
      ]
     },
     "execution_count": 31,
     "metadata": {},
     "output_type": "execute_result"
    },
    {
     "data": {
      "image/png": "[encoded data removed]",
      "text/plain": [
       "<Figure size 432x288 with 1 Axes>"
      ]
     },
     "metadata": {
      "needs_background": "light"
     },
     "output_type": "display_data"
    }
   ],
   "source": [
    "metrics[['loss', 'val_loss']].plot()"
   ]
  },
  {
   "cell_type": "code",
   "execution_count": 32,
   "metadata": {},
   "outputs": [
    {
     "data": {
      "text/plain": [
       "<matplotlib.axes._subplots.AxesSubplot at 0x29577334488>"
      ]
     },
     "execution_count": 32,
     "metadata": {},
     "output_type": "execute_result"
    },
    {
     "data": {
      "image/png": "[encoded data removed]",
      "text/plain": [
       "<Figure size 432x288 with 1 Axes>"
      ]
     },
     "metadata": {
      "needs_background": "light"
     },
     "output_type": "display_data"
    }
   ],
   "source": [
    "metrics[['accuracy', 'val_accuracy']].plot()"
   ]
  },
  {
   "cell_type": "code",
   "execution_count": 54,
   "metadata": {},
   "outputs": [
    {
     "data": {
      "text/plain": [
       "[5.129356143106458, 0.30375179648399353]"
      ]
     },
     "execution_count": 54,
     "metadata": {},
     "output_type": "execute_result"
    }
   ],
   "source": [
    "model.evaluate(X_test, y_test, verbose=0)"
   ]
  },
  {
   "cell_type": "code",
   "execution_count": 55,
   "metadata": {},
   "outputs": [
    {
     "name": "stdout",
     "output_type": "stream",
     "text": [
      "              precision    recall  f1-score   support\n",
      "\n",
      "           0       0.33      0.22      0.26       792\n",
      "           1       0.29      0.42      0.34       594\n",
      "\n",
      "    accuracy                           0.30      1386\n",
      "   macro avg       0.31      0.32      0.30      1386\n",
      "weighted avg       0.31      0.30      0.30      1386\n",
      "\n"
     ]
    }
   ],
   "source": [
    "from sklearn.metrics import classification_report\n",
    "prediction = model.predict_classes(X_test)\n",
    "print(classification_report(y_test, prediction))"
   ]
  },
  {
   "cell_type": "code",
   "execution_count": 56,
   "metadata": {},
   "outputs": [
    {
     "data": {
      "text/plain": [
       "array([[171, 621],\n",
       "       [344, 250]], dtype=int64)"
      ]
     },
     "execution_count": 56,
     "metadata": {},
     "output_type": "execute_result"
    }
   ],
   "source": [
    "from sklearn.metrics import confusion_matrix\n",
    "prediction = model.predict_classes(X_test)\n",
    "confusion_matrix(y_test, prediction)"
   ]
  },
  {
   "cell_type": "code",
   "execution_count": 57,
   "metadata": {},
   "outputs": [
    {
     "data": {
      "text/plain": [
       "array([[1],\n",
       "       [1],\n",
       "       [1],\n",
       "       ...,\n",
       "       [1],\n",
       "       [1],\n",
       "       [1]])"
      ]
     },
     "execution_count": 57,
     "metadata": {},
     "output_type": "execute_result"
    }
   ],
   "source": [
    "prediction"
   ]
  },
  {
   "cell_type": "code",
   "execution_count": 58,
   "metadata": {},
   "outputs": [
    {
     "data": {
      "text/plain": [
       "array([0, 0, 0, ..., 1, 1, 1])"
      ]
     },
     "execution_count": 58,
     "metadata": {},
     "output_type": "execute_result"
    }
   ],
   "source": [
    "y_test"
   ]
  },
  {
   "cell_type": "code",
   "execution_count": 59,
   "metadata": {},
   "outputs": [
    {
     "data": {
      "text/plain": [
       "array([[[[0.51764706, 0.58431373, 0.61960784],\n",
       "         [0.54117647, 0.61176471, 0.63921569],\n",
       "         [0.57647059, 0.65098039, 0.6627451 ],\n",
       "         ...,\n",
       "         [0.70588235, 0.77647059, 0.77254902],\n",
       "         [0.71372549, 0.77254902, 0.78039216],\n",
       "         [0.71764706, 0.77647059, 0.78823529]],\n",
       "\n",
       "        [[0.11372549, 0.14117647, 0.2627451 ],\n",
       "         [0.14117647, 0.17647059, 0.27843137],\n",
       "         [0.18823529, 0.22745098, 0.31372549],\n",
       "         ...,\n",
       "         [0.70980392, 0.78039216, 0.78431373],\n",
       "         [0.70588235, 0.77647059, 0.78039216],\n",
       "         [0.70588235, 0.77647059, 0.78431373]],\n",
       "\n",
       "        [[0.1254902 , 0.1254902 , 0.30588235],\n",
       "         [0.1254902 , 0.12941176, 0.29803922],\n",
       "         [0.12156863, 0.12941176, 0.28627451],\n",
       "         ...,\n",
       "         [0.70588235, 0.77647059, 0.78039216],\n",
       "         [0.70980392, 0.78039216, 0.78431373],\n",
       "         [0.71372549, 0.78039216, 0.79215686]],\n",
       "\n",
       "        ...,\n",
       "\n",
       "        [[0.23921569, 0.2       , 0.5254902 ],\n",
       "         [0.30196078, 0.2627451 , 0.59607843],\n",
       "         [0.30588235, 0.27058824, 0.58823529],\n",
       "         ...,\n",
       "         [0.06666667, 0.09019608, 0.16470588],\n",
       "         [0.07843137, 0.10588235, 0.2       ],\n",
       "         [0.05882353, 0.08627451, 0.19215686]],\n",
       "\n",
       "        [[0.29411765, 0.23529412, 0.62352941],\n",
       "         [0.24705882, 0.19607843, 0.56470588],\n",
       "         [0.22352941, 0.18431373, 0.50980392],\n",
       "         ...,\n",
       "         [0.0627451 , 0.08627451, 0.16078431],\n",
       "         [0.07843137, 0.09411765, 0.19215686],\n",
       "         [0.10196078, 0.11764706, 0.23137255]],\n",
       "\n",
       "        [[0.21176471, 0.16470588, 0.52156863],\n",
       "         [0.18039216, 0.13333333, 0.48627451],\n",
       "         [0.18039216, 0.14509804, 0.4627451 ],\n",
       "         ...,\n",
       "         [0.03921569, 0.05882353, 0.14117647],\n",
       "         [0.08627451, 0.10196078, 0.21176471],\n",
       "         [0.11372549, 0.11764706, 0.25882353]]],\n",
       "\n",
       "\n",
       "       [[[0.11372549, 0.11372549, 0.30196078],\n",
       "         [0.12156863, 0.12156863, 0.30980392],\n",
       "         [0.12156863, 0.12156863, 0.30980392],\n",
       "         ...,\n",
       "         [0.69803922, 0.77254902, 0.78431373],\n",
       "         [0.69019608, 0.77254902, 0.78039216],\n",
       "         [0.69019608, 0.77254902, 0.78039216]],\n",
       "\n",
       "        [[0.11764706, 0.11372549, 0.30980392],\n",
       "         [0.11764706, 0.11372549, 0.30980392],\n",
       "         [0.12156863, 0.12156863, 0.30980392],\n",
       "         ...,\n",
       "         [0.70588235, 0.78431373, 0.78823529],\n",
       "         [0.70196078, 0.78039216, 0.78431373],\n",
       "         [0.70196078, 0.78039216, 0.78823529]],\n",
       "\n",
       "        [[0.12156863, 0.11372549, 0.30980392],\n",
       "         [0.11764706, 0.11372549, 0.30980392],\n",
       "         [0.12156863, 0.11764706, 0.31372549],\n",
       "         ...,\n",
       "         [0.68627451, 0.76470588, 0.76862745],\n",
       "         [0.70196078, 0.78039216, 0.78823529],\n",
       "         [0.70196078, 0.78039216, 0.78431373]],\n",
       "\n",
       "        ...,\n",
       "\n",
       "        [[0.20392157, 0.16470588, 0.44313725],\n",
       "         [0.12941176, 0.10980392, 0.34901961],\n",
       "         [0.11372549, 0.11372549, 0.31372549],\n",
       "         ...,\n",
       "         [0.04705882, 0.07843137, 0.14509804],\n",
       "         [0.09803922, 0.1254902 , 0.2       ],\n",
       "         [0.08627451, 0.11764706, 0.20392157]],\n",
       "\n",
       "        [[0.22352941, 0.18039216, 0.45490196],\n",
       "         [0.14117647, 0.1254902 , 0.36470588],\n",
       "         [0.11764706, 0.11764706, 0.31764706],\n",
       "         ...,\n",
       "         [0.00784314, 0.03529412, 0.09411765],\n",
       "         [0.03137255, 0.05882353, 0.1254902 ],\n",
       "         [0.0745098 , 0.09803922, 0.17647059]],\n",
       "\n",
       "        [[0.21568627, 0.16862745, 0.45882353],\n",
       "         [0.18431373, 0.16078431, 0.41568627],\n",
       "         [0.1372549 , 0.13333333, 0.33333333],\n",
       "         ...,\n",
       "         [0.05098039, 0.07843137, 0.1254902 ],\n",
       "         [0.02352941, 0.04705882, 0.10196078],\n",
       "         [0.02352941, 0.04313725, 0.11372549]]],\n",
       "\n",
       "\n",
       "       [[[0.10980392, 0.11764706, 0.30588235],\n",
       "         [0.10980392, 0.11764706, 0.30588235],\n",
       "         [0.10980392, 0.11764706, 0.30588235],\n",
       "         ...,\n",
       "         [0.70588235, 0.77647059, 0.78431373],\n",
       "         [0.67843137, 0.74509804, 0.75686275],\n",
       "         [0.68235294, 0.74901961, 0.76862745]],\n",
       "\n",
       "        [[0.10980392, 0.11764706, 0.30588235],\n",
       "         [0.10588235, 0.11372549, 0.30196078],\n",
       "         [0.10588235, 0.11372549, 0.30196078],\n",
       "         ...,\n",
       "         [0.70588235, 0.77647059, 0.77647059],\n",
       "         [0.71764706, 0.78823529, 0.79215686],\n",
       "         [0.67843137, 0.74901961, 0.75294118]],\n",
       "\n",
       "        [[0.10980392, 0.11372549, 0.30980392],\n",
       "         [0.10588235, 0.11372549, 0.30588235],\n",
       "         [0.10588235, 0.11372549, 0.30588235],\n",
       "         ...,\n",
       "         [0.71372549, 0.78431373, 0.78431373],\n",
       "         [0.71372549, 0.78431373, 0.78431373],\n",
       "         [0.71764706, 0.78823529, 0.79215686]],\n",
       "\n",
       "        ...,\n",
       "\n",
       "        [[0.0745098 , 0.12156863, 0.25098039],\n",
       "         [0.06666667, 0.10980392, 0.22745098],\n",
       "         [0.05882353, 0.09411765, 0.2       ],\n",
       "         ...,\n",
       "         [0.10196078, 0.17647059, 0.2745098 ],\n",
       "         [0.07843137, 0.15686275, 0.24705882],\n",
       "         [0.07058824, 0.1372549 , 0.22745098]],\n",
       "\n",
       "        [[0.03921569, 0.07843137, 0.20784314],\n",
       "         [0.04705882, 0.08627451, 0.20392157],\n",
       "         [0.06666667, 0.09411765, 0.2       ],\n",
       "         ...,\n",
       "         [0.09019608, 0.15686275, 0.25490196],\n",
       "         [0.1372549 , 0.20784314, 0.29803922],\n",
       "         [0.13333333, 0.19607843, 0.28627451]],\n",
       "\n",
       "        [[0.09019608, 0.1254902 , 0.25882353],\n",
       "         [0.09411765, 0.12156863, 0.24705882],\n",
       "         [0.07843137, 0.10588235, 0.20784314],\n",
       "         ...,\n",
       "         [0.09411765, 0.15686275, 0.25490196],\n",
       "         [0.12941176, 0.19215686, 0.28235294],\n",
       "         [0.08627451, 0.14901961, 0.23921569]]],\n",
       "\n",
       "\n",
       "       ...,\n",
       "\n",
       "\n",
       "       [[[0.29019608, 0.32941176, 0.39607843],\n",
       "         [0.27058824, 0.30980392, 0.37647059],\n",
       "         [0.27058824, 0.30980392, 0.37254902],\n",
       "         ...,\n",
       "         [0.21568627, 0.28235294, 0.31764706],\n",
       "         [0.20784314, 0.26666667, 0.31764706],\n",
       "         [0.20392157, 0.27058824, 0.31764706]],\n",
       "\n",
       "        [[0.3254902 , 0.36470588, 0.43137255],\n",
       "         [0.30196078, 0.34117647, 0.40784314],\n",
       "         [0.30196078, 0.34117647, 0.40392157],\n",
       "         ...,\n",
       "         [0.23921569, 0.30196078, 0.3372549 ],\n",
       "         [0.19215686, 0.25490196, 0.30196078],\n",
       "         [0.23921569, 0.30196078, 0.34901961]],\n",
       "\n",
       "        [[0.21960784, 0.27058824, 0.33333333],\n",
       "         [0.25490196, 0.30588235, 0.36862745],\n",
       "         [0.25490196, 0.30196078, 0.36078431],\n",
       "         ...,\n",
       "         [0.19607843, 0.24705882, 0.28627451],\n",
       "         [0.18431373, 0.23529412, 0.28235294],\n",
       "         [0.19215686, 0.24705882, 0.29411765]],\n",
       "\n",
       "        ...,\n",
       "\n",
       "        [[0.2627451 , 0.30980392, 0.33333333],\n",
       "         [0.25490196, 0.30588235, 0.32941176],\n",
       "         [0.25882353, 0.30196078, 0.3372549 ],\n",
       "         ...,\n",
       "         [0.24705882, 0.29019608, 0.31764706],\n",
       "         [0.21960784, 0.25490196, 0.29019608],\n",
       "         [0.89411765, 0.91372549, 0.93333333]],\n",
       "\n",
       "        [[0.25882353, 0.31764706, 0.33333333],\n",
       "         [0.2627451 , 0.31764706, 0.34117647],\n",
       "         [0.2627451 , 0.30980392, 0.34117647],\n",
       "         ...,\n",
       "         [0.24705882, 0.29019608, 0.32156863],\n",
       "         [0.23137255, 0.26666667, 0.30196078],\n",
       "         [0.8627451 , 0.88235294, 0.89803922]],\n",
       "\n",
       "        [[0.25098039, 0.30588235, 0.32156863],\n",
       "         [0.25882353, 0.30980392, 0.33333333],\n",
       "         [0.25490196, 0.30588235, 0.3372549 ],\n",
       "         ...,\n",
       "         [0.25882353, 0.30196078, 0.33333333],\n",
       "         [0.21960784, 0.25882353, 0.28627451],\n",
       "         [0.8745098 , 0.89019608, 0.90588235]]],\n",
       "\n",
       "\n",
       "       [[[0.27843137, 0.31372549, 0.36862745],\n",
       "         [0.26666667, 0.30980392, 0.36470588],\n",
       "         [0.23137255, 0.29019608, 0.34117647],\n",
       "         ...,\n",
       "         [0.22745098, 0.27058824, 0.3254902 ],\n",
       "         [0.24313725, 0.28627451, 0.34117647],\n",
       "         [0.31764706, 0.36078431, 0.41568627]],\n",
       "\n",
       "        [[0.2627451 , 0.30588235, 0.36078431],\n",
       "         [0.23921569, 0.29019608, 0.34509804],\n",
       "         [0.24705882, 0.30588235, 0.36078431],\n",
       "         ...,\n",
       "         [0.22745098, 0.2745098 , 0.32941176],\n",
       "         [0.25490196, 0.29803922, 0.35294118],\n",
       "         [0.27843137, 0.32156863, 0.37647059]],\n",
       "\n",
       "        [[0.27058824, 0.32156863, 0.37254902],\n",
       "         [0.25490196, 0.30980392, 0.36470588],\n",
       "         [0.26666667, 0.32941176, 0.38039216],\n",
       "         ...,\n",
       "         [0.22745098, 0.27843137, 0.33333333],\n",
       "         [0.23921569, 0.29019608, 0.34509804],\n",
       "         [0.21568627, 0.26666667, 0.32156863]],\n",
       "\n",
       "        ...,\n",
       "\n",
       "        [[0.2627451 , 0.30588235, 0.3372549 ],\n",
       "         [0.24313725, 0.29019608, 0.31372549],\n",
       "         [0.24705882, 0.29411765, 0.31764706],\n",
       "         ...,\n",
       "         [0.78823529, 0.8       , 0.81176471],\n",
       "         [0.70588235, 0.72941176, 0.7372549 ],\n",
       "         [0.23137255, 0.28627451, 0.30980392]],\n",
       "\n",
       "        [[0.25882353, 0.30196078, 0.33333333],\n",
       "         [0.25490196, 0.29803922, 0.32941176],\n",
       "         [0.25490196, 0.30196078, 0.32941176],\n",
       "         ...,\n",
       "         [0.71764706, 0.72941176, 0.74117647],\n",
       "         [0.76862745, 0.78823529, 0.8       ],\n",
       "         [0.23921569, 0.29411765, 0.31764706]],\n",
       "\n",
       "        [[0.24313725, 0.28235294, 0.32156863],\n",
       "         [0.24705882, 0.28627451, 0.3254902 ],\n",
       "         [0.26666667, 0.30196078, 0.34509804],\n",
       "         ...,\n",
       "         [0.70980392, 0.72156863, 0.73333333],\n",
       "         [0.85882353, 0.87058824, 0.89019608],\n",
       "         [0.23921569, 0.28627451, 0.31764706]]],\n",
       "\n",
       "\n",
       "       [[[0.2627451 , 0.31372549, 0.36862745],\n",
       "         [0.25490196, 0.29411765, 0.35294118],\n",
       "         [0.2745098 , 0.30196078, 0.36862745],\n",
       "         ...,\n",
       "         [0.24313725, 0.30196078, 0.36470588],\n",
       "         [0.2627451 , 0.30588235, 0.37254902],\n",
       "         [0.25882353, 0.30588235, 0.36862745]],\n",
       "\n",
       "        [[0.26666667, 0.31372549, 0.36862745],\n",
       "         [0.27058824, 0.30980392, 0.36862745],\n",
       "         [0.27843137, 0.30980392, 0.37647059],\n",
       "         ...,\n",
       "         [0.21176471, 0.27058824, 0.33333333],\n",
       "         [0.21568627, 0.27058824, 0.32941176],\n",
       "         [0.21568627, 0.26666667, 0.32941176]],\n",
       "\n",
       "        [[0.26666667, 0.30980392, 0.36470588],\n",
       "         [0.29019608, 0.32941176, 0.38823529],\n",
       "         [0.25882353, 0.29019608, 0.35686275],\n",
       "         ...,\n",
       "         [0.22352941, 0.28235294, 0.3372549 ],\n",
       "         [0.23137255, 0.29411765, 0.34509804],\n",
       "         [0.22352941, 0.28235294, 0.34509804]],\n",
       "\n",
       "        ...,\n",
       "\n",
       "        [[0.26666667, 0.31372549, 0.3372549 ],\n",
       "         [0.2745098 , 0.31764706, 0.35294118],\n",
       "         [0.24705882, 0.30196078, 0.33333333],\n",
       "         ...,\n",
       "         [0.36078431, 0.38039216, 0.4       ],\n",
       "         [0.98039216, 0.99607843, 1.        ],\n",
       "         [0.25882353, 0.28627451, 0.32156863]],\n",
       "\n",
       "        [[0.25882353, 0.30196078, 0.33333333],\n",
       "         [0.21960784, 0.26666667, 0.30588235],\n",
       "         [0.24705882, 0.30588235, 0.3372549 ],\n",
       "         ...,\n",
       "         [0.3372549 , 0.36078431, 0.38039216],\n",
       "         [0.97647059, 0.99215686, 1.        ],\n",
       "         [0.29019608, 0.3254902 , 0.36078431]],\n",
       "\n",
       "        [[0.24705882, 0.28627451, 0.32941176],\n",
       "         [0.23529412, 0.28235294, 0.32156863],\n",
       "         [0.25490196, 0.30980392, 0.34901961],\n",
       "         ...,\n",
       "         [0.29803922, 0.33333333, 0.36078431],\n",
       "         [0.97647059, 0.98431373, 0.99215686],\n",
       "         [0.38823529, 0.41960784, 0.45490196]]]])"
      ]
     },
     "execution_count": 59,
     "metadata": {},
     "output_type": "execute_result"
    }
   ],
   "source": [
    "X_test"
   ]
  },
  {
   "cell_type": "code",
   "execution_count": 71,
   "metadata": {},
   "outputs": [],
   "source": [
    "# Create Sequential Model\n",
    "model = Sequential()\n",
    "model.add(Conv2D(8, (4, 4), input_shape=(150, 150, 3)))\n",
    "model.add(Activation('relu'))\n",
    "#model.add(Dropout(0.2))\n",
    "model.add(MaxPooling2D(pool_size=(2, 2)))\n",
    "\n",
    "model.add(Conv2D(16, (3, 3)))\n",
    "model.add(Activation('relu'))\n",
    "#model.add(Dropout(0.2))\n",
    "model.add(MaxPooling2D(pool_size=(3, 3)))\n",
    "\n",
    "\n",
    "\n",
    "model.add(Flatten())  # this converts our 3D feature maps to 1D feature vectors\n",
    "model.add(Dense(64))\n",
    "model.add(Activation('relu'))\n",
    "model.add(Dropout(0.4))\n",
    "model.add(Dense(1))\n",
    "model.add(Activation('sigmoid'))"
   ]
  },
  {
   "cell_type": "code",
   "execution_count": 72,
   "metadata": {},
   "outputs": [
    {
     "name": "stdout",
     "output_type": "stream",
     "text": [
      "Model: \"sequential_6\"\n",
      "_________________________________________________________________\n",
      "Layer (type)                 Output Shape              Param #   \n",
      "=================================================================\n",
      "conv2d_14 (Conv2D)           (None, 147, 147, 8)       392       \n",
      "_________________________________________________________________\n",
      "activation_9 (Activation)    (None, 147, 147, 8)       0         \n",
      "_________________________________________________________________\n",
      "max_pooling2d_12 (MaxPooling (None, 73, 73, 8)         0         \n",
      "_________________________________________________________________\n",
      "conv2d_15 (Conv2D)           (None, 71, 71, 16)        1168      \n",
      "_________________________________________________________________\n",
      "activation_10 (Activation)   (None, 71, 71, 16)        0         \n",
      "_________________________________________________________________\n",
      "max_pooling2d_13 (MaxPooling (None, 23, 23, 16)        0         \n",
      "_________________________________________________________________\n",
      "flatten_6 (Flatten)          (None, 8464)              0         \n",
      "_________________________________________________________________\n",
      "dense_13 (Dense)             (None, 64)                541760    \n",
      "_________________________________________________________________\n",
      "activation_11 (Activation)   (None, 64)                0         \n",
      "_________________________________________________________________\n",
      "dropout_9 (Dropout)          (None, 64)                0         \n",
      "_________________________________________________________________\n",
      "dense_14 (Dense)             (None, 1)                 65        \n",
      "_________________________________________________________________\n",
      "activation_12 (Activation)   (None, 1)                 0         \n",
      "=================================================================\n",
      "Total params: 543,385\n",
      "Trainable params: 543,385\n",
      "Non-trainable params: 0\n",
      "_________________________________________________________________\n"
     ]
    }
   ],
   "source": [
    "model.summary()"
   ]
  },
  {
   "cell_type": "code",
   "execution_count": 73,
   "metadata": {},
   "outputs": [],
   "source": [
    "# COMPILE\n",
    "model.compile(loss='binary_crossentropy',\n",
    "              optimizer='Adam',\n",
    "              metrics=['accuracy'])"
   ]
  },
  {
   "cell_type": "code",
   "execution_count": 74,
   "metadata": {},
   "outputs": [
    {
     "name": "stdout",
     "output_type": "stream",
     "text": [
      "Epoch 1/10\n",
      "500/500 [==============================] - 90s 180ms/step - loss: 0.4633 - accuracy: 0.7758 - val_loss: 0.7431 - val_accuracy: 0.5567\n",
      "Epoch 2/10\n",
      "500/500 [==============================] - 88s 176ms/step - loss: 0.1591 - accuracy: 0.9436 - val_loss: 2.0532 - val_accuracy: 0.5366\n",
      "Epoch 3/10\n",
      "500/500 [==============================] - 88s 175ms/step - loss: 0.0902 - accuracy: 0.9702 - val_loss: 1.6941 - val_accuracy: 0.5630\n",
      "Epoch 4/10\n",
      "500/500 [==============================] - 89s 177ms/step - loss: 0.0696 - accuracy: 0.9768 - val_loss: 1.4873 - val_accuracy: 0.5970\n",
      "Epoch 5/10\n",
      "500/500 [==============================] - 89s 179ms/step - loss: 0.0566 - accuracy: 0.9823 - val_loss: 4.8208 - val_accuracy: 0.5314\n",
      "Epoch 6/10\n",
      "500/500 [==============================] - 89s 179ms/step - loss: 0.0462 - accuracy: 0.9852 - val_loss: 0.9972 - val_accuracy: 0.6156\n",
      "Epoch 7/10\n",
      "500/500 [==============================] - 89s 178ms/step - loss: 0.0498 - accuracy: 0.9841 - val_loss: 1.1041 - val_accuracy: 0.5984\n",
      "Epoch 8/10\n",
      "500/500 [==============================] - 88s 177ms/step - loss: 0.0390 - accuracy: 0.9880 - val_loss: 1.1320 - val_accuracy: 0.6070\n",
      "Epoch 9/10\n",
      "500/500 [==============================] - 87s 175ms/step - loss: 0.0330 - accuracy: 0.9897 - val_loss: 2.4149 - val_accuracy: 0.5981\n",
      "Epoch 10/10\n",
      "500/500 [==============================] - 89s 177ms/step - loss: 0.0307 - accuracy: 0.9889 - val_loss: 1.2332 - val_accuracy: 0.5875\n"
     ]
    }
   ],
   "source": [
    "tf.debugging.set_log_device_placement(True)\n",
    "\n",
    "\n",
    "#from tensorflow.keras.callbacks import EarlyStopping\n",
    "#model.fit(X_train, y_train, epochs=15, validation_data=(X_val, y_val))\n",
    "#3model.save('CNN_Model')\n",
    "model.fit(\n",
    "        train_generator,\n",
    "        steps_per_epoch=500,\n",
    "        epochs=10,\n",
    "        validation_data=validation_generator,\n",
    "        validation_steps=200)\n",
    "\n",
    "\n",
    "#from tensorflow.keras.callbacks import EarlyStopping\n",
    "#early_stop = EarlyStopping(monitor='val_loss', patience=4)\n",
    "#model.fit(X_train, y_train, epochs=15, validation_data=(X_val, y_val), callbacks=[early_stop])\n",
    "model.save('CNN_Model')"
   ]
  },
  {
   "cell_type": "code",
   "execution_count": 68,
   "metadata": {},
   "outputs": [
    {
     "name": "stdout",
     "output_type": "stream",
     "text": [
      "              precision    recall  f1-score   support\n",
      "\n",
      "           0       0.35      0.40      0.38       792\n",
      "           1       0.02      0.02      0.02       594\n",
      "\n",
      "    accuracy                           0.24      1386\n",
      "   macro avg       0.19      0.21      0.20      1386\n",
      "weighted avg       0.21      0.24      0.22      1386\n",
      "\n"
     ]
    }
   ],
   "source": [
    "from sklearn.metrics import classification_report\n",
    "prediction = model.predict_classes(X_test)\n",
    "print(classification_report(y_test, prediction))"
   ]
  },
  {
   "cell_type": "code",
   "execution_count": 69,
   "metadata": {},
   "outputs": [
    {
     "data": {
      "text/plain": [
       "array([[320, 472],\n",
       "       [583,  11]], dtype=int64)"
      ]
     },
     "execution_count": 69,
     "metadata": {},
     "output_type": "execute_result"
    }
   ],
   "source": [
    "from sklearn.metrics import confusion_matrix\n",
    "prediction = model.predict_classes(X_test)\n",
    "confusion_matrix(y_test, prediction)"
   ]
  },
  {
   "cell_type": "code",
   "execution_count": 70,
   "metadata": {},
   "outputs": [
    {
     "data": {
      "text/plain": [
       "array([[0],\n",
       "       [0],\n",
       "       [1],\n",
       "       ...,\n",
       "       [1],\n",
       "       [1],\n",
       "       [1]])"
      ]
     },
     "execution_count": 70,
     "metadata": {},
     "output_type": "execute_result"
    }
   ],
   "source": [
    "prediction"
   ]
  },
  {
   "cell_type": "code",
   "execution_count": null,
   "metadata": {},
   "outputs": [],
   "source": []
  }
 ],
 "metadata": {
  "kernelspec": {
   "display_name": "Python 3",
   "language": "python",
   "name": "python3"
  },
  "language_info": {
   "codemirror_mode": {
    "name": "ipython",
    "version": 3
   },
   "file_extension": ".py",
   "mimetype": "text/x-python",
   "name": "python",
   "nbconvert_exporter": "python",
   "pygments_lexer": "ipython3",
   "version": "3.7.7"
  }
 },
 "nbformat": 4,
 "nbformat_minor": 4
}
