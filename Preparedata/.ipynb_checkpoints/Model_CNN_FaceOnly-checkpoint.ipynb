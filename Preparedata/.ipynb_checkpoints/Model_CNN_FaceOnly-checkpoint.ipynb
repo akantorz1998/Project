{
 "cells": [
  {
   "cell_type": "code",
   "execution_count": 2,
   "metadata": {},
   "outputs": [
    {
     "name": "stderr",
     "output_type": "stream",
     "text": [
      "C:\\Users\\nataw\\Anaconda3\\lib\\site-packages\\tensorflow\\python\\framework\\dtypes.py:516: FutureWarning: Passing (type, 1) or '1type' as a synonym of type is deprecated; in a future version of numpy, it will be understood as (type, (1,)) / '(1,)type'.\n",
      "  _np_qint8 = np.dtype([(\"qint8\", np.int8, 1)])\n",
      "C:\\Users\\nataw\\Anaconda3\\lib\\site-packages\\tensorflow\\python\\framework\\dtypes.py:517: FutureWarning: Passing (type, 1) or '1type' as a synonym of type is deprecated; in a future version of numpy, it will be understood as (type, (1,)) / '(1,)type'.\n",
      "  _np_quint8 = np.dtype([(\"quint8\", np.uint8, 1)])\n",
      "C:\\Users\\nataw\\Anaconda3\\lib\\site-packages\\tensorflow\\python\\framework\\dtypes.py:518: FutureWarning: Passing (type, 1) or '1type' as a synonym of type is deprecated; in a future version of numpy, it will be understood as (type, (1,)) / '(1,)type'.\n",
      "  _np_qint16 = np.dtype([(\"qint16\", np.int16, 1)])\n",
      "C:\\Users\\nataw\\Anaconda3\\lib\\site-packages\\tensorflow\\python\\framework\\dtypes.py:519: FutureWarning: Passing (type, 1) or '1type' as a synonym of type is deprecated; in a future version of numpy, it will be understood as (type, (1,)) / '(1,)type'.\n",
      "  _np_quint16 = np.dtype([(\"quint16\", np.uint16, 1)])\n",
      "C:\\Users\\nataw\\Anaconda3\\lib\\site-packages\\tensorflow\\python\\framework\\dtypes.py:520: FutureWarning: Passing (type, 1) or '1type' as a synonym of type is deprecated; in a future version of numpy, it will be understood as (type, (1,)) / '(1,)type'.\n",
      "  _np_qint32 = np.dtype([(\"qint32\", np.int32, 1)])\n",
      "C:\\Users\\nataw\\Anaconda3\\lib\\site-packages\\tensorflow\\python\\framework\\dtypes.py:525: FutureWarning: Passing (type, 1) or '1type' as a synonym of type is deprecated; in a future version of numpy, it will be understood as (type, (1,)) / '(1,)type'.\n",
      "  np_resource = np.dtype([(\"resource\", np.ubyte, 1)])\n",
      "C:\\Users\\nataw\\Anaconda3\\lib\\site-packages\\tensorboard\\compat\\tensorflow_stub\\dtypes.py:541: FutureWarning: Passing (type, 1) or '1type' as a synonym of type is deprecated; in a future version of numpy, it will be understood as (type, (1,)) / '(1,)type'.\n",
      "  _np_qint8 = np.dtype([(\"qint8\", np.int8, 1)])\n",
      "C:\\Users\\nataw\\Anaconda3\\lib\\site-packages\\tensorboard\\compat\\tensorflow_stub\\dtypes.py:542: FutureWarning: Passing (type, 1) or '1type' as a synonym of type is deprecated; in a future version of numpy, it will be understood as (type, (1,)) / '(1,)type'.\n",
      "  _np_quint8 = np.dtype([(\"quint8\", np.uint8, 1)])\n",
      "C:\\Users\\nataw\\Anaconda3\\lib\\site-packages\\tensorboard\\compat\\tensorflow_stub\\dtypes.py:543: FutureWarning: Passing (type, 1) or '1type' as a synonym of type is deprecated; in a future version of numpy, it will be understood as (type, (1,)) / '(1,)type'.\n",
      "  _np_qint16 = np.dtype([(\"qint16\", np.int16, 1)])\n",
      "C:\\Users\\nataw\\Anaconda3\\lib\\site-packages\\tensorboard\\compat\\tensorflow_stub\\dtypes.py:544: FutureWarning: Passing (type, 1) or '1type' as a synonym of type is deprecated; in a future version of numpy, it will be understood as (type, (1,)) / '(1,)type'.\n",
      "  _np_quint16 = np.dtype([(\"quint16\", np.uint16, 1)])\n",
      "C:\\Users\\nataw\\Anaconda3\\lib\\site-packages\\tensorboard\\compat\\tensorflow_stub\\dtypes.py:545: FutureWarning: Passing (type, 1) or '1type' as a synonym of type is deprecated; in a future version of numpy, it will be understood as (type, (1,)) / '(1,)type'.\n",
      "  _np_qint32 = np.dtype([(\"qint32\", np.int32, 1)])\n",
      "C:\\Users\\nataw\\Anaconda3\\lib\\site-packages\\tensorboard\\compat\\tensorflow_stub\\dtypes.py:550: FutureWarning: Passing (type, 1) or '1type' as a synonym of type is deprecated; in a future version of numpy, it will be understood as (type, (1,)) / '(1,)type'.\n",
      "  np_resource = np.dtype([(\"resource\", np.ubyte, 1)])\n"
     ]
    }
   ],
   "source": [
    "from sklearn.model_selection import train_test_split\n",
    "from sklearn.metrics import roc_curve, roc_auc_score, f1_score\n",
    "import numpy as np\n",
    "import matplotlib.pyplot as plt\n",
    "from sklearn.metrics import accuracy_score\n",
    "from sklearn.metrics import confusion_matrix\n",
    "from sklearn import metrics\n",
    "import warnings\n",
    "import tensorflow as tf"
   ]
  },
  {
   "cell_type": "code",
   "execution_count": 3,
   "metadata": {},
   "outputs": [
    {
     "name": "stderr",
     "output_type": "stream",
     "text": [
      "Using TensorFlow backend.\n"
     ]
    }
   ],
   "source": [
    "import numpy as np\n",
    "import pandas as pd\n",
    "import cv2\n",
    "import matplotlib.pyplot as plt\n",
    "from keras.preprocessing.image import ImageDataGenerator"
   ]
  },
  {
   "cell_type": "code",
   "execution_count": 4,
   "metadata": {},
   "outputs": [],
   "source": [
    "train_datagen = ImageDataGenerator(\n",
    "        rescale=1./255,\n",
    "        shear_range=0.2,\n",
    "        zoom_range=0.2,\n",
    "        width_shift_range=0.1,\n",
    "        height_shift_range=0.1,\n",
    "        rotation_range=0.5,\n",
    "        horizontal_flip=True)"
   ]
  },
  {
   "cell_type": "code",
   "execution_count": 5,
   "metadata": {},
   "outputs": [],
   "source": [
    "test_datagen = ImageDataGenerator(rescale=1./255)"
   ]
  },
  {
   "cell_type": "code",
   "execution_count": 6,
   "metadata": {},
   "outputs": [
    {
     "name": "stdout",
     "output_type": "stream",
     "text": [
      "Found 14188 images belonging to 2 classes.\n"
     ]
    }
   ],
   "source": [
    "train_generator = train_datagen.flow_from_directory(\n",
    "        'E:\\\\Drowsiness\\\\train',\n",
    "        target_size=(150, 150),\n",
    "        batch_size=32,\n",
    "        class_mode='binary')"
   ]
  },
  {
   "cell_type": "code",
   "execution_count": 7,
   "metadata": {},
   "outputs": [
    {
     "name": "stdout",
     "output_type": "stream",
     "text": [
      "{'alert': 0, 'drowsy': 1}\n"
     ]
    }
   ],
   "source": [
    "print(train_generator.class_indices)"
   ]
  },
  {
   "cell_type": "code",
   "execution_count": 8,
   "metadata": {},
   "outputs": [
    {
     "name": "stdout",
     "output_type": "stream",
     "text": [
      "Found 3971 images belonging to 2 classes.\n"
     ]
    }
   ],
   "source": [
    "validation_generator = test_datagen.flow_from_directory(\n",
    "        'E:\\\\Drowsiness\\\\val',\n",
    "        target_size=(150, 150),\n",
    "        batch_size=32,\n",
    "        class_mode='binary')"
   ]
  },
  {
   "cell_type": "code",
   "execution_count": 9,
   "metadata": {},
   "outputs": [
    {
     "name": "stdout",
     "output_type": "stream",
     "text": [
      "{'alert': 0, 'drowsy': 1}\n"
     ]
    }
   ],
   "source": [
    "print(validation_generator.class_indices)"
   ]
  },
  {
   "cell_type": "code",
   "execution_count": null,
   "metadata": {},
   "outputs": [],
   "source": [
    "\"\"\"\n",
    "test_generator = test_datagen.flow_from_directory(\n",
    "        'E:\\\\Drowsiness\\\\test',\n",
    "        target_size=(150, 150),\n",
    "        batch_size=32,\n",
    "        class_mode='binary')\n",
    "\"\"\""
   ]
  },
  {
   "cell_type": "code",
   "execution_count": null,
   "metadata": {},
   "outputs": [],
   "source": [
    "#print(test_generator.class_indices)"
   ]
  },
  {
   "cell_type": "code",
   "execution_count": 10,
   "metadata": {},
   "outputs": [],
   "source": [
    "drowsiness = [0,10]"
   ]
  },
  {
   "cell_type": "code",
   "execution_count": null,
   "metadata": {},
   "outputs": [],
   "source": [
    "\"\"\"\n",
    "data = []\n",
    "labels = []\n",
    "image_paths = 'E:/Drowsiness/dataset/face_image/'\n",
    "\n",
    "for Respondent in range(50):\n",
    "    for i in range(20):\n",
    "        for drows in drowsiness:\n",
    "            name_img = str(Respondent) +'_'+str(i+1)+'_'+str(drows)\n",
    "            image = cv2.imread(image_paths+name_img+'.jpg')\n",
    "            \n",
    "            if image is not None:\n",
    "                image = cv2.resize(image, (100, 100))\n",
    "                cv2.imshow('image',image)\n",
    "                if cv2.waitKey(1) & 0xFF == ord('q'):\n",
    "                    break\n",
    "\n",
    "                \n",
    "                if drows == 10:\n",
    "                    drows = 1\n",
    "                labels.append(drows)\n",
    "                data.append(image)\n",
    "cv2.destroyAllWindows()\n",
    "\"\"\""
   ]
  },
  {
   "cell_type": "code",
   "execution_count": null,
   "metadata": {},
   "outputs": [],
   "source": [
    "\"\"\"\n",
    "X_test = []\n",
    "y_test = []\n",
    "image_paths = 'E:/Drowsiness/dataset/face_image/'\n",
    "\n",
    "for Respondent in range(50,61):\n",
    "    for i in range(200):\n",
    "        for drows in drowsiness:\n",
    "            name_img = str(Respondent) +'_'+str(i+1)+'_'+str(drows)\n",
    "            image = cv2.imread(image_paths+name_img+'.jpg')\n",
    "            \n",
    "            if image is not None:\n",
    "                image = cv2.resize(image, (150, 150))\n",
    "                cv2.imshow('image',image)\n",
    "                if cv2.waitKey(1) & 0xFF == ord('q'):\n",
    "                    break\n",
    "\n",
    "                \n",
    "                if drows == 10:\n",
    "                    drows = 1\n",
    "                y_test.append(drows)\n",
    "                X_test.append(image)\n",
    "cv2.destroyAllWindows()\n",
    "\"\"\""
   ]
  },
  {
   "cell_type": "code",
   "execution_count": 11,
   "metadata": {},
   "outputs": [],
   "source": [
    "#+++++++++++++++++++++++++++++++++++++++++++++++++++++++++++++++++++++++++++++++++++++++++++++++++++++++++++++++++++++++++++++++\n",
    "X_test = []\n",
    "y_test = []\n",
    "image_paths = 'E:/Drowsiness/test/alert/'\n",
    "\n",
    "for Respondent in range(0,61):\n",
    "    for i in range(200):\n",
    "        for drows in drowsiness:\n",
    "            name_img = str(Respondent) +'_'+str(i+1)+'_'+str(drows)\n",
    "            image = cv2.imread(image_paths+name_img+'.jpg')\n",
    "            \n",
    "            if image is not None:\n",
    "                image = cv2.resize(image, (150, 150))\n",
    "                cv2.imshow('image',image)\n",
    "                if cv2.waitKey(1) & 0xFF == ord('q'):\n",
    "                    break\n",
    "\n",
    "                \n",
    "                if drows == 10:\n",
    "                    drows = 1\n",
    "                y_test.append(drows)\n",
    "                X_test.append(image)\n",
    "cv2.destroyAllWindows()"
   ]
  },
  {
   "cell_type": "code",
   "execution_count": 12,
   "metadata": {},
   "outputs": [],
   "source": [
    "image_paths = 'E:/Drowsiness/test/drowsy/'\n",
    "\n",
    "for Respondent in range(0,61):\n",
    "    for i in range(200):\n",
    "        for drows in drowsiness:\n",
    "            name_img = str(Respondent) +'_'+str(i+1)+'_'+str(drows)\n",
    "            image = cv2.imread(image_paths+name_img+'.jpg')\n",
    "            \n",
    "            if image is not None:\n",
    "                image = cv2.resize(image, (150, 150))\n",
    "                cv2.imshow('image',image)\n",
    "                if cv2.waitKey(1) & 0xFF == ord('q'):\n",
    "                    break\n",
    "\n",
    "                \n",
    "                if drows == 10:\n",
    "                    drows = 1\n",
    "                y_test.append(drows)\n",
    "                X_test.append(image)\n",
    "cv2.destroyAllWindows()"
   ]
  },
  {
   "cell_type": "code",
   "execution_count": null,
   "metadata": {},
   "outputs": [],
   "source": [
    "\"\"\"\n",
    "X_train = np.array(data)\n",
    "y_train = np.array(labels)\n",
    "data = []\n",
    "labels = []\n",
    "\"\"\""
   ]
  },
  {
   "cell_type": "code",
   "execution_count": null,
   "metadata": {},
   "outputs": [],
   "source": []
  },
  {
   "cell_type": "code",
   "execution_count": 13,
   "metadata": {},
   "outputs": [],
   "source": [
    "X_test = np.array(X_test)\n",
    "y_test = np.array(y_test)"
   ]
  },
  {
   "cell_type": "code",
   "execution_count": 14,
   "metadata": {},
   "outputs": [
    {
     "name": "stdout",
     "output_type": "stream",
     "text": [
      "(1386, 150, 150, 3)\n",
      "(1386,)\n"
     ]
    }
   ],
   "source": [
    "#print(X_train.shape)\n",
    "print(X_test.shape)\n",
    "#print(y_train.shape)\n",
    "print(y_test.shape)"
   ]
  },
  {
   "cell_type": "code",
   "execution_count": null,
   "metadata": {},
   "outputs": [],
   "source": [
    "#X_train, X_test = X_train / 255.0, X_test / 255.0"
   ]
  },
  {
   "cell_type": "code",
   "execution_count": 15,
   "metadata": {},
   "outputs": [],
   "source": [
    "X_test =  X_test / 255.0"
   ]
  },
  {
   "cell_type": "code",
   "execution_count": null,
   "metadata": {},
   "outputs": [],
   "source": [
    "#Augmentation\n",
    "#flip\n",
    "#newArray = X_train\n",
    "data1 = []\n",
    "for i in range(X_train.shape[0]):\n",
    "    flip = np.fliplr(X_train[i])\n",
    "    data1.append(flip)"
   ]
  },
  {
   "cell_type": "code",
   "execution_count": null,
   "metadata": {},
   "outputs": [],
   "source": [
    "plt.imshow(X_train[0])"
   ]
  },
  {
   "cell_type": "code",
   "execution_count": null,
   "metadata": {},
   "outputs": [],
   "source": []
  },
  {
   "cell_type": "code",
   "execution_count": null,
   "metadata": {},
   "outputs": [],
   "source": [
    "data1 = np.array(data1)"
   ]
  },
  {
   "cell_type": "code",
   "execution_count": null,
   "metadata": {},
   "outputs": [],
   "source": [
    "X_train = np.append(X_train,data1,axis = 0)"
   ]
  },
  {
   "cell_type": "code",
   "execution_count": null,
   "metadata": {},
   "outputs": [],
   "source": [
    "plt.imshow(X_train[799])"
   ]
  },
  {
   "cell_type": "code",
   "execution_count": null,
   "metadata": {},
   "outputs": [],
   "source": [
    "y_train = np.append(y_train,y_train,axis = 0)"
   ]
  },
  {
   "cell_type": "code",
   "execution_count": null,
   "metadata": {
    "scrolled": true
   },
   "outputs": [],
   "source": [
    "for i in range(7857):\n",
    "    if y_train[i] != y_train[7857+i]:\n",
    "        print(y_train[i])\n",
    "        print(y_train[7857+i])"
   ]
  },
  {
   "cell_type": "code",
   "execution_count": null,
   "metadata": {},
   "outputs": [],
   "source": [
    "#Rotation\n",
    "import skimage\n",
    "import skimage.transform\n",
    "# Placeholders: 'x' = A single image, 'y' = A batch of images\n",
    "# 'k' denotes the number of 90 degree anticlockwise rotations\n",
    "shape = [100, 100, 3]\n",
    "x = tf.placeholder(dtype = tf.float32, shape = shape)\n",
    "rot_90 = tf.image.rot90(X_train[0], k=1)\n",
    "rot_180 = tf.image.rot90(X_train[0], k=2)\n",
    "# To rotate in any angle. In the example below, 'angles' is in radians\n",
    "shape = [1, 100, 100, 3]\n",
    "y = tf.placeholder(dtype = tf.float32, shape = shape)\n",
    "rot_tf_180 = tf.contrib.image.rotate(y, angles=3.1415)\n",
    "# Scikit-Image. 'angle' = Degrees. 'img' = Input Image\n",
    "# For details about 'mode', checkout the interpolation section below.\n",
    "rot = skimage.transform.rotate(X_train[0], angle=45, mode='reflect')\n",
    "rot1 = skimage.transform.rotate(X_train[0], angle=315, mode='reflect')"
   ]
  },
  {
   "cell_type": "code",
   "execution_count": null,
   "metadata": {},
   "outputs": [],
   "source": [
    "data1 = []\n",
    "data2 = []\n",
    "for i in range(X_train.shape[0]):\n",
    "    rot = skimage.transform.rotate(X_train[0], angle=45, mode='reflect')\n",
    "    rot2 = skimage.transform.rotate(X_train[0], angle=315, mode='reflect')\n",
    "    data1.append(rot)\n",
    "    data2.append(rot2)"
   ]
  },
  {
   "cell_type": "code",
   "execution_count": null,
   "metadata": {},
   "outputs": [],
   "source": [
    "plt.imshow(data1[799])"
   ]
  },
  {
   "cell_type": "code",
   "execution_count": null,
   "metadata": {},
   "outputs": [],
   "source": [
    "plt.imshow(data2[799])"
   ]
  },
  {
   "cell_type": "code",
   "execution_count": null,
   "metadata": {},
   "outputs": [],
   "source": [
    "data1 = np.array(data1)\n",
    "data2 = np.array(data2)"
   ]
  },
  {
   "cell_type": "code",
   "execution_count": null,
   "metadata": {},
   "outputs": [],
   "source": [
    "X_train = np.append(X_train,data1,axis = 0)\n",
    "y_train_t = y_train\n",
    "y_train = np.append(y_train,y_train,axis = 0)"
   ]
  },
  {
   "cell_type": "code",
   "execution_count": null,
   "metadata": {},
   "outputs": [],
   "source": [
    "X_train = np.append(X_train,data2,axis = 0)\n",
    "y_train = np.append(y_train,y_train_t,axis = 0)"
   ]
  },
  {
   "cell_type": "code",
   "execution_count": null,
   "metadata": {},
   "outputs": [],
   "source": [
    "data1 = []\n",
    "data2 = []"
   ]
  },
  {
   "cell_type": "code",
   "execution_count": null,
   "metadata": {},
   "outputs": [],
   "source": [
    "X_train, X_val, y_train, y_val = train_test_split(X_train, y_train, test_size=0.3, random_state=26)"
   ]
  },
  {
   "cell_type": "code",
   "execution_count": null,
   "metadata": {},
   "outputs": [],
   "source": [
    "X_test, null, y_test, null = train_test_split(X_test, y_test, test_size=0.001, random_state=42)"
   ]
  },
  {
   "cell_type": "code",
   "execution_count": 17,
   "metadata": {},
   "outputs": [
    {
     "ename": "NameError",
     "evalue": "name 'X_train' is not defined",
     "output_type": "error",
     "traceback": [
      "\u001b[1;31m---------------------------------------------------------------------------\u001b[0m",
      "\u001b[1;31mNameError\u001b[0m                                 Traceback (most recent call last)",
      "\u001b[1;32m<ipython-input-17-1135b1634298>\u001b[0m in \u001b[0;36m<module>\u001b[1;34m\u001b[0m\n\u001b[1;32m----> 1\u001b[1;33m \u001b[0mprint\u001b[0m\u001b[1;33m(\u001b[0m\u001b[0mX_train\u001b[0m\u001b[1;33m.\u001b[0m\u001b[0mshape\u001b[0m\u001b[1;33m)\u001b[0m\u001b[1;33m\u001b[0m\u001b[1;33m\u001b[0m\u001b[0m\n\u001b[0m\u001b[0;32m      2\u001b[0m \u001b[0mprint\u001b[0m\u001b[1;33m(\u001b[0m\u001b[0my_train\u001b[0m\u001b[1;33m.\u001b[0m\u001b[0mshape\u001b[0m\u001b[1;33m)\u001b[0m\u001b[1;33m\u001b[0m\u001b[1;33m\u001b[0m\u001b[0m\n\u001b[0;32m      3\u001b[0m \u001b[1;33m\u001b[0m\u001b[0m\n\u001b[0;32m      4\u001b[0m \u001b[0mprint\u001b[0m\u001b[1;33m(\u001b[0m\u001b[0mX_val\u001b[0m\u001b[1;33m.\u001b[0m\u001b[0mshape\u001b[0m\u001b[1;33m)\u001b[0m\u001b[1;33m\u001b[0m\u001b[1;33m\u001b[0m\u001b[0m\n\u001b[0;32m      5\u001b[0m \u001b[0mprint\u001b[0m\u001b[1;33m(\u001b[0m\u001b[0my_val\u001b[0m\u001b[1;33m.\u001b[0m\u001b[0mshape\u001b[0m\u001b[1;33m)\u001b[0m\u001b[1;33m\u001b[0m\u001b[1;33m\u001b[0m\u001b[0m\n",
      "\u001b[1;31mNameError\u001b[0m: name 'X_train' is not defined"
     ]
    }
   ],
   "source": [
    "print(X_train.shape)\n",
    "print(y_train.shape)\n",
    "\n",
    "print(X_val.shape)\n",
    "print(y_val.shape)\n",
    "\n",
    "print(X_test.shape)\n",
    "print(y_test.shape)"
   ]
  },
  {
   "cell_type": "code",
   "execution_count": null,
   "metadata": {},
   "outputs": [],
   "source": [
    "#from tensorflow.keras.utils import to_categorical\n",
    "#y_train = to_categorical(y_train, 2)\n",
    "##y_test = to_categorical(y_test, 2)\n",
    "#y_val = to_categorical(y_val, 2)"
   ]
  },
  {
   "cell_type": "code",
   "execution_count": null,
   "metadata": {},
   "outputs": [],
   "source": [
    "y_train[0]"
   ]
  },
  {
   "cell_type": "code",
   "execution_count": null,
   "metadata": {},
   "outputs": [],
   "source": [
    "print(X_train[0])\n",
    "print(X_test[0])\n",
    "print(X_val[0])"
   ]
  },
  {
   "cell_type": "code",
   "execution_count": 18,
   "metadata": {},
   "outputs": [
    {
     "name": "stdout",
     "output_type": "stream",
     "text": [
      "WARNING:tensorflow:From C:\\Users\\nataw\\Anaconda3\\lib\\site-packages\\keras\\backend\\tensorflow_backend.py:4070: The name tf.nn.max_pool is deprecated. Please use tf.nn.max_pool2d instead.\n",
      "\n"
     ]
    },
    {
     "data": {
      "text/plain": [
       "'\\n\\nmodel = Sequential()\\nmodel.add(Conv2D(128,(3,3),input_shape=(150,150,3),activation=\"relu\"))\\nmodel.add(MaxPooling2D((2,2)))\\nmodel.add(Conv2D(64,(3,3),activation=\"relu\"))\\nmodel.add(MaxPooling2D((2,2)))\\nmodel.add(Dropout(.4))\\nmodel.add(Conv2D(32,(3,3),activation=\"relu\"))\\nmodel.add(MaxPooling2D((2,2)))\\nmodel.add(Flatten())\\nmodel.add(Dense(256,activation=\"relu\"))\\nmodel.add(Dropout(.4))\\nmodel.add(Dense(128,activation=\"relu\"))\\nmodel.add(Dropout(.4))\\nmodel.add(Dense(32,activation=\"relu\"))\\nmodel.add(Dropout(.4))\\nmodel.add(Dense(1,activation=\"sigmoid\"))\\n'"
      ]
     },
     "execution_count": 18,
     "metadata": {},
     "output_type": "execute_result"
    }
   ],
   "source": [
    "from keras import backend\n",
    "from keras.models import Sequential\n",
    "from keras.layers.convolutional import Conv2D,MaxPooling2D\n",
    "from keras.layers.core import Dense, Flatten,Activation,Dropout\n",
    "from sklearn.model_selection import train_test_split\n",
    "\n",
    "\n",
    "\n",
    "\"\"\"\n",
    "# Create Sequential Model\n",
    "model = Sequential()\n",
    "model.add(Conv2D(8, (4, 4), input_shape=(100, 100, 3)))\n",
    "model.add(Activation('relu'))\n",
    "#model.add(Dropout(0.2))\n",
    "model.add(MaxPooling2D(pool_size=(2, 2)))\n",
    "\n",
    "model.add(Conv2D(16, (3, 3)))\n",
    "model.add(Activation('relu'))\n",
    "#model.add(Dropout(0.2))\n",
    "model.add(MaxPooling2D(pool_size=(2, 2)))\n",
    "\n",
    "\n",
    "\n",
    "model.add(Flatten())  # this converts our 3D feature maps to 1D feature vectors\n",
    "model.add(Dense(64))\n",
    "model.add(Activation('relu'))\n",
    "model.add(Dropout(0.2))\n",
    "model.add(Dense(1))\n",
    "model.add(Activation('sigmoid'))\n",
    "\n",
    "\"\"\"\n",
    "\n",
    "# Create Sequential Model\n",
    "model = Sequential()\n",
    "# Layer 1: Convolutional Layer\n",
    "model.add(Conv2D(filters=32, kernel_size=(3,3), input_shape=(150,150,3), activation='relu',))\n",
    "# Layer 2: Pooling Layer\n",
    "model.add(MaxPooling2D(pool_size=(3,3)))\n",
    "# Layer 3: Convolutional Layer\n",
    "model.add(Conv2D(filters=32, kernel_size=(3,3), input_shape=(150,150,3), activation='relu',))\n",
    "# Layer 4: Pooling Layer\n",
    "model.add(MaxPooling2D(pool_size=(3,3)))\n",
    "# Layer 5: Flatten Layer\n",
    "model.add(Conv2D(filters=64, kernel_size=(3,3), input_shape=(150,150,3), activation='relu',))\n",
    "\n",
    "model.add(MaxPooling2D(pool_size=(3,3)))\n",
    "\n",
    "model.add(Flatten())\n",
    "# Layer 6: Dense Layer (Hidden Layer)\n",
    "model.add(Dense(512, activation='relu'))\n",
    "model.add(Dropout(0.2))\n",
    "# Layer 7: Dense Layer (Output Layer)\n",
    "model.add(Dense(1, activation='sigmoid'))\n",
    "\"\"\"\n",
    "\n",
    "model = Sequential()\n",
    "model.add(Conv2D(128,(3,3),input_shape=(150,150,3),activation=\"relu\"))\n",
    "model.add(MaxPooling2D((2,2)))\n",
    "model.add(Conv2D(64,(3,3),activation=\"relu\"))\n",
    "model.add(MaxPooling2D((2,2)))\n",
    "model.add(Dropout(.4))\n",
    "model.add(Conv2D(32,(3,3),activation=\"relu\"))\n",
    "model.add(MaxPooling2D((2,2)))\n",
    "model.add(Flatten())\n",
    "model.add(Dense(256,activation=\"relu\"))\n",
    "model.add(Dropout(.4))\n",
    "model.add(Dense(128,activation=\"relu\"))\n",
    "model.add(Dropout(.4))\n",
    "model.add(Dense(32,activation=\"relu\"))\n",
    "model.add(Dropout(.4))\n",
    "model.add(Dense(1,activation=\"sigmoid\"))\n",
    "\"\"\""
   ]
  },
  {
   "cell_type": "code",
   "execution_count": 19,
   "metadata": {},
   "outputs": [
    {
     "name": "stdout",
     "output_type": "stream",
     "text": [
      "Model: \"sequential_1\"\n",
      "_________________________________________________________________\n",
      "Layer (type)                 Output Shape              Param #   \n",
      "=================================================================\n",
      "conv2d_1 (Conv2D)            (None, 148, 148, 32)      896       \n",
      "_________________________________________________________________\n",
      "max_pooling2d_1 (MaxPooling2 (None, 49, 49, 32)        0         \n",
      "_________________________________________________________________\n",
      "conv2d_2 (Conv2D)            (None, 47, 47, 32)        9248      \n",
      "_________________________________________________________________\n",
      "max_pooling2d_2 (MaxPooling2 (None, 15, 15, 32)        0         \n",
      "_________________________________________________________________\n",
      "conv2d_3 (Conv2D)            (None, 13, 13, 64)        18496     \n",
      "_________________________________________________________________\n",
      "max_pooling2d_3 (MaxPooling2 (None, 4, 4, 64)          0         \n",
      "_________________________________________________________________\n",
      "flatten_1 (Flatten)          (None, 1024)              0         \n",
      "_________________________________________________________________\n",
      "dense_1 (Dense)              (None, 512)               524800    \n",
      "_________________________________________________________________\n",
      "dropout_1 (Dropout)          (None, 512)               0         \n",
      "_________________________________________________________________\n",
      "dense_2 (Dense)              (None, 1)                 513       \n",
      "=================================================================\n",
      "Total params: 553,953\n",
      "Trainable params: 553,953\n",
      "Non-trainable params: 0\n",
      "_________________________________________________________________\n"
     ]
    }
   ],
   "source": [
    "model.summary()"
   ]
  },
  {
   "cell_type": "code",
   "execution_count": 20,
   "metadata": {},
   "outputs": [
    {
     "name": "stdout",
     "output_type": "stream",
     "text": [
      "WARNING:tensorflow:From C:\\Users\\nataw\\Anaconda3\\lib\\site-packages\\tensorflow\\python\\ops\\nn_impl.py:180: add_dispatch_support.<locals>.wrapper (from tensorflow.python.ops.array_ops) is deprecated and will be removed in a future version.\n",
      "Instructions for updating:\n",
      "Use tf.where in 2.0, which has the same broadcast rule as np.where\n"
     ]
    }
   ],
   "source": [
    "# COMPILE\n",
    "model.compile(loss='binary_crossentropy',\n",
    "              optimizer='Adam',\n",
    "              metrics=['accuracy'])\n"
   ]
  },
  {
   "cell_type": "code",
   "execution_count": 21,
   "metadata": {},
   "outputs": [
    {
     "name": "stdout",
     "output_type": "stream",
     "text": [
      "WARNING:tensorflow:From C:\\Users\\nataw\\Anaconda3\\lib\\site-packages\\keras\\backend\\tensorflow_backend.py:422: The name tf.global_variables is deprecated. Please use tf.compat.v1.global_variables instead.\n",
      "\n",
      "Epoch 1/10\n",
      "1000/1000 [==============================] - 170s 170ms/step - loss: 0.3457 - accuracy: 0.8291 - val_loss: 1.1680 - val_accuracy: 0.5574\n",
      "Epoch 2/10\n",
      "1000/1000 [==============================] - 166s 166ms/step - loss: 0.0775 - accuracy: 0.9726 - val_loss: 2.9567 - val_accuracy: 0.5897\n",
      "Epoch 3/10\n",
      "1000/1000 [==============================] - 167s 167ms/step - loss: 0.0448 - accuracy: 0.9848 - val_loss: 4.7444 - val_accuracy: 0.5765\n",
      "Epoch 4/10\n",
      "1000/1000 [==============================] - 167s 167ms/step - loss: 0.0320 - accuracy: 0.9890 - val_loss: 1.9227 - val_accuracy: 0.6279\n",
      "Epoch 5/10\n",
      "1000/1000 [==============================] - 165s 165ms/step - loss: 0.0240 - accuracy: 0.9920 - val_loss: 6.1033 - val_accuracy: 0.6520\n",
      "Epoch 6/10\n",
      "1000/1000 [==============================] - 166s 166ms/step - loss: 0.0220 - accuracy: 0.9927 - val_loss: 1.7891 - val_accuracy: 0.6211\n",
      "Epoch 7/10\n",
      "1000/1000 [==============================] - 167s 167ms/step - loss: 0.0195 - accuracy: 0.9938 - val_loss: 2.5013 - val_accuracy: 0.6209\n",
      "Epoch 8/10\n",
      "1000/1000 [==============================] - 167s 167ms/step - loss: 0.0167 - accuracy: 0.9950 - val_loss: 1.6362 - val_accuracy: 0.6575\n",
      "Epoch 9/10\n",
      "1000/1000 [==============================] - 168s 168ms/step - loss: 0.0156 - accuracy: 0.9949 - val_loss: 3.3810 - val_accuracy: 0.5820\n",
      "Epoch 10/10\n",
      "1000/1000 [==============================] - 164s 164ms/step - loss: 0.0120 - accuracy: 0.9961 - val_loss: 1.2938 - val_accuracy: 0.5579\n"
     ]
    }
   ],
   "source": [
    "tf.debugging.set_log_device_placement(True)\n",
    "\n",
    "\n",
    "#from tensorflow.keras.callbacks import EarlyStopping\n",
    "#model.fit(X_train, y_train, epochs=15, validation_data=(X_val, y_val))\n",
    "#3model.save('CNN_Model')\n",
    "model.fit(\n",
    "        train_generator,\n",
    "        steps_per_epoch=1000,\n",
    "        epochs=10,\n",
    "        validation_data=validation_generator,\n",
    "        validation_steps=200)\n",
    "\n",
    "\n",
    "#from tensorflow.keras.callbacks import EarlyStopping\n",
    "#early_stop = EarlyStopping(monitor='val_loss', patience=4)\n",
    "#model.fit(X_train, y_train, epochs=15, validation_data=(X_val, y_val), callbacks=[early_stop])\n",
    "model.save('CNN_Model.h5')"
   ]
  },
  {
   "cell_type": "code",
   "execution_count": 22,
   "metadata": {},
   "outputs": [
    {
     "data": {
      "text/html": [
       "<div>\n",
       "<style scoped>\n",
       "    .dataframe tbody tr th:only-of-type {\n",
       "        vertical-align: middle;\n",
       "    }\n",
       "\n",
       "    .dataframe tbody tr th {\n",
       "        vertical-align: top;\n",
       "    }\n",
       "\n",
       "    .dataframe thead th {\n",
       "        text-align: right;\n",
       "    }\n",
       "</style>\n",
       "<table border=\"1\" class=\"dataframe\">\n",
       "  <thead>\n",
       "    <tr style=\"text-align: right;\">\n",
       "      <th></th>\n",
       "      <th>val_loss</th>\n",
       "      <th>val_accuracy</th>\n",
       "      <th>loss</th>\n",
       "      <th>accuracy</th>\n",
       "    </tr>\n",
       "  </thead>\n",
       "  <tbody>\n",
       "    <tr>\n",
       "      <th>0</th>\n",
       "      <td>1.167990</td>\n",
       "      <td>0.557369</td>\n",
       "      <td>0.345848</td>\n",
       "      <td>0.829148</td>\n",
       "    </tr>\n",
       "    <tr>\n",
       "      <th>1</th>\n",
       "      <td>2.956728</td>\n",
       "      <td>0.589719</td>\n",
       "      <td>0.077476</td>\n",
       "      <td>0.972559</td>\n",
       "    </tr>\n",
       "    <tr>\n",
       "      <th>2</th>\n",
       "      <td>4.744418</td>\n",
       "      <td>0.576519</td>\n",
       "      <td>0.044850</td>\n",
       "      <td>0.984762</td>\n",
       "    </tr>\n",
       "    <tr>\n",
       "      <th>3</th>\n",
       "      <td>1.922730</td>\n",
       "      <td>0.627878</td>\n",
       "      <td>0.031777</td>\n",
       "      <td>0.989049</td>\n",
       "    </tr>\n",
       "    <tr>\n",
       "      <th>4</th>\n",
       "      <td>6.103310</td>\n",
       "      <td>0.652003</td>\n",
       "      <td>0.024068</td>\n",
       "      <td>0.991990</td>\n",
       "    </tr>\n",
       "    <tr>\n",
       "      <th>5</th>\n",
       "      <td>1.789097</td>\n",
       "      <td>0.621096</td>\n",
       "      <td>0.022073</td>\n",
       "      <td>0.992674</td>\n",
       "    </tr>\n",
       "    <tr>\n",
       "      <th>6</th>\n",
       "      <td>2.501341</td>\n",
       "      <td>0.620940</td>\n",
       "      <td>0.019494</td>\n",
       "      <td>0.993836</td>\n",
       "    </tr>\n",
       "    <tr>\n",
       "      <th>7</th>\n",
       "      <td>1.636218</td>\n",
       "      <td>0.657511</td>\n",
       "      <td>0.016677</td>\n",
       "      <td>0.994962</td>\n",
       "    </tr>\n",
       "    <tr>\n",
       "      <th>8</th>\n",
       "      <td>3.380966</td>\n",
       "      <td>0.581993</td>\n",
       "      <td>0.015577</td>\n",
       "      <td>0.994897</td>\n",
       "    </tr>\n",
       "    <tr>\n",
       "      <th>9</th>\n",
       "      <td>1.293769</td>\n",
       "      <td>0.557868</td>\n",
       "      <td>0.012003</td>\n",
       "      <td>0.996123</td>\n",
       "    </tr>\n",
       "  </tbody>\n",
       "</table>\n",
       "</div>"
      ],
      "text/plain": [
       "   val_loss  val_accuracy      loss  accuracy\n",
       "0  1.167990      0.557369  0.345848  0.829148\n",
       "1  2.956728      0.589719  0.077476  0.972559\n",
       "2  4.744418      0.576519  0.044850  0.984762\n",
       "3  1.922730      0.627878  0.031777  0.989049\n",
       "4  6.103310      0.652003  0.024068  0.991990\n",
       "5  1.789097      0.621096  0.022073  0.992674\n",
       "6  2.501341      0.620940  0.019494  0.993836\n",
       "7  1.636218      0.657511  0.016677  0.994962\n",
       "8  3.380966      0.581993  0.015577  0.994897\n",
       "9  1.293769      0.557868  0.012003  0.996123"
      ]
     },
     "execution_count": 22,
     "metadata": {},
     "output_type": "execute_result"
    }
   ],
   "source": [
    "metrics = pd.DataFrame(model.history.history)\n",
    "metrics"
   ]
  },
  {
   "cell_type": "code",
   "execution_count": 23,
   "metadata": {},
   "outputs": [
    {
     "data": {
      "text/plain": [
       "<matplotlib.axes._subplots.AxesSubplot at 0x2bf213f1e48>"
      ]
     },
     "execution_count": 23,
     "metadata": {},
     "output_type": "execute_result"
    },
    {
     "data": {
      "image/png": "[encoded data removed]",
      "text/plain": [
       "<Figure size 432x288 with 1 Axes>"
      ]
     },
     "metadata": {
      "needs_background": "light"
     },
     "output_type": "display_data"
    }
   ],
   "source": [
    "metrics[['loss', 'val_loss']].plot()"
   ]
  },
  {
   "cell_type": "code",
   "execution_count": 24,
   "metadata": {},
   "outputs": [
    {
     "data": {
      "text/plain": [
       "<matplotlib.axes._subplots.AxesSubplot at 0x2bf214e7f08>"
      ]
     },
     "execution_count": 24,
     "metadata": {},
     "output_type": "execute_result"
    },
    {
     "data": {
      "image/png": "[encoded data removed]",
      "text/plain": [
       "<Figure size 432x288 with 1 Axes>"
      ]
     },
     "metadata": {
      "needs_background": "light"
     },
     "output_type": "display_data"
    }
   ],
   "source": [
    "metrics[['accuracy', 'val_accuracy']].plot()"
   ]
  },
  {
   "cell_type": "code",
   "execution_count": 25,
   "metadata": {},
   "outputs": [
    {
     "data": {
      "text/plain": [
       "[5.2555289934207865, 0.17676767706871033]"
      ]
     },
     "execution_count": 25,
     "metadata": {},
     "output_type": "execute_result"
    }
   ],
   "source": [
    "model.evaluate(X_test, y_test, verbose=0)"
   ]
  },
  {
   "cell_type": "code",
   "execution_count": 26,
   "metadata": {},
   "outputs": [
    {
     "name": "stdout",
     "output_type": "stream",
     "text": [
      "              precision    recall  f1-score   support\n",
      "\n",
      "           0       0.26      0.24      0.25       792\n",
      "           1       0.08      0.09      0.09       594\n",
      "\n",
      "    accuracy                           0.18      1386\n",
      "   macro avg       0.17      0.17      0.17      1386\n",
      "weighted avg       0.18      0.18      0.18      1386\n",
      "\n"
     ]
    }
   ],
   "source": [
    "from sklearn.metrics import classification_report\n",
    "prediction = model.predict_classes(X_test)\n",
    "print(classification_report(y_test, prediction))"
   ]
  },
  {
   "cell_type": "code",
   "execution_count": 27,
   "metadata": {},
   "outputs": [
    {
     "data": {
      "text/plain": [
       "array([[192, 600],\n",
       "       [541,  53]], dtype=int64)"
      ]
     },
     "execution_count": 27,
     "metadata": {},
     "output_type": "execute_result"
    }
   ],
   "source": [
    "from sklearn.metrics import confusion_matrix\n",
    "prediction = model.predict_classes(X_test)\n",
    "confusion_matrix(y_test, prediction)"
   ]
  },
  {
   "cell_type": "code",
   "execution_count": 28,
   "metadata": {},
   "outputs": [
    {
     "data": {
      "text/plain": [
       "array([[1],\n",
       "       [1],\n",
       "       [1],\n",
       "       ...,\n",
       "       [1],\n",
       "       [1],\n",
       "       [1]])"
      ]
     },
     "execution_count": 28,
     "metadata": {},
     "output_type": "execute_result"
    }
   ],
   "source": [
    "prediction"
   ]
  },
  {
   "cell_type": "code",
   "execution_count": 29,
   "metadata": {},
   "outputs": [
    {
     "data": {
      "text/plain": [
       "array([0, 0, 0, ..., 1, 1, 1])"
      ]
     },
     "execution_count": 29,
     "metadata": {},
     "output_type": "execute_result"
    }
   ],
   "source": [
    "y_test"
   ]
  },
  {
   "cell_type": "code",
   "execution_count": null,
   "metadata": {},
   "outputs": [],
   "source": [
    "X_test"
   ]
  },
  {
   "cell_type": "code",
   "execution_count": null,
   "metadata": {},
   "outputs": [],
   "source": []
  },
  {
   "cell_type": "code",
   "execution_count": null,
   "metadata": {},
   "outputs": [],
   "source": []
  },
  {
   "cell_type": "code",
   "execution_count": null,
   "metadata": {},
   "outputs": [],
   "source": []
  },
  {
   "cell_type": "code",
   "execution_count": null,
   "metadata": {},
   "outputs": [],
   "source": []
  },
  {
   "cell_type": "code",
   "execution_count": null,
   "metadata": {},
   "outputs": [],
   "source": []
  },
  {
   "cell_type": "code",
   "execution_count": null,
   "metadata": {},
   "outputs": [],
   "source": []
  },
  {
   "cell_type": "code",
   "execution_count": null,
   "metadata": {},
   "outputs": [],
   "source": []
  },
  {
   "cell_type": "code",
   "execution_count": null,
   "metadata": {},
   "outputs": [],
   "source": []
  },
  {
   "cell_type": "code",
   "execution_count": 31,
   "metadata": {},
   "outputs": [],
   "source": [
    "from keras.models import load_model\n",
    "model = load_model('CNN_Model.h5')"
   ]
  },
  {
   "cell_type": "code",
   "execution_count": 32,
   "metadata": {},
   "outputs": [
    {
     "name": "stdout",
     "output_type": "stream",
     "text": [
      "Model: \"sequential_1\"\n",
      "_________________________________________________________________\n",
      "Layer (type)                 Output Shape              Param #   \n",
      "=================================================================\n",
      "conv2d_1 (Conv2D)            (None, 148, 148, 32)      896       \n",
      "_________________________________________________________________\n",
      "max_pooling2d_1 (MaxPooling2 (None, 49, 49, 32)        0         \n",
      "_________________________________________________________________\n",
      "conv2d_2 (Conv2D)            (None, 47, 47, 32)        9248      \n",
      "_________________________________________________________________\n",
      "max_pooling2d_2 (MaxPooling2 (None, 15, 15, 32)        0         \n",
      "_________________________________________________________________\n",
      "conv2d_3 (Conv2D)            (None, 13, 13, 64)        18496     \n",
      "_________________________________________________________________\n",
      "max_pooling2d_3 (MaxPooling2 (None, 4, 4, 64)          0         \n",
      "_________________________________________________________________\n",
      "flatten_1 (Flatten)          (None, 1024)              0         \n",
      "_________________________________________________________________\n",
      "dense_1 (Dense)              (None, 512)               524800    \n",
      "_________________________________________________________________\n",
      "dropout_1 (Dropout)          (None, 512)               0         \n",
      "_________________________________________________________________\n",
      "dense_2 (Dense)              (None, 1)                 513       \n",
      "=================================================================\n",
      "Total params: 553,953\n",
      "Trainable params: 553,953\n",
      "Non-trainable params: 0\n",
      "_________________________________________________________________\n"
     ]
    }
   ],
   "source": [
    "model.summary()"
   ]
  },
  {
   "cell_type": "code",
   "execution_count": 33,
   "metadata": {},
   "outputs": [
    {
     "data": {
      "text/plain": [
       "array([[192, 600],\n",
       "       [541,  53]], dtype=int64)"
      ]
     },
     "execution_count": 33,
     "metadata": {},
     "output_type": "execute_result"
    }
   ],
   "source": [
    "from sklearn.metrics import confusion_matrix\n",
    "prediction = model.predict_classes(X_test)\n",
    "confusion_matrix(y_test, prediction)"
   ]
  },
  {
   "cell_type": "code",
   "execution_count": 34,
   "metadata": {},
   "outputs": [
    {
     "name": "stdout",
     "output_type": "stream",
     "text": [
      "Epoch 1/10\n",
      "1000/1000 [==============================] - 171s 171ms/step - loss: 0.0170 - accuracy: 0.9942 - val_loss: 2.3382 - val_accuracy: 0.6627\n",
      "Epoch 2/10\n",
      "1000/1000 [==============================] - 168s 168ms/step - loss: 0.0096 - accuracy: 0.9970 - val_loss: 2.2761 - val_accuracy: 0.6241\n",
      "Epoch 3/10\n",
      "1000/1000 [==============================] - 170s 170ms/step - loss: 0.0083 - accuracy: 0.9972 - val_loss: 1.4944 - val_accuracy: 0.6308\n",
      "Epoch 4/10\n",
      "1000/1000 [==============================] - 172s 172ms/step - loss: 0.0126 - accuracy: 0.9959 - val_loss: 1.7043 - val_accuracy: 0.6662\n",
      "Epoch 5/10\n",
      "1000/1000 [==============================] - 172s 172ms/step - loss: 0.0077 - accuracy: 0.9976 - val_loss: 1.0141 - val_accuracy: 0.5881\n",
      "Epoch 6/10\n",
      "1000/1000 [==============================] - 172s 172ms/step - loss: 0.0126 - accuracy: 0.9957 - val_loss: 4.0689 - val_accuracy: 0.5863\n",
      "Epoch 7/10\n",
      "1000/1000 [==============================] - 172s 172ms/step - loss: 0.0079 - accuracy: 0.9976 - val_loss: 3.2886 - val_accuracy: 0.5643\n",
      "Epoch 8/10\n",
      "1000/1000 [==============================] - 172s 172ms/step - loss: 0.0096 - accuracy: 0.9969 - val_loss: 3.9907 - val_accuracy: 0.6010\n",
      "Epoch 9/10\n",
      "1000/1000 [==============================] - 170s 170ms/step - loss: 0.0060 - accuracy: 0.9983 - val_loss: 2.5309 - val_accuracy: 0.6886\n",
      "Epoch 10/10\n",
      "1000/1000 [==============================] - 170s 170ms/step - loss: 0.0118 - accuracy: 0.9965 - val_loss: 2.5889 - val_accuracy: 0.5571\n"
     ]
    }
   ],
   "source": [
    "tf.debugging.set_log_device_placement(True)\n",
    "model.fit(\n",
    "        train_generator,\n",
    "        steps_per_epoch=1000,\n",
    "        epochs=10,\n",
    "        validation_data=validation_generator,\n",
    "        validation_steps=200)\n",
    "model.save('CNN_Model.h5')"
   ]
  },
  {
   "cell_type": "code",
   "execution_count": 35,
   "metadata": {},
   "outputs": [
    {
     "data": {
      "text/plain": [
       "array([[648, 144],\n",
       "       [593,   1]], dtype=int64)"
      ]
     },
     "execution_count": 35,
     "metadata": {},
     "output_type": "execute_result"
    }
   ],
   "source": [
    "prediction = model.predict_classes(X_test)\n",
    "confusion_matrix(y_test, prediction)"
   ]
  },
  {
   "cell_type": "code",
   "execution_count": 36,
   "metadata": {},
   "outputs": [
    {
     "data": {
      "text/plain": [
       "[7.114040736947276, 0.4682539701461792]"
      ]
     },
     "execution_count": 36,
     "metadata": {},
     "output_type": "execute_result"
    }
   ],
   "source": [
    "model.evaluate(X_test, y_test, verbose=0)"
   ]
  },
  {
   "cell_type": "code",
   "execution_count": 37,
   "metadata": {},
   "outputs": [],
   "source": [
    "#3\n",
    "model = load_model('CNN_Model.h5')"
   ]
  },
  {
   "cell_type": "code",
   "execution_count": 39,
   "metadata": {},
   "outputs": [
    {
     "name": "stdout",
     "output_type": "stream",
     "text": [
      "Model: \"sequential_1\"\n",
      "_________________________________________________________________\n",
      "Layer (type)                 Output Shape              Param #   \n",
      "=================================================================\n",
      "conv2d_1 (Conv2D)            (None, 148, 148, 32)      896       \n",
      "_________________________________________________________________\n",
      "max_pooling2d_1 (MaxPooling2 (None, 49, 49, 32)        0         \n",
      "_________________________________________________________________\n",
      "conv2d_2 (Conv2D)            (None, 47, 47, 32)        9248      \n",
      "_________________________________________________________________\n",
      "max_pooling2d_2 (MaxPooling2 (None, 15, 15, 32)        0         \n",
      "_________________________________________________________________\n",
      "conv2d_3 (Conv2D)            (None, 13, 13, 64)        18496     \n",
      "_________________________________________________________________\n",
      "max_pooling2d_3 (MaxPooling2 (None, 4, 4, 64)          0         \n",
      "_________________________________________________________________\n",
      "flatten_1 (Flatten)          (None, 1024)              0         \n",
      "_________________________________________________________________\n",
      "dense_1 (Dense)              (None, 512)               524800    \n",
      "_________________________________________________________________\n",
      "dropout_1 (Dropout)          (None, 512)               0         \n",
      "_________________________________________________________________\n",
      "dense_2 (Dense)              (None, 1)                 513       \n",
      "=================================================================\n",
      "Total params: 553,953\n",
      "Trainable params: 553,953\n",
      "Non-trainable params: 0\n",
      "_________________________________________________________________\n"
     ]
    }
   ],
   "source": [
    "model.summary()"
   ]
  },
  {
   "cell_type": "code",
   "execution_count": 40,
   "metadata": {},
   "outputs": [
    {
     "name": "stdout",
     "output_type": "stream",
     "text": [
      "Epoch 1/10\n",
      "1000/1000 [==============================] - 175s 175ms/step - loss: 0.0061 - accuracy: 0.9983 - val_loss: 1.9451 - val_accuracy: 0.5990\n",
      "Epoch 2/10\n",
      "1000/1000 [==============================] - 173s 173ms/step - loss: 0.0104 - accuracy: 0.9967 - val_loss: 3.5257 - val_accuracy: 0.5315\n",
      "Epoch 3/10\n",
      "1000/1000 [==============================] - 171s 171ms/step - loss: 0.0063 - accuracy: 0.9985 - val_loss: 2.0374 - val_accuracy: 0.5910\n",
      "Epoch 4/10\n",
      "1000/1000 [==============================] - 171s 171ms/step - loss: 0.0092 - accuracy: 0.9973 - val_loss: 1.7638 - val_accuracy: 0.6009\n",
      "Epoch 5/10\n",
      "1000/1000 [==============================] - 172s 172ms/step - loss: 0.0064 - accuracy: 0.9982 - val_loss: 3.2175 - val_accuracy: 0.5102\n",
      "Epoch 6/10\n",
      "1000/1000 [==============================] - 170s 170ms/step - loss: 0.0042 - accuracy: 0.9990 - val_loss: 1.6454 - val_accuracy: 0.5811\n",
      "Epoch 7/10\n",
      "1000/1000 [==============================] - 171s 171ms/step - loss: 0.0079 - accuracy: 0.9976 - val_loss: 2.7059 - val_accuracy: 0.5889\n",
      "Epoch 8/10\n",
      "1000/1000 [==============================] - 171s 171ms/step - loss: 0.0093 - accuracy: 0.9976 - val_loss: 1.9958 - val_accuracy: 0.6671\n",
      "Epoch 9/10\n",
      "1000/1000 [==============================] - 170s 170ms/step - loss: 0.0025 - accuracy: 0.9992 - val_loss: 3.5758 - val_accuracy: 0.6550\n",
      "Epoch 10/10\n",
      "1000/1000 [==============================] - 167s 167ms/step - loss: 0.0081 - accuracy: 0.9974 - val_loss: 3.0541 - val_accuracy: 0.5984\n"
     ]
    }
   ],
   "source": [
    "tf.debugging.set_log_device_placement(True)\n",
    "model.fit(\n",
    "        train_generator,\n",
    "        steps_per_epoch=1000,\n",
    "        epochs=10,\n",
    "        validation_data=validation_generator,\n",
    "        validation_steps=200)\n",
    "model.save('CNN_Model.h5')"
   ]
  },
  {
   "cell_type": "code",
   "execution_count": 41,
   "metadata": {},
   "outputs": [
    {
     "data": {
      "text/plain": [
       "array([[ 19, 773],\n",
       "       [450, 144]], dtype=int64)"
      ]
     },
     "execution_count": 41,
     "metadata": {},
     "output_type": "execute_result"
    }
   ],
   "source": [
    "prediction = model.predict_classes(X_test)\n",
    "confusion_matrix(y_test, prediction)"
   ]
  },
  {
   "cell_type": "code",
   "execution_count": 42,
   "metadata": {},
   "outputs": [
    {
     "data": {
      "text/plain": [
       "[6.481940216488308, 0.11760462075471878]"
      ]
     },
     "execution_count": 42,
     "metadata": {},
     "output_type": "execute_result"
    }
   ],
   "source": [
    "model.evaluate(X_test, y_test, verbose=0)"
   ]
  },
  {
   "cell_type": "code",
   "execution_count": 43,
   "metadata": {},
   "outputs": [],
   "source": [
    "#4\n",
    "model = load_model('CNN_Model.h5')"
   ]
  },
  {
   "cell_type": "code",
   "execution_count": 44,
   "metadata": {},
   "outputs": [
    {
     "name": "stdout",
     "output_type": "stream",
     "text": [
      "Epoch 1/10\n",
      "1000/1000 [==============================] - 171s 171ms/step - loss: 0.0055 - accuracy: 0.9981 - val_loss: 2.6647 - val_accuracy: 0.5459\n",
      "Epoch 2/10\n",
      "1000/1000 [==============================] - 178s 178ms/step - loss: 0.0081 - accuracy: 0.9982 - val_loss: 3.3849 - val_accuracy: 0.5069\n",
      "Epoch 3/10\n",
      "1000/1000 [==============================] - 178s 178ms/step - loss: 0.0050 - accuracy: 0.9985 - val_loss: 1.2645 - val_accuracy: 0.6081\n",
      "Epoch 4/10\n",
      "1000/1000 [==============================] - 178s 178ms/step - loss: 0.0032 - accuracy: 0.9991 - val_loss: 3.2969 - val_accuracy: 0.6834\n",
      "Epoch 5/10\n",
      "1000/1000 [==============================] - 177s 177ms/step - loss: 0.0089 - accuracy: 0.9973 - val_loss: 4.0866 - val_accuracy: 0.6406\n",
      "Epoch 6/10\n",
      "1000/1000 [==============================] - 179s 179ms/step - loss: 0.0056 - accuracy: 0.9984 - val_loss: 2.9237 - val_accuracy: 0.5323\n",
      "Epoch 7/10\n",
      "1000/1000 [==============================] - 182s 182ms/step - loss: 0.0055 - accuracy: 0.9982 - val_loss: 2.0224 - val_accuracy: 0.6290\n",
      "Epoch 8/10\n",
      "1000/1000 [==============================] - 179s 179ms/step - loss: 0.0077 - accuracy: 0.9978 - val_loss: 5.6090 - val_accuracy: 0.5707\n",
      "Epoch 9/10\n",
      "1000/1000 [==============================] - 179s 179ms/step - loss: 0.0026 - accuracy: 0.9992 - val_loss: 3.6399 - val_accuracy: 0.5173\n",
      "Epoch 10/10\n",
      "1000/1000 [==============================] - 178s 178ms/step - loss: 0.0084 - accuracy: 0.9979 - val_loss: 1.9522 - val_accuracy: 0.5738\n"
     ]
    }
   ],
   "source": [
    "tf.debugging.set_log_device_placement(True)\n",
    "model.fit(\n",
    "        train_generator,\n",
    "        steps_per_epoch=1000,\n",
    "        epochs=10,\n",
    "        validation_data=validation_generator,\n",
    "        validation_steps=200)\n",
    "model.save('CNN_Model.h5')"
   ]
  },
  {
   "cell_type": "code",
   "execution_count": 45,
   "metadata": {},
   "outputs": [
    {
     "data": {
      "text/plain": [
       "[7.5653044554750295, 0.12265512347221375]"
      ]
     },
     "execution_count": 45,
     "metadata": {},
     "output_type": "execute_result"
    }
   ],
   "source": [
    "model.evaluate(X_test, y_test, verbose=0)"
   ]
  },
  {
   "cell_type": "code",
   "execution_count": 46,
   "metadata": {},
   "outputs": [
    {
     "data": {
      "text/plain": [
       "array([[  2, 790],\n",
       "       [426, 168]], dtype=int64)"
      ]
     },
     "execution_count": 46,
     "metadata": {},
     "output_type": "execute_result"
    }
   ],
   "source": [
    "prediction = model.predict_classes(X_test)\n",
    "confusion_matrix(y_test, prediction)"
   ]
  },
  {
   "cell_type": "code",
   "execution_count": 47,
   "metadata": {},
   "outputs": [],
   "source": [
    "#5\n",
    "model = load_model('CNN_Model.h5')"
   ]
  },
  {
   "cell_type": "code",
   "execution_count": 48,
   "metadata": {},
   "outputs": [
    {
     "name": "stdout",
     "output_type": "stream",
     "text": [
      "Epoch 1/10\n",
      "1000/1000 [==============================] - 180s 180ms/step - loss: 0.0062 - accuracy: 0.9983 - val_loss: 2.8304 - val_accuracy: 0.6282\n",
      "Epoch 2/10\n",
      "1000/1000 [==============================] - 178s 178ms/step - loss: 0.0031 - accuracy: 0.9990 - val_loss: 4.6002 - val_accuracy: 0.5378\n",
      "Epoch 3/10\n",
      "1000/1000 [==============================] - 179s 179ms/step - loss: 0.0070 - accuracy: 0.9983 - val_loss: 3.8792 - val_accuracy: 0.5740\n",
      "Epoch 4/10\n",
      "1000/1000 [==============================] - 181s 181ms/step - loss: 0.0049 - accuracy: 0.9986 - val_loss: 4.2021 - val_accuracy: 0.5957\n",
      "Epoch 5/10\n",
      "1000/1000 [==============================] - 181s 181ms/step - loss: 0.0077 - accuracy: 0.9986 - val_loss: 7.0648 - val_accuracy: 0.6641\n",
      "Epoch 6/10\n",
      "1000/1000 [==============================] - 181s 181ms/step - loss: 0.0072 - accuracy: 0.9978 - val_loss: 3.6430 - val_accuracy: 0.6123\n",
      "Epoch 7/10\n",
      "1000/1000 [==============================] - 185s 185ms/step - loss: 0.0055 - accuracy: 0.9986 - val_loss: 4.2164 - val_accuracy: 0.5875\n",
      "Epoch 8/10\n",
      "1000/1000 [==============================] - 182s 182ms/step - loss: 0.0050 - accuracy: 0.9988 - val_loss: 1.6783 - val_accuracy: 0.6021\n",
      "Epoch 9/10\n",
      "1000/1000 [==============================] - 181s 181ms/step - loss: 0.0070 - accuracy: 0.9981 - val_loss: 2.9233 - val_accuracy: 0.6820\n",
      "Epoch 10/10\n",
      "1000/1000 [==============================] - 179s 179ms/step - loss: 0.0042 - accuracy: 0.9990 - val_loss: 1.9258 - val_accuracy: 0.6019\n"
     ]
    }
   ],
   "source": [
    "tf.debugging.set_log_device_placement(True)\n",
    "model.fit(\n",
    "        train_generator,\n",
    "        steps_per_epoch=1000,\n",
    "        epochs=10,\n",
    "        validation_data=validation_generator,\n",
    "        validation_steps=200)\n",
    "model.save('CNN_Model.h5')"
   ]
  },
  {
   "cell_type": "code",
   "execution_count": 49,
   "metadata": {},
   "outputs": [
    {
     "data": {
      "text/plain": [
       "array([[ 47, 745],\n",
       "       [494, 100]], dtype=int64)"
      ]
     },
     "execution_count": 49,
     "metadata": {},
     "output_type": "execute_result"
    }
   ],
   "source": [
    "prediction = model.predict_classes(X_test)\n",
    "confusion_matrix(y_test, prediction)"
   ]
  },
  {
   "cell_type": "code",
   "execution_count": 50,
   "metadata": {},
   "outputs": [],
   "source": [
    "#5\n",
    "model = load_model('CNN_Model.h5')"
   ]
  },
  {
   "cell_type": "code",
   "execution_count": 53,
   "metadata": {},
   "outputs": [
    {
     "name": "stdout",
     "output_type": "stream",
     "text": [
      "Epoch 1/20\n",
      "1500/1500 [==============================] - 259s 173ms/step - loss: 0.0045 - accuracy: 0.9989 - val_loss: 2.8211 - val_accuracy: 0.5833\n",
      "Epoch 2/20\n",
      "1500/1500 [==============================] - 256s 170ms/step - loss: 0.0053 - accuracy: 0.9983 - val_loss: 2.4408 - val_accuracy: 0.6258\n",
      "Epoch 3/20\n",
      "1500/1500 [==============================] - 257s 172ms/step - loss: 0.0066 - accuracy: 0.9984 - val_loss: 9.6230 - val_accuracy: 0.6021\n",
      "Epoch 4/20\n",
      "1500/1500 [==============================] - 259s 172ms/step - loss: 0.0064 - accuracy: 0.9986 - val_loss: 2.2642 - val_accuracy: 0.6862\n",
      "Epoch 5/20\n",
      "1500/1500 [==============================] - 254s 170ms/step - loss: 0.0035 - accuracy: 0.9991 - val_loss: 11.8069 - val_accuracy: 0.5628\n",
      "Epoch 6/20\n",
      "1500/1500 [==============================] - 256s 170ms/step - loss: 0.0055 - accuracy: 0.9987 - val_loss: 2.0196 - val_accuracy: 0.6528\n",
      "Epoch 7/20\n",
      "1500/1500 [==============================] - 257s 171ms/step - loss: 0.0057 - accuracy: 0.9984 - val_loss: 4.0707 - val_accuracy: 0.7099\n",
      "Epoch 8/20\n",
      "1500/1500 [==============================] - 256s 170ms/step - loss: 0.0060 - accuracy: 0.9988 - val_loss: 0.9960 - val_accuracy: 0.6183\n",
      "Epoch 9/20\n",
      "1500/1500 [==============================] - 256s 170ms/step - loss: 0.0049 - accuracy: 0.9989 - val_loss: 1.6081 - val_accuracy: 0.6481\n",
      "Epoch 10/20\n",
      "1500/1500 [==============================] - 256s 171ms/step - loss: 0.0046 - accuracy: 0.9987 - val_loss: 1.2671 - val_accuracy: 0.6984\n",
      "Epoch 11/20\n",
      "1500/1500 [==============================] - 254s 169ms/step - loss: 0.0056 - accuracy: 0.9985 - val_loss: 3.6342 - val_accuracy: 0.6743\n",
      "Epoch 12/20\n",
      "1500/1500 [==============================] - 250s 167ms/step - loss: 5.9929e-04 - accuracy: 0.9997 - val_loss: 2.8009 - val_accuracy: 0.5965\n",
      "Epoch 13/20\n",
      "1500/1500 [==============================] - 250s 167ms/step - loss: 0.0085 - accuracy: 0.9985 - val_loss: 3.3048 - val_accuracy: 0.6241\n",
      "Epoch 14/20\n",
      "1500/1500 [==============================] - 249s 166ms/step - loss: 0.0027 - accuracy: 0.9994 - val_loss: 2.6016 - val_accuracy: 0.6668\n",
      "Epoch 15/20\n",
      "1500/1500 [==============================] - 249s 166ms/step - loss: 0.0055 - accuracy: 0.9987 - val_loss: 6.4288 - val_accuracy: 0.6072\n",
      "Epoch 16/20\n",
      "1500/1500 [==============================] - 249s 166ms/step - loss: 0.0027 - accuracy: 0.9991 - val_loss: 3.5333 - val_accuracy: 0.6508\n",
      "Epoch 17/20\n",
      "1500/1500 [==============================] - 255s 170ms/step - loss: 0.0050 - accuracy: 0.9989 - val_loss: 3.0529 - val_accuracy: 0.5126\n",
      "Epoch 18/20\n",
      "1500/1500 [==============================] - 257s 171ms/step - loss: 0.0045 - accuracy: 0.9990 - val_loss: 3.4755 - val_accuracy: 0.6068\n",
      "Epoch 19/20\n",
      "1500/1500 [==============================] - 256s 170ms/step - loss: 0.0058 - accuracy: 0.9988 - val_loss: 3.1950 - val_accuracy: 0.5585\n",
      "Epoch 20/20\n",
      "1500/1500 [==============================] - 260s 173ms/step - loss: 0.0029 - accuracy: 0.9993 - val_loss: 1.3461 - val_accuracy: 0.6056\n"
     ]
    }
   ],
   "source": [
    "tf.debugging.set_log_device_placement(True)\n",
    "model.fit(\n",
    "        train_generator,\n",
    "        steps_per_epoch=1500,\n",
    "        epochs=20,\n",
    "        validation_data=validation_generator,\n",
    "        validation_steps=200),\n",
    "model.save('CNN_Model.h5')"
   ]
  },
  {
   "cell_type": "code",
   "execution_count": 54,
   "metadata": {},
   "outputs": [
    {
     "data": {
      "text/plain": [
       "[5.59224305834089, 0.22077922523021698]"
      ]
     },
     "execution_count": 54,
     "metadata": {},
     "output_type": "execute_result"
    }
   ],
   "source": [
    "model.evaluate(X_test, y_test, verbose=0)"
   ]
  },
  {
   "cell_type": "code",
   "execution_count": 55,
   "metadata": {},
   "outputs": [
    {
     "data": {
      "text/plain": [
       "array([[269, 523],\n",
       "       [557,  37]], dtype=int64)"
      ]
     },
     "execution_count": 55,
     "metadata": {},
     "output_type": "execute_result"
    }
   ],
   "source": [
    "prediction = model.predict_classes(X_test)\n",
    "confusion_matrix(y_test, prediction)"
   ]
  },
  {
   "cell_type": "code",
   "execution_count": null,
   "metadata": {},
   "outputs": [],
   "source": []
  }
 ],
 "metadata": {
  "kernelspec": {
   "display_name": "Python 3",
   "language": "python",
   "name": "python3"
  },
  "language_info": {
   "codemirror_mode": {
    "name": "ipython",
    "version": 3
   },
   "file_extension": ".py",
   "mimetype": "text/x-python",
   "name": "python",
   "nbconvert_exporter": "python",
   "pygments_lexer": "ipython3",
   "version": "3.7.7"
  }
 },
 "nbformat": 4,
 "nbformat_minor": 4
}
